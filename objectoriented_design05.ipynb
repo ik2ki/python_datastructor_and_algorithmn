{
 "cells": [
  {
   "cell_type": "code",
   "execution_count": 1,
   "metadata": {},
   "outputs": [
    {
     "data": {
      "text/plain": [
       "__main__.Circle"
      ]
     },
     "execution_count": 1,
     "metadata": {},
     "output_type": "execute_result"
    }
   ],
   "source": [
    "import collections\n",
    "circle = collections.namedtuple(\"Circle\", \"x y radius\")\n",
    "circle"
   ]
  },
  {
   "cell_type": "code",
   "execution_count": 3,
   "metadata": {},
   "outputs": [
    {
     "data": {
      "text/plain": [
       "Circle(x=13, y=84, radius=9)"
      ]
     },
     "execution_count": 3,
     "metadata": {},
     "output_type": "execute_result"
    }
   ],
   "source": [
    "circle = circle(13, 84, 9)\n",
    "circle"
   ]
  },
  {
   "cell_type": "code",
   "execution_count": 4,
   "metadata": {},
   "outputs": [
    {
     "data": {
      "text/plain": [
       "<__main__.ClassName at 0x10ceee9d0>"
      ]
     },
     "execution_count": 4,
     "metadata": {},
     "output_type": "execute_result"
    }
   ],
   "source": [
    "class ClassName:\n",
    "    # 문장1\n",
    "    # ...\n",
    "    # 문장n\n",
    "    pass\n",
    "x = ClassName() # 클래스 정의에 따라 인스턴스 생성\n",
    "x"
   ]
  },
  {
   "cell_type": "code",
   "execution_count": 5,
   "metadata": {},
   "outputs": [],
   "source": [
    "# 한 클래스가 다른 클래스를 상속받지 않으면, 파이썬의 최상위 클래스인 object를 명시적으로 표기하는 것을 권장한다.\n",
    "# 좋은 예\n",
    "class SampleClass(object):\n",
    "    pass\n",
    "\n",
    "class OuterClass(object):\n",
    "    class InnerClass(object):\n",
    "        pass\n",
    "    \n",
    "class ParentClass(object):\n",
    "    pass\n",
    "\n",
    "class ChildClass(ParentClass):\n",
    "    \"\"\" 부모 클래스 상속\"\"\"\n",
    "    pass"
   ]
  },
  {
   "cell_type": "code",
   "execution_count": 6,
   "metadata": {},
   "outputs": [],
   "source": [
    "# 나쁜 예\n",
    "class SampleClass:\n",
    "    pass\n",
    "\n",
    "class OuterClass:\n",
    "    class InnerClass:\n",
    "        pass"
   ]
  },
  {
   "cell_type": "code",
   "execution_count": 7,
   "metadata": {},
   "outputs": [
    {
     "name": "stdout",
     "output_type": "stream",
     "text": [
      "False\n",
      "False\n",
      "2\n"
     ]
    }
   ],
   "source": [
    "class Symbol(object):\n",
    "    def __init__(self, value):\n",
    "        self.value = value\n",
    "        \n",
    "if __name__ == \"__main__\":\n",
    "    x = Symbol(\"Py\")\n",
    "    y = Symbol(\"Py\")\n",
    "    \n",
    "    symbols = set()\n",
    "    symbols.add(x)\n",
    "    symbols.add(y)\n",
    "    \n",
    "    print(x is y)\n",
    "    print(x == y)\n",
    "    print(len(symbols))"
   ]
  },
  {
   "cell_type": "code",
   "execution_count": 8,
   "metadata": {},
   "outputs": [
    {
     "ename": "TypeError",
     "evalue": "unhashable type: 'Symbol'",
     "output_type": "error",
     "traceback": [
      "\u001b[0;31m---------------------------------------------------------------------------\u001b[0m",
      "\u001b[0;31mTypeError\u001b[0m                                 Traceback (most recent call last)",
      "\u001b[0;32m<ipython-input-8-de2491931cb4>\u001b[0m in \u001b[0;36m<module>\u001b[0;34m\u001b[0m\n\u001b[1;32m     14\u001b[0m \u001b[0;34m\u001b[0m\u001b[0m\n\u001b[1;32m     15\u001b[0m     \u001b[0msymbols\u001b[0m \u001b[0;34m=\u001b[0m \u001b[0mset\u001b[0m\u001b[0;34m(\u001b[0m\u001b[0;34m)\u001b[0m\u001b[0;34m\u001b[0m\u001b[0;34m\u001b[0m\u001b[0m\n\u001b[0;32m---> 16\u001b[0;31m     \u001b[0msymbols\u001b[0m\u001b[0;34m.\u001b[0m\u001b[0madd\u001b[0m\u001b[0;34m(\u001b[0m\u001b[0mx\u001b[0m\u001b[0;34m)\u001b[0m\u001b[0;34m\u001b[0m\u001b[0;34m\u001b[0m\u001b[0m\n\u001b[0m\u001b[1;32m     17\u001b[0m     \u001b[0msymbols\u001b[0m\u001b[0;34m.\u001b[0m\u001b[0madd\u001b[0m\u001b[0;34m(\u001b[0m\u001b[0my\u001b[0m\u001b[0;34m)\u001b[0m\u001b[0;34m\u001b[0m\u001b[0;34m\u001b[0m\u001b[0m\n\u001b[1;32m     18\u001b[0m \u001b[0;34m\u001b[0m\u001b[0m\n",
      "\u001b[0;31mTypeError\u001b[0m: unhashable type: 'Symbol'"
     ]
    }
   ],
   "source": [
    "class Symbol(object):\n",
    "    def __init__(self, value):\n",
    "        self.value = value\n",
    "        \n",
    "    def __eq__(self, other):\n",
    "        if isinstance(self, other.__class__):\n",
    "            return self.value == other.value\n",
    "        else:\n",
    "            return NotImplemented\n",
    "        \n",
    "if __name__ == \"__main__\":\n",
    "    x = Symbol(\"Py\")\n",
    "    y = Symbol(\"Py\")\n",
    "    \n",
    "    symbols = set()\n",
    "    symbols.add(x)\n",
    "    symbols.add(y)\n",
    "    \n",
    "    print(x is y)\n",
    "    print(x == y)\n",
    "    print(len(symbols))"
   ]
  },
  {
   "cell_type": "code",
   "execution_count": 9,
   "metadata": {},
   "outputs": [
    {
     "name": "stdout",
     "output_type": "stream",
     "text": [
      "False\n",
      "True\n",
      "1\n"
     ]
    }
   ],
   "source": [
    "class Symbol(object):\n",
    "    def __init__(self, value):\n",
    "        self.value = value\n",
    "    \n",
    "    def __eq__(self, other):\n",
    "        if isinstance(self, other.__class__):\n",
    "            return self.value == other.value\n",
    "        else:\n",
    "            return NotImplemented\n",
    "    \n",
    "    def __hash__(self):\n",
    "        return hash(self.value)\n",
    "    \n",
    "if __name__ == \"__main__\":\n",
    "    x = Symbol(\"Py\")\n",
    "    y = Symbol(\"Py\")\n",
    "    \n",
    "    symbols = set()\n",
    "    symbols.add(x)\n",
    "    symbols.add(y)\n",
    "    \n",
    "    print(x is y)\n",
    "    print(x == y)\n",
    "    print(len(symbols))"
   ]
  },
  {
   "cell_type": "code",
   "execution_count": 26,
   "metadata": {},
   "outputs": [],
   "source": [
    "import math\n",
    "\n",
    "class Point(object):\n",
    "    def __init__(self, x = 0, y = 0):\n",
    "        self.x = x # 데이터 속성(attribute)\n",
    "        self.y = y\n",
    "        \n",
    "    def distance_from_origin(self): # 메서드 속성\n",
    "        return math.hypot(self.x, self.y)\n",
    "    \n",
    "    def __eq__(self, other):\n",
    "        return self.x == other.x and self.y == other.y\n",
    "    \n",
    "    def __repr__(self):\n",
    "        return \"point ({0.x!r}, {0.y!r})\".format(self)\n",
    "    \n",
    "    def __str__(self):\n",
    "        return \"({0.x!r})\".format(self)\n",
    "    \n",
    "class Circle(Point):\n",
    "    def __init__(self, radius, x=0, y=0):\n",
    "        super().__init__(x, y) # 생성 및 초기화\n",
    "        self.radius = radius\n",
    "        \n",
    "    def edge_distance_from_origin(self):\n",
    "        return abs(self.distance_from_origin() - self.radius)\n",
    "    \n",
    "    def area(self):\n",
    "        return math.pi(self.radius**2)\n",
    "    \n",
    "    def circumference(self):\n",
    "        return 2*math.pi*self.radius\n",
    "    \n",
    "    def __eq__(self, other):\n",
    "        return self.radius == other.radius and super().__eq__(other)\n",
    "    \n",
    "    def __repr__(self):\n",
    "        return \"circle ({0.radius!r}, {0.x!r})\".format(self)\n",
    "    \n",
    "    def __str__(self):\n",
    "        return repr(self)"
   ]
  },
  {
   "cell_type": "code",
   "execution_count": 18,
   "metadata": {},
   "outputs": [
    {
     "data": {
      "text/plain": [
       "point (3, 4)"
      ]
     },
     "execution_count": 18,
     "metadata": {},
     "output_type": "execute_result"
    }
   ],
   "source": [
    "a = Point(3, 4)\n",
    "a"
   ]
  },
  {
   "cell_type": "code",
   "execution_count": 19,
   "metadata": {},
   "outputs": [
    {
     "data": {
      "text/plain": [
       "'point (3, 4)'"
      ]
     },
     "execution_count": 19,
     "metadata": {},
     "output_type": "execute_result"
    }
   ],
   "source": [
    "repr(a)"
   ]
  },
  {
   "cell_type": "code",
   "execution_count": 20,
   "metadata": {},
   "outputs": [
    {
     "data": {
      "text/plain": [
       "'(3)'"
      ]
     },
     "execution_count": 20,
     "metadata": {},
     "output_type": "execute_result"
    }
   ],
   "source": [
    "str(a)"
   ]
  },
  {
   "cell_type": "code",
   "execution_count": 21,
   "metadata": {},
   "outputs": [
    {
     "data": {
      "text/plain": [
       "5.0"
      ]
     },
     "execution_count": 21,
     "metadata": {},
     "output_type": "execute_result"
    }
   ],
   "source": [
    "a.distance_from_origin()"
   ]
  },
  {
   "cell_type": "code",
   "execution_count": 27,
   "metadata": {},
   "outputs": [
    {
     "data": {
      "text/plain": [
       "circle (3, 2)"
      ]
     },
     "execution_count": 27,
     "metadata": {},
     "output_type": "execute_result"
    }
   ],
   "source": [
    "c = Circle(3,2,1)\n",
    "c"
   ]
  },
  {
   "cell_type": "code",
   "execution_count": 28,
   "metadata": {},
   "outputs": [
    {
     "data": {
      "text/plain": [
       "'circle (3, 2)'"
      ]
     },
     "execution_count": 28,
     "metadata": {},
     "output_type": "execute_result"
    }
   ],
   "source": [
    "repr(c)"
   ]
  },
  {
   "cell_type": "code",
   "execution_count": 29,
   "metadata": {},
   "outputs": [
    {
     "data": {
      "text/plain": [
       "'circle (3, 2)'"
      ]
     },
     "execution_count": 29,
     "metadata": {},
     "output_type": "execute_result"
    }
   ],
   "source": [
    "str(c)"
   ]
  },
  {
   "cell_type": "code",
   "execution_count": 30,
   "metadata": {},
   "outputs": [
    {
     "data": {
      "text/plain": [
       "18.84955592153876"
      ]
     },
     "execution_count": 30,
     "metadata": {},
     "output_type": "execute_result"
    }
   ],
   "source": [
    "c.circumference()"
   ]
  },
  {
   "cell_type": "code",
   "execution_count": 31,
   "metadata": {},
   "outputs": [
    {
     "data": {
      "text/plain": [
       "0.7639320225002102"
      ]
     },
     "execution_count": 31,
     "metadata": {},
     "output_type": "execute_result"
    }
   ],
   "source": [
    "c.edge_distance_from_origin()"
   ]
  },
  {
   "cell_type": "code",
   "execution_count": 35,
   "metadata": {},
   "outputs": [
    {
     "name": "stdout",
     "output_type": "stream",
     "text": [
      "random_tree 0.10281920199986416\n"
     ]
    }
   ],
   "source": [
    "import random\n",
    "import time\n",
    "\n",
    "def benchmark(func):\n",
    "    def wrapper(*args, **kwargs):\n",
    "        t = time.perf_counter()\n",
    "        res = func(*args, **kwargs)\n",
    "        print(\"{0} {1}\".format(func.__name__, time.perf_counter() - t))\n",
    "        return res\n",
    "    return wrapper\n",
    "\n",
    "@benchmark\n",
    "def random_tree(n):\n",
    "    temp = [n for n in range(n)]\n",
    "    for i in range(n+1):\n",
    "        temp[random.choice(temp)] = random.choice(temp)\n",
    "    return temp\n",
    "\n",
    "if __name__ == \"__main__\":\n",
    "    random_tree(10000)"
   ]
  },
  {
   "cell_type": "code",
   "execution_count": 36,
   "metadata": {},
   "outputs": [
    {
     "name": "stdout",
     "output_type": "stream",
     "text": [
      "foo(<__main__.A object at 0x10cf26d90>, 1) 실행\n",
      "class_foo(<class '__main__.A'>, 2) 실행: True\n",
      "class_foo(<class '__main__.A'>, 2) 실행: True\n",
      "static_foo(3) 실행\n",
      "static_foo(3) 실행\n"
     ]
    }
   ],
   "source": [
    "class A(object):\n",
    "    _hello = True\n",
    "    \n",
    "    def foo(self, x):\n",
    "        print(\"foo({0}, {1}) 실행\".format(self, x))\n",
    "        \n",
    "    @classmethod\n",
    "    def class_foo(cls, x):\n",
    "        print(\"class_foo({0}, {1}) 실행: {2}\".format(cls, x, cls._hello))\n",
    "        \n",
    "    @staticmethod\n",
    "    def static_foo(x):\n",
    "        print(\"static_foo({0}) 실행\".format(x))\n",
    "        \n",
    "if __name__ == \"__main__\":\n",
    "    a = A()\n",
    "    a.foo(1)\n",
    "    a.class_foo(2)\n",
    "    A.class_foo(2)\n",
    "    a.static_foo(3)\n",
    "    A.static_foo(3)"
   ]
  },
  {
   "cell_type": "code",
   "execution_count": 39,
   "metadata": {},
   "outputs": [],
   "source": [
    "class C:\n",
    "    def __init__(self, name):\n",
    "        self._name = name\n",
    "    @property\n",
    "    def name(self):\n",
    "        return self._name\n",
    "    @name.setter\n",
    "    def name(self, new_name):\n",
    "        self._name = \"{0} >> {1}\".format(self._name, new_name)"
   ]
  },
  {
   "cell_type": "code",
   "execution_count": 41,
   "metadata": {},
   "outputs": [
    {
     "data": {
      "text/plain": [
       "'진'"
      ]
     },
     "execution_count": 41,
     "metadata": {},
     "output_type": "execute_result"
    }
   ],
   "source": [
    "c = C(\"진\")\n",
    "c._name"
   ]
  },
  {
   "cell_type": "code",
   "execution_count": 42,
   "metadata": {},
   "outputs": [
    {
     "data": {
      "text/plain": [
       "'진'"
      ]
     },
     "execution_count": 42,
     "metadata": {},
     "output_type": "execute_result"
    }
   ],
   "source": [
    "c.name"
   ]
  },
  {
   "cell_type": "code",
   "execution_count": 43,
   "metadata": {},
   "outputs": [
    {
     "data": {
      "text/plain": [
       "'진 >> 아스틴'"
      ]
     },
     "execution_count": 43,
     "metadata": {},
     "output_type": "execute_result"
    }
   ],
   "source": [
    "c.name = \"아스틴\"\n",
    "c.name"
   ]
  },
  {
   "cell_type": "code",
   "execution_count": 46,
   "metadata": {},
   "outputs": [
    {
     "name": "stdout",
     "output_type": "stream",
     "text": [
      "제프, 점심시간입니다.\n",
      "제임스, 점심시간입니다.\n",
      "아스틴, 점심시간입니다.\n",
      "제임스, 최근시간입니다.\n",
      "아스틴, 최근시간입니다.\n"
     ]
    }
   ],
   "source": [
    "class Subscriber(object):\n",
    "    def __init__(self, name):\n",
    "        self.name = name\n",
    "        \n",
    "    def update(self, message):\n",
    "        print(\"{0}, {1}\".format(self.name, message))\n",
    "        \n",
    "class Publisher(object):\n",
    "    def __init__(self):\n",
    "        self.subscribers = set()\n",
    "        \n",
    "    def register(self, who):\n",
    "        self.subscribers.add(who)\n",
    "        \n",
    "    def unregister(self, who):\n",
    "        self.subscribers.discard(who)\n",
    "        \n",
    "    def dispatch(self, message):\n",
    "        for subscriber in self.subscribers:\n",
    "            subscriber.update(message)\n",
    "            \n",
    "if __name__ == \"__main__\":\n",
    "    pub = Publisher()\n",
    "    \n",
    "    astin = Subscriber(\"아스틴\")\n",
    "    james = Subscriber(\"제임스\")\n",
    "    jeff = Subscriber(\"제프\")\n",
    "    \n",
    "    pub.register(astin)\n",
    "    pub.register(james)\n",
    "    pub.register(jeff)\n",
    "    \n",
    "    pub.dispatch(\"점심시간입니다.\")\n",
    "    pub.unregister(jeff)\n",
    "    pub.dispatch(\"퇴근시간입니다.\")"
   ]
  },
  {
   "cell_type": "code",
   "execution_count": 51,
   "metadata": {},
   "outputs": [
    {
     "name": "stdout",
     "output_type": "stream",
     "text": [
      "아스틴, 점심시간입니다.\n",
      "제임스, 점심시간입니다.\n",
      "제프, 점심시간입니다.\n",
      "아스틴, 퇴근시간입니다.\n",
      "제임스, 퇴근시간입니다.\n"
     ]
    }
   ],
   "source": [
    "class SubscriberOne(object):\n",
    "    def __init__(self, name):\n",
    "        self.name = name\n",
    "        \n",
    "    def update(self, message):\n",
    "        print(\"{0}, {1}\".format(self.name, message))\n",
    "        \n",
    "class SubscriberTwo(object):\n",
    "    def __init__(self, name):\n",
    "        self.name = name\n",
    "        \n",
    "    def receive(self, message):\n",
    "        print(\"{0}, {1}\".format(self.name, message))\n",
    "        \n",
    "class Publisher(object):\n",
    "    def __init__(self):\n",
    "        self.subscribers = dict()\n",
    "        \n",
    "    def register(self, who, callback=None):\n",
    "        if callback is None:\n",
    "            callback = getattr(who, 'update')\n",
    "        self.subscribers[who] = callback\n",
    "        \n",
    "    def unregister(self, who):\n",
    "        del self.subscribers[who]\n",
    "        \n",
    "    def dispatch(self, message):\n",
    "        for subsciber, callback in self.subscribers.items():\n",
    "            callback(message)\n",
    "            \n",
    "if __name__ ==\"__main__\":\n",
    "    pub = Publisher()\n",
    "    \n",
    "    astin = SubscriberOne(\"아스틴\")\n",
    "    james = SubscriberTwo(\"제임스\")\n",
    "    jeff = SubscriberOne(\"제프\")\n",
    "    \n",
    "    pub.register(astin, astin.update)\n",
    "    pub.register(james, james.receive)\n",
    "    pub.register(jeff)\n",
    "    \n",
    "    pub.dispatch(\"점심시간입니다.\")\n",
    "    pub.unregister(jeff)\n",
    "    pub.dispatch(\"퇴근시간입니다.\")"
   ]
  },
  {
   "cell_type": "code",
   "execution_count": 52,
   "metadata": {},
   "outputs": [
    {
     "name": "stdout",
     "output_type": "stream",
     "text": [
      "아스틴, 점심시간입니다.\n",
      "제프, 점심시간입니다.\n",
      "아스틴, 퇴근시간입니다.\n",
      "제임스, 퇴근시간입니다.\n"
     ]
    }
   ],
   "source": [
    "class Subscriber(object):\n",
    "    def __init__(self, name):\n",
    "        self.name = name\n",
    "        \n",
    "    def update(self, message):\n",
    "        print(\"{0}, {1}\".format(self.name, message))\n",
    "        \n",
    "class Publisher(object):\n",
    "    def __init__(self, events):\n",
    "        self.subscribers = {event: dict() for event in events}\n",
    "        \n",
    "    def get_subscribers(self, event):\n",
    "        return self.subscribers[event]\n",
    "    \n",
    "    def register(self, event, who, callback=None):\n",
    "        if callback is None:\n",
    "            callback = getattr(who, 'update')\n",
    "        self.get_subscribers(event)[who] = callback\n",
    "        \n",
    "    def unregister(self, event, who):\n",
    "        del self.get_subscribers(event)[who]\n",
    "        \n",
    "    def dispatch(self, event, message):\n",
    "        for subsciber, callback in self.get_subscribers(event).items():\n",
    "            callback(message)\n",
    "            \n",
    "if __name__ == \"__main__\":\n",
    "    pub = Publisher([\"점심\", \"퇴근\"])\n",
    "    \n",
    "    astin = Subscriber(\"아스틴\")\n",
    "    james = Subscriber(\"제임스\")\n",
    "    jeff = Subscriber(\"제프\")\n",
    "    \n",
    "    pub.register(\"점심\", astin)\n",
    "    pub.register(\"퇴근\", astin)\n",
    "    pub.register(\"퇴근\", james)\n",
    "    pub.register(\"점심\", jeff)\n",
    "    \n",
    "    pub.dispatch(\"점심\", \"점심시간입니다.\")\n",
    "    pub.dispatch(\"퇴근\", \"퇴근시간입니다.\")"
   ]
  },
  {
   "cell_type": "code",
   "execution_count": 53,
   "metadata": {},
   "outputs": [
    {
     "data": {
      "text/plain": [
       "<__main__.SinEx at 0x10cf44910>"
      ]
     },
     "execution_count": 53,
     "metadata": {},
     "output_type": "execute_result"
    }
   ],
   "source": [
    "class SinEx:\n",
    "    _sing = None\n",
    "    \n",
    "    def __new__(self, *args, **kwargs):\n",
    "        if not self._sing:\n",
    "            self._sing = super(SinEx, self).__new__(self, *args, **kwargs)\n",
    "        return self._sing\n",
    "    \n",
    "x = SinEx()\n",
    "x"
   ]
  },
  {
   "cell_type": "code",
   "execution_count": 54,
   "metadata": {},
   "outputs": [
    {
     "data": {
      "text/plain": [
       "True"
      ]
     },
     "execution_count": 54,
     "metadata": {},
     "output_type": "execute_result"
    }
   ],
   "source": [
    "y = SinEx()\n",
    "x == y"
   ]
  },
  {
   "cell_type": "code",
   "execution_count": 55,
   "metadata": {},
   "outputs": [
    {
     "data": {
      "text/plain": [
       "<__main__.SinEx at 0x10cf44910>"
      ]
     },
     "execution_count": 55,
     "metadata": {},
     "output_type": "execute_result"
    }
   ],
   "source": [
    "y"
   ]
  },
  {
   "cell_type": "code",
   "execution_count": null,
   "metadata": {},
   "outputs": [],
   "source": []
  }
 ],
 "metadata": {
  "kernelspec": {
   "display_name": "Python 3",
   "language": "python",
   "name": "python3"
  },
  "language_info": {
   "codemirror_mode": {
    "name": "ipython",
    "version": 3
   },
   "file_extension": ".py",
   "mimetype": "text/x-python",
   "name": "python",
   "nbconvert_exporter": "python",
   "pygments_lexer": "ipython3",
   "version": "3.7.6"
  }
 },
 "nbformat": 4,
 "nbformat_minor": 4
}
