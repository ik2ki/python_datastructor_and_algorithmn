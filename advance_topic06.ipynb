{
 "cells": [
  {
   "cell_type": "code",
   "execution_count": 4,
   "metadata": {},
   "outputs": [
    {
     "data": {
      "text/plain": [
       "CompletedProcess(args=['sleep', '10'], returncode=0)"
      ]
     },
     "execution_count": 4,
     "metadata": {},
     "output_type": "execute_result"
    }
   ],
   "source": [
    "import subprocess\n",
    "subprocess.run([\"echo\", \"이것은 subprocess입니다.\"])\n",
    "subprocess.run([\"sleep\", \"10\"]) #10초 동안 sleep"
   ]
  },
  {
   "cell_type": "code",
   "execution_count": 5,
   "metadata": {},
   "outputs": [
    {
     "name": "stdout",
     "output_type": "stream",
     "text": [
      "스레드 1 : 처리 완료 0\r\n",
      "스레드 1 : 처리 완료 5\r\n",
      "스레드 1 : 처리 완료 6\r\n",
      "스레드 1 : 처리 완료 7\r\n",
      "스레드 1 : 처리 완료 8\r\n",
      "스레드 1 : 처리 완료 9\r\n",
      "스레드 1 : 처리 완료 10\r\n",
      "스레드 1 : 처리 완료 11\r\n",
      "스레드 1 : 처리 완료 12\r\n",
      "스레드 1 : 처리 완료 13\r\n",
      "스레드 1 : 처리 완료 14\r\n",
      "스레드 1 : 처리 완료 15\r\n",
      "스레드 2 : 처리 완료 1\r\n",
      "스레드 4 : 처리 완료 3\r\n",
      "스레드 1 : 처리 완료 16\r\n",
      "스레드 1 : 처리 완료 19\r\n",
      "스레드 3 : 처리 완료 2\r\n",
      "스레드 2 : 처리 완료 17\r\n",
      "스레드 5 : 처리 완료 4\r\n",
      "스레드 4 : 처리 완료 18\r\n"
     ]
    }
   ],
   "source": [
    "!python ext/ch06/1_threading_with_queue.py"
   ]
  },
  {
   "cell_type": "code",
   "execution_count": 13,
   "metadata": {},
   "outputs": [
    {
     "name": "stdout",
     "output_type": "stream",
     "text": [
      "스레드 123145573089280: 0\n",
      "\n",
      "스레드 123145573089280: 1\n",
      "\n",
      "스레드 123145573089280: 2\n",
      "\n",
      "스레드 123145573089280: 3\n",
      "\n",
      "스레드 123145573089280: 4\n",
      "\n",
      "스레드 123145573089280: 5\n",
      "\n",
      "스레드 123145573089280: 6\n",
      "\n",
      "스레드 123145573089280: 7\n",
      "\n",
      "스레드 123145573089280: 8\n",
      "\n",
      "스레드 123145573089280: 9\n",
      "\n",
      "스레드 123145573089280: 10\n",
      "\n",
      "스레드 123145573089280: 11\n",
      "\n",
      "스레드 123145573089280: 12\n",
      "\n",
      "스레드 123145573089280: 13\n",
      "\n",
      "스레드 123145573089280: 14\n",
      "\n",
      "스레드 123145573089280: 15\n",
      "\n",
      "스레드 123145573089280: 16\n",
      "\n",
      "스레드 123145573089280: 17\n",
      "\n",
      "스레드 123145573089280: 18\n",
      "\n",
      "스레드 123145573089280: 19\n",
      "\n"
     ]
    }
   ],
   "source": [
    "from threading import Thread, Lock\n",
    "import threading\n",
    "\n",
    "def worker(mutex, data, thread_safe):\n",
    "    if thread_safe:\n",
    "        mutex.acquire()\n",
    "    try:\n",
    "        print(\"스레드 {0}: {1}\\n\".format(threading.get_ident(), data))\n",
    "    finally:\n",
    "        if thread_safe:\n",
    "            mutex.release()\n",
    "            \n",
    "if __name__ == \"__main__\":\n",
    "    threads = []\n",
    "    thread_safe = False\n",
    "    mutex = Lock()\n",
    "    for i in range(20):\n",
    "        t = Thread(target=worker, args=(mutex, i, thread_safe))\n",
    "        t.start()\n",
    "        threads.append(t)\n",
    "    for t in threads:\n",
    "        t.join()"
   ]
  },
  {
   "cell_type": "code",
   "execution_count": 14,
   "metadata": {},
   "outputs": [
    {
     "name": "stdout",
     "output_type": "stream",
     "text": [
      "스레드 123145573089280: 0\n",
      "\n",
      "스레드 123145573089280: 1\n",
      "\n",
      "스레드 123145573089280: 2\n",
      "\n",
      "스레드 123145573089280: 3\n",
      "\n",
      "스레드 123145573089280: 4\n",
      "\n",
      "스레드 123145573089280: 5\n",
      "\n",
      "스레드 123145573089280: 6\n",
      "\n",
      "스레드 123145573089280: 7\n",
      "\n",
      "스레드 123145573089280: 8\n",
      "\n",
      "스레드 123145573089280: 9\n",
      "\n",
      "스레드 123145573089280: 10\n",
      "\n",
      "스레드 123145573089280: 11\n",
      "\n",
      "스레드 123145573089280: 12\n",
      "\n",
      "스레드 123145573089280: 13\n",
      "\n",
      "스레드 123145573089280: 14\n",
      "\n",
      "스레드 123145573089280: 15\n",
      "\n",
      "스레드 123145573089280: 16\n",
      "\n",
      "스레드 123145573089280: 17\n",
      "\n",
      "스레드 123145573089280: 18\n",
      "\n",
      "스레드 123145573089280: 19\n",
      "\n"
     ]
    }
   ],
   "source": [
    "from threading import Thread, Lock\n",
    "import threading\n",
    "\n",
    "def worker(mutex, data, thread_safe):\n",
    "    if thread_safe:\n",
    "        mutex.acquire()\n",
    "    try:\n",
    "        print(\"스레드 {0}: {1}\\n\".format(threading.get_ident(), data))\n",
    "    finally:\n",
    "        if thread_safe:\n",
    "            mutex.release()\n",
    "            \n",
    "if __name__ == \"__main__\":\n",
    "    threads = []\n",
    "    thread_safe = True\n",
    "    mutex = Lock()\n",
    "    for i in range(20):\n",
    "        t = Thread(target=worker, args=(mutex, i, thread_safe))\n",
    "        t.start()\n",
    "        threads.append(t)\n",
    "    for t in threads:\n",
    "        t.join()"
   ]
  },
  {
   "cell_type": "code",
   "execution_count": 4,
   "metadata": {},
   "outputs": [
    {
     "name": "stdout",
     "output_type": "stream",
     "text": [
      "획득: 스레드 0 | 스레드 풀: ['스레드 0']\n",
      "획득: 스레드 1 | 스레드 풀: ['스레드 0', '스레드 1']\n",
      "획득: 스레드 2 | 스레드 풀: ['스레드 0', '스레드 1', '스레드 2']\n",
      "획득: 스레드 0 | 스레드 풀: ['스레드 0', '스레드 1', '스레드 2', '스레드 0']\n",
      "획득: 스레드 3 | 스레드 풀: ['스레드 0', '스레드 1', '스레드 2', '스레드 0', '스레드 3']\n",
      "획득: 스레드 1 | 스레드 풀: ['스레드 0', '스레드 1', '스레드 2', '스레드 0', '스레드 3', '스레드 1']\n",
      "획득: 스레드 4 | 스레드 풀: ['스레드 0', '스레드 1', '스레드 2', '스레드 0', '스레드 3', '스레드 1', '스레드 4']\n",
      "획득: 스레드 2 | 스레드 풀: ['스레드 0', '스레드 1', '스레드 2', '스레드 0', '스레드 3', '스레드 1', '스레드 4', '스레드 2']\n",
      "획득: 스레드 5 | 스레드 풀: ['스레드 0', '스레드 1', '스레드 2', '스레드 0', '스레드 3', '스레드 1', '스레드 4', '스레드 2', '스레드 5']\n",
      "획득: 스레드 3 | 스레드 풀: ['스레드 0', '스레드 1', '스레드 2', '스레드 0', '스레드 3', '스레드 1', '스레드 4', '스레드 2', '스레드 5', '스레드 3']\n",
      "획득: 스레드 6 | 스레드 풀: ['스레드 0', '스레드 1', '스레드 2', '스레드 0', '스레드 3', '스레드 1', '스레드 4', '스레드 2', '스레드 5', '스레드 3', '스레드 6']\n",
      "획득: 스레드 4 | 스레드 풀: ['스레드 0', '스레드 1', '스레드 2', '스레드 0', '스레드 3', '스레드 1', '스레드 4', '스레드 2', '스레드 5', '스레드 3', '스레드 6', '스레드 4']\n",
      "획득: 스레드 7 | 스레드 풀: ['스레드 0', '스레드 1', '스레드 2', '스레드 0', '스레드 3', '스레드 1', '스레드 4', '스레드 2', '스레드 5', '스레드 3', '스레드 6', '스레드 4', '스레드 7']\n",
      "획득: 스레드 5 | 스레드 풀: ['스레드 0', '스레드 1', '스레드 2', '스레드 0', '스레드 3', '스레드 1', '스레드 4', '스레드 2', '스레드 5', '스레드 3', '스레드 6', '스레드 4', '스레드 7', '스레드 5']\n",
      "획득: 스레드 8 | 스레드 풀: ['스레드 0', '스레드 1', '스레드 2', '스레드 0', '스레드 3', '스레드 1', '스레드 4', '스레드 2', '스레드 5', '스레드 3', '스레드 6', '스레드 4', '스레드 7', '스레드 5', '스레드 8']\n",
      "획득: 스레드 6 | 스레드 풀: ['스레드 0', '스레드 1', '스레드 2', '스레드 0', '스레드 3', '스레드 1', '스레드 4', '스레드 2', '스레드 5', '스레드 3', '스레드 6', '스레드 4', '스레드 7', '스레드 5', '스레드 8', '스레드 6']\n",
      "획득: 스레드 9 | 스레드 풀: ['스레드 0', '스레드 1', '스레드 2', '스레드 0', '스레드 3', '스레드 1', '스레드 4', '스레드 2', '스레드 5', '스레드 3', '스레드 6', '스레드 4', '스레드 7', '스레드 5', '스레드 8', '스레드 6', '스레드 9']\n",
      "획득: 스레드 7 | 스레드 풀: ['스레드 0', '스레드 1', '스레드 2', '스레드 0', '스레드 3', '스레드 1', '스레드 4', '스레드 2', '스레드 5', '스레드 3', '스레드 6', '스레드 4', '스레드 7', '스레드 5', '스레드 8', '스레드 6', '스레드 9', '스레드 7']\n",
      "획득: 스레드 8 | 스레드 풀: ['스레드 0', '스레드 1', '스레드 2', '스레드 0', '스레드 3', '스레드 1', '스레드 4', '스레드 2', '스레드 5', '스레드 3', '스레드 6', '스레드 4', '스레드 7', '스레드 5', '스레드 8', '스레드 6', '스레드 9', '스레드 7', '스레드 8']\n",
      "획득: 스레드 9 | 스레드 풀: ['스레드 0', '스레드 1', '스레드 2', '스레드 0', '스레드 3', '스레드 1', '스레드 4', '스레드 2', '스레드 5', '스레드 3', '스레드 6', '스레드 4', '스레드 7', '스레드 5', '스레드 8', '스레드 6', '스레드 9', '스레드 7', '스레드 8', '스레드 9']\n"
     ]
    }
   ],
   "source": [
    "import threading\n",
    "import time\n",
    "\n",
    "class ThreadPool(object):\n",
    "    def __init__(self):\n",
    "        self.active = []\n",
    "        self.lock = threading.Lock()\n",
    "        \n",
    "    def acquire(self, name):\n",
    "        with self.lock:\n",
    "            self.active.append(name)\n",
    "            print(\"획득: {0} | 스레드 풀: {1}\".format(name, self.active))\n",
    "            \n",
    "    def release(self, name):\n",
    "        with self.lock:\n",
    "            self.active.append(name)\n",
    "            print(\"획득: {0} | 스레드 풀: {1}\".format(name, self.active))\n",
    "            \n",
    "def worker(semaphore, pool):\n",
    "    with semaphore:\n",
    "        name = threading.currentThread().getName()\n",
    "        pool.acquire(name)\n",
    "        time.sleep(1)\n",
    "        pool.release(name)\n",
    "            \n",
    "if __name__ == \"__main__\":\n",
    "    threads = []\n",
    "    pool = ThreadPool()\n",
    "    semaphore = threading.Semaphore(3)\n",
    "    for i in range(10):\n",
    "        t = threading.Thread(target=worker, name=\"스레드 \"+ str(i), args=(semaphore, pool))\n",
    "        t.start()\n",
    "        threads.append(t)\n",
    "    for t in threads:\n",
    "        t.join()"
   ]
  },
  {
   "cell_type": "code",
   "execution_count": null,
   "metadata": {},
   "outputs": [],
   "source": []
  }
 ],
 "metadata": {
  "kernelspec": {
   "display_name": "Python 3",
   "language": "python",
   "name": "python3"
  },
  "language_info": {
   "codemirror_mode": {
    "name": "ipython",
    "version": 3
   },
   "file_extension": ".py",
   "mimetype": "text/x-python",
   "name": "python",
   "nbconvert_exporter": "python",
   "pygments_lexer": "ipython3",
   "version": "3.7.6"
  }
 },
 "nbformat": 4,
 "nbformat_minor": 4
}
