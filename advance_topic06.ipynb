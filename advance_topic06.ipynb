{
 "cells": [
  {
   "cell_type": "code",
   "execution_count": 4,
   "metadata": {},
   "outputs": [
    {
     "data": {
      "text/plain": [
       "CompletedProcess(args=['sleep', '10'], returncode=0)"
      ]
     },
     "execution_count": 4,
     "metadata": {},
     "output_type": "execute_result"
    }
   ],
   "source": [
    "import subprocess\n",
    "subprocess.run([\"echo\", \"이것은 subprocess입니다.\"])\n",
    "subprocess.run([\"sleep\", \"10\"]) #10초 동안 sleep"
   ]
  },
  {
   "cell_type": "code",
   "execution_count": 5,
   "metadata": {},
   "outputs": [
    {
     "name": "stdout",
     "output_type": "stream",
     "text": [
      "스레드 1 : 처리 완료 0\r\n",
      "스레드 1 : 처리 완료 5\r\n",
      "스레드 1 : 처리 완료 6\r\n",
      "스레드 1 : 처리 완료 7\r\n",
      "스레드 1 : 처리 완료 8\r\n",
      "스레드 1 : 처리 완료 9\r\n",
      "스레드 1 : 처리 완료 10\r\n",
      "스레드 1 : 처리 완료 11\r\n",
      "스레드 1 : 처리 완료 12\r\n",
      "스레드 1 : 처리 완료 13\r\n",
      "스레드 1 : 처리 완료 14\r\n",
      "스레드 1 : 처리 완료 15\r\n",
      "스레드 2 : 처리 완료 1\r\n",
      "스레드 4 : 처리 완료 3\r\n",
      "스레드 1 : 처리 완료 16\r\n",
      "스레드 1 : 처리 완료 19\r\n",
      "스레드 3 : 처리 완료 2\r\n",
      "스레드 2 : 처리 완료 17\r\n",
      "스레드 5 : 처리 완료 4\r\n",
      "스레드 4 : 처리 완료 18\r\n"
     ]
    }
   ],
   "source": [
    "!python ext/ch06/1_threading_with_queue.py"
   ]
  },
  {
   "cell_type": "code",
   "execution_count": 13,
   "metadata": {},
   "outputs": [
    {
     "name": "stdout",
     "output_type": "stream",
     "text": [
      "스레드 123145573089280: 0\n",
      "\n",
      "스레드 123145573089280: 1\n",
      "\n",
      "스레드 123145573089280: 2\n",
      "\n",
      "스레드 123145573089280: 3\n",
      "\n",
      "스레드 123145573089280: 4\n",
      "\n",
      "스레드 123145573089280: 5\n",
      "\n",
      "스레드 123145573089280: 6\n",
      "\n",
      "스레드 123145573089280: 7\n",
      "\n",
      "스레드 123145573089280: 8\n",
      "\n",
      "스레드 123145573089280: 9\n",
      "\n",
      "스레드 123145573089280: 10\n",
      "\n",
      "스레드 123145573089280: 11\n",
      "\n",
      "스레드 123145573089280: 12\n",
      "\n",
      "스레드 123145573089280: 13\n",
      "\n",
      "스레드 123145573089280: 14\n",
      "\n",
      "스레드 123145573089280: 15\n",
      "\n",
      "스레드 123145573089280: 16\n",
      "\n",
      "스레드 123145573089280: 17\n",
      "\n",
      "스레드 123145573089280: 18\n",
      "\n",
      "스레드 123145573089280: 19\n",
      "\n"
     ]
    }
   ],
   "source": [
    "from threading import Thread, Lock\n",
    "import threading\n",
    "\n",
    "def worker(mutex, data, thread_safe):\n",
    "    if thread_safe:\n",
    "        mutex.acquire()\n",
    "    try:\n",
    "        print(\"스레드 {0}: {1}\\n\".format(threading.get_ident(), data))\n",
    "    finally:\n",
    "        if thread_safe:\n",
    "            mutex.release()\n",
    "            \n",
    "if __name__ == \"__main__\":\n",
    "    threads = []\n",
    "    thread_safe = False\n",
    "    mutex = Lock()\n",
    "    for i in range(20):\n",
    "        t = Thread(target=worker, args=(mutex, i, thread_safe))\n",
    "        t.start()\n",
    "        threads.append(t)\n",
    "    for t in threads:\n",
    "        t.join()"
   ]
  },
  {
   "cell_type": "code",
   "execution_count": 14,
   "metadata": {},
   "outputs": [
    {
     "name": "stdout",
     "output_type": "stream",
     "text": [
      "스레드 123145573089280: 0\n",
      "\n",
      "스레드 123145573089280: 1\n",
      "\n",
      "스레드 123145573089280: 2\n",
      "\n",
      "스레드 123145573089280: 3\n",
      "\n",
      "스레드 123145573089280: 4\n",
      "\n",
      "스레드 123145573089280: 5\n",
      "\n",
      "스레드 123145573089280: 6\n",
      "\n",
      "스레드 123145573089280: 7\n",
      "\n",
      "스레드 123145573089280: 8\n",
      "\n",
      "스레드 123145573089280: 9\n",
      "\n",
      "스레드 123145573089280: 10\n",
      "\n",
      "스레드 123145573089280: 11\n",
      "\n",
      "스레드 123145573089280: 12\n",
      "\n",
      "스레드 123145573089280: 13\n",
      "\n",
      "스레드 123145573089280: 14\n",
      "\n",
      "스레드 123145573089280: 15\n",
      "\n",
      "스레드 123145573089280: 16\n",
      "\n",
      "스레드 123145573089280: 17\n",
      "\n",
      "스레드 123145573089280: 18\n",
      "\n",
      "스레드 123145573089280: 19\n",
      "\n"
     ]
    }
   ],
   "source": [
    "from threading import Thread, Lock\n",
    "import threading\n",
    "\n",
    "def worker(mutex, data, thread_safe):\n",
    "    if thread_safe:\n",
    "        mutex.acquire()\n",
    "    try:\n",
    "        print(\"스레드 {0}: {1}\\n\".format(threading.get_ident(), data))\n",
    "    finally:\n",
    "        if thread_safe:\n",
    "            mutex.release()\n",
    "            \n",
    "if __name__ == \"__main__\":\n",
    "    threads = []\n",
    "    thread_safe = True\n",
    "    mutex = Lock()\n",
    "    for i in range(20):\n",
    "        t = Thread(target=worker, args=(mutex, i, thread_safe))\n",
    "        t.start()\n",
    "        threads.append(t)\n",
    "    for t in threads:\n",
    "        t.join()"
   ]
  },
  {
   "cell_type": "code",
   "execution_count": 4,
   "metadata": {},
   "outputs": [
    {
     "name": "stdout",
     "output_type": "stream",
     "text": [
      "획득: 스레드 0 | 스레드 풀: ['스레드 0']\n",
      "획득: 스레드 1 | 스레드 풀: ['스레드 0', '스레드 1']\n",
      "획득: 스레드 2 | 스레드 풀: ['스레드 0', '스레드 1', '스레드 2']\n",
      "획득: 스레드 0 | 스레드 풀: ['스레드 0', '스레드 1', '스레드 2', '스레드 0']\n",
      "획득: 스레드 3 | 스레드 풀: ['스레드 0', '스레드 1', '스레드 2', '스레드 0', '스레드 3']\n",
      "획득: 스레드 1 | 스레드 풀: ['스레드 0', '스레드 1', '스레드 2', '스레드 0', '스레드 3', '스레드 1']\n",
      "획득: 스레드 4 | 스레드 풀: ['스레드 0', '스레드 1', '스레드 2', '스레드 0', '스레드 3', '스레드 1', '스레드 4']\n",
      "획득: 스레드 2 | 스레드 풀: ['스레드 0', '스레드 1', '스레드 2', '스레드 0', '스레드 3', '스레드 1', '스레드 4', '스레드 2']\n",
      "획득: 스레드 5 | 스레드 풀: ['스레드 0', '스레드 1', '스레드 2', '스레드 0', '스레드 3', '스레드 1', '스레드 4', '스레드 2', '스레드 5']\n",
      "획득: 스레드 3 | 스레드 풀: ['스레드 0', '스레드 1', '스레드 2', '스레드 0', '스레드 3', '스레드 1', '스레드 4', '스레드 2', '스레드 5', '스레드 3']\n",
      "획득: 스레드 6 | 스레드 풀: ['스레드 0', '스레드 1', '스레드 2', '스레드 0', '스레드 3', '스레드 1', '스레드 4', '스레드 2', '스레드 5', '스레드 3', '스레드 6']\n",
      "획득: 스레드 4 | 스레드 풀: ['스레드 0', '스레드 1', '스레드 2', '스레드 0', '스레드 3', '스레드 1', '스레드 4', '스레드 2', '스레드 5', '스레드 3', '스레드 6', '스레드 4']\n",
      "획득: 스레드 7 | 스레드 풀: ['스레드 0', '스레드 1', '스레드 2', '스레드 0', '스레드 3', '스레드 1', '스레드 4', '스레드 2', '스레드 5', '스레드 3', '스레드 6', '스레드 4', '스레드 7']\n",
      "획득: 스레드 5 | 스레드 풀: ['스레드 0', '스레드 1', '스레드 2', '스레드 0', '스레드 3', '스레드 1', '스레드 4', '스레드 2', '스레드 5', '스레드 3', '스레드 6', '스레드 4', '스레드 7', '스레드 5']\n",
      "획득: 스레드 8 | 스레드 풀: ['스레드 0', '스레드 1', '스레드 2', '스레드 0', '스레드 3', '스레드 1', '스레드 4', '스레드 2', '스레드 5', '스레드 3', '스레드 6', '스레드 4', '스레드 7', '스레드 5', '스레드 8']\n",
      "획득: 스레드 6 | 스레드 풀: ['스레드 0', '스레드 1', '스레드 2', '스레드 0', '스레드 3', '스레드 1', '스레드 4', '스레드 2', '스레드 5', '스레드 3', '스레드 6', '스레드 4', '스레드 7', '스레드 5', '스레드 8', '스레드 6']\n",
      "획득: 스레드 9 | 스레드 풀: ['스레드 0', '스레드 1', '스레드 2', '스레드 0', '스레드 3', '스레드 1', '스레드 4', '스레드 2', '스레드 5', '스레드 3', '스레드 6', '스레드 4', '스레드 7', '스레드 5', '스레드 8', '스레드 6', '스레드 9']\n",
      "획득: 스레드 7 | 스레드 풀: ['스레드 0', '스레드 1', '스레드 2', '스레드 0', '스레드 3', '스레드 1', '스레드 4', '스레드 2', '스레드 5', '스레드 3', '스레드 6', '스레드 4', '스레드 7', '스레드 5', '스레드 8', '스레드 6', '스레드 9', '스레드 7']\n",
      "획득: 스레드 8 | 스레드 풀: ['스레드 0', '스레드 1', '스레드 2', '스레드 0', '스레드 3', '스레드 1', '스레드 4', '스레드 2', '스레드 5', '스레드 3', '스레드 6', '스레드 4', '스레드 7', '스레드 5', '스레드 8', '스레드 6', '스레드 9', '스레드 7', '스레드 8']\n",
      "획득: 스레드 9 | 스레드 풀: ['스레드 0', '스레드 1', '스레드 2', '스레드 0', '스레드 3', '스레드 1', '스레드 4', '스레드 2', '스레드 5', '스레드 3', '스레드 6', '스레드 4', '스레드 7', '스레드 5', '스레드 8', '스레드 6', '스레드 9', '스레드 7', '스레드 8', '스레드 9']\n"
     ]
    }
   ],
   "source": [
    "import threading\n",
    "import time\n",
    "\n",
    "class ThreadPool(object):\n",
    "    def __init__(self):\n",
    "        self.active = []\n",
    "        self.lock = threading.Lock()\n",
    "        \n",
    "    def acquire(self, name):\n",
    "        with self.lock:\n",
    "            self.active.append(name)\n",
    "            print(\"획득: {0} | 스레드 풀: {1}\".format(name, self.active))\n",
    "            \n",
    "    def release(self, name):\n",
    "        with self.lock:\n",
    "            self.active.append(name)\n",
    "            print(\"획득: {0} | 스레드 풀: {1}\".format(name, self.active))\n",
    "            \n",
    "def worker(semaphore, pool):\n",
    "    with semaphore:\n",
    "        name = threading.currentThread().getName()\n",
    "        pool.acquire(name)\n",
    "        time.sleep(1)\n",
    "        pool.release(name)\n",
    "            \n",
    "if __name__ == \"__main__\":\n",
    "    threads = []\n",
    "    pool = ThreadPool()\n",
    "    semaphore = threading.Semaphore(3)\n",
    "    for i in range(10):\n",
    "        t = threading.Thread(target=worker, name=\"스레드 \"+ str(i), args=(semaphore, pool))\n",
    "        t.start()\n",
    "        threads.append(t)\n",
    "    for t in threads:\n",
    "        t.join()"
   ]
  },
  {
   "cell_type": "code",
   "execution_count": 1,
   "metadata": {},
   "outputs": [
    {
     "name": "stdout",
     "output_type": "stream",
     "text": [
      "Collecting virtualenvwrapper\n",
      "  Downloading virtualenvwrapper-4.8.4.tar.gz (334 kB)\n",
      "\u001b[K     |████████████████████████████████| 334 kB 3.1 MB/s eta 0:00:01\n",
      "\u001b[?25hCollecting virtualenv\n",
      "  Downloading virtualenv-20.13.0-py2.py3-none-any.whl (6.5 MB)\n",
      "\u001b[K     |████████████████████████████████| 6.5 MB 5.0 MB/s eta 0:00:01     |██████████████████████████      | 5.3 MB 5.0 MB/s eta 0:00:01\n",
      "\u001b[?25hCollecting virtualenv-clone\n",
      "  Downloading virtualenv_clone-0.5.7-py3-none-any.whl (6.6 kB)\n",
      "Collecting stevedore\n",
      "  Downloading stevedore-3.5.0-py3-none-any.whl (49 kB)\n",
      "\u001b[K     |████████████████████████████████| 49 kB 3.4 MB/s eta 0:00:011\n",
      "\u001b[?25hCollecting pbr!=2.1.0,>=2.0.0\n",
      "  Using cached pbr-5.8.0-py2.py3-none-any.whl (112 kB)\n",
      "Requirement already satisfied: six<2,>=1.9.0 in /opt/anaconda3/lib/python3.9/site-packages (from virtualenv->virtualenvwrapper) (1.16.0)\n",
      "Collecting distlib<1,>=0.3.1\n",
      "  Downloading distlib-0.3.4-py2.py3-none-any.whl (461 kB)\n",
      "\u001b[K     |████████████████████████████████| 461 kB 11.4 MB/s eta 0:00:01\n",
      "\u001b[?25hCollecting platformdirs<3,>=2\n",
      "  Downloading platformdirs-2.4.1-py3-none-any.whl (14 kB)\n",
      "Requirement already satisfied: filelock<4,>=3.2 in /opt/anaconda3/lib/python3.9/site-packages (from virtualenv->virtualenvwrapper) (3.3.1)\n",
      "Building wheels for collected packages: virtualenvwrapper\n",
      "  Building wheel for virtualenvwrapper (setup.py) ... \u001b[?25ldone\n",
      "\u001b[?25h  Created wheel for virtualenvwrapper: filename=virtualenvwrapper-4.8.4-py2.py3-none-any.whl size=24868 sha256=de681f868fee17fbd80f254fd0db649c16113472950e76716e2322114af634b9\n",
      "  Stored in directory: /Users/h2k1/Library/Caches/pip/wheels/f1/24/6a/c76ff32d8b0117352f69662d9a59f613047992de89d932de5f\n",
      "Successfully built virtualenvwrapper\n",
      "Installing collected packages: platformdirs, pbr, distlib, virtualenv-clone, virtualenv, stevedore, virtualenvwrapper\n",
      "Successfully installed distlib-0.3.4 pbr-5.8.0 platformdirs-2.4.1 stevedore-3.5.0 virtualenv-20.13.0 virtualenv-clone-0.5.7 virtualenvwrapper-4.8.4\n"
     ]
    }
   ],
   "source": [
    "!pip install virtualenvwrapper"
   ]
  },
  {
   "cell_type": "code",
   "execution_count": 2,
   "metadata": {},
   "outputs": [
    {
     "name": "stdout",
     "output_type": "stream",
     "text": [
      "/Users/h2k1/Documents/python_datastructor_and_algorithmn\r\n"
     ]
    }
   ],
   "source": [
    "!pwd"
   ]
  },
  {
   "cell_type": "code",
   "execution_count": 3,
   "metadata": {},
   "outputs": [
    {
     "name": "stdout",
     "output_type": "stream",
     "text": [
      "env: WORKON_HOME=/Users/h2k1/Envs\n"
     ]
    }
   ],
   "source": [
    "%env WORKON_HOME=/Users/h2k1/Envs"
   ]
  },
  {
   "cell_type": "code",
   "execution_count": 4,
   "metadata": {},
   "outputs": [],
   "source": [
    "!mkdir -p $WORKON_HOME"
   ]
  },
  {
   "cell_type": "code",
   "execution_count": 5,
   "metadata": {},
   "outputs": [
    {
     "name": "stdout",
     "output_type": "stream",
     "text": [
      "\u001b[34mDesktop\u001b[m\u001b[m   \u001b[34mDownloads\u001b[m\u001b[m \u001b[34mLibrary\u001b[m\u001b[m   \u001b[34mMusic\u001b[m\u001b[m     \u001b[34mPublic\u001b[m\u001b[m\r\n",
      "\u001b[34mDocuments\u001b[m\u001b[m \u001b[34mEnvs\u001b[m\u001b[m      \u001b[34mMovies\u001b[m\u001b[m    \u001b[34mPictures\u001b[m\u001b[m\r\n"
     ]
    }
   ],
   "source": [
    "!ls /Users/h2k1"
   ]
  },
  {
   "cell_type": "code",
   "execution_count": 6,
   "metadata": {},
   "outputs": [
    {
     "name": "stdout",
     "output_type": "stream",
     "text": [
      "/Users/h2k1\n"
     ]
    }
   ],
   "source": [
    "%cd /Users/h2k1"
   ]
  },
  {
   "cell_type": "code",
   "execution_count": 7,
   "metadata": {},
   "outputs": [
    {
     "name": "stdout",
     "output_type": "stream",
     "text": [
      "/Users/h2k1\r\n"
     ]
    }
   ],
   "source": [
    "!pwd"
   ]
  },
  {
   "cell_type": "code",
   "execution_count": 11,
   "metadata": {},
   "outputs": [
    {
     "name": "stdout",
     "output_type": "stream",
     "text": [
      "virtualenvwrapper.user_scripts creating /Users/h2k1/Envs/premkproject\n",
      "virtualenvwrapper.user_scripts creating /Users/h2k1/Envs/postmkproject\n",
      "virtualenvwrapper.user_scripts creating /Users/h2k1/Envs/initialize\n",
      "virtualenvwrapper.user_scripts creating /Users/h2k1/Envs/premkvirtualenv\n",
      "virtualenvwrapper.user_scripts creating /Users/h2k1/Envs/postmkvirtualenv\n",
      "virtualenvwrapper.user_scripts creating /Users/h2k1/Envs/prermvirtualenv\n",
      "virtualenvwrapper.user_scripts creating /Users/h2k1/Envs/postrmvirtualenv\n",
      "virtualenvwrapper.user_scripts creating /Users/h2k1/Envs/predeactivate\n",
      "virtualenvwrapper.user_scripts creating /Users/h2k1/Envs/postdeactivate\n",
      "virtualenvwrapper.user_scripts creating /Users/h2k1/Envs/preactivate\n",
      "virtualenvwrapper.user_scripts creating /Users/h2k1/Envs/postactivate\n",
      "virtualenvwrapper.user_scripts creating /Users/h2k1/Envs/get_env_details\n"
     ]
    }
   ],
   "source": [
    "!source virtualenvwrapper.sh"
   ]
  },
  {
   "cell_type": "code",
   "execution_count": 5,
   "metadata": {},
   "outputs": [],
   "source": [
    "!source /Users/h2k1/.bashrc"
   ]
  },
  {
   "cell_type": "code",
   "execution_count": 6,
   "metadata": {},
   "outputs": [
    {
     "name": "stdout",
     "output_type": "stream",
     "text": [
      "/bin/bash: mkvirtualenv: command not found\r\n"
     ]
    }
   ],
   "source": [
    "!mkvirtualenv "
   ]
  },
  {
   "cell_type": "code",
   "execution_count": 8,
   "metadata": {},
   "outputs": [
    {
     "name": "stdout",
     "output_type": "stream",
     "text": [
      "스레드 1 : 처리 완료 0\n",
      "스레드 1 : 처리 완료 2\n",
      "스레드 1 : 처리 완료 3\n",
      "스레드 1 : 처리 완료 4\n",
      "스레드 1 : 처리 완료 5\n",
      "스레드 1 : 처리 완료 6\n",
      "스레드 1 : 처리 완료 7\n",
      "스레드 2 : 처리 완료 1\n",
      "스레드 2 : 처리 완료 12\n",
      "스레드 2 : 처리 완료 13\n",
      "스레드 2 : 처리 완료 14\n",
      "스레드 2 : 처리 완료 15\n",
      "스레드 2 : 처리 완료 16\n",
      "스레드 2 : 처리 완료 17\n",
      "스레드 2 : 처리 완료 18\n",
      "스레드 2 : 처리 완료 19\n",
      "스레드 5 : 처리 완료 9\n",
      "스레드 1 : 처리 완료 8\n",
      "스레드 3 : 처리 완료 10\n",
      "스레드 4 : 처리 완료 11\n",
      ">>> \n",
      "KeyboardInterrupt\n",
      ">>> \n",
      ">>> "
     ]
    }
   ],
   "source": [
    "!python -i ext/ch06/1_threading_with_queue.py"
   ]
  },
  {
   "cell_type": "code",
   "execution_count": 9,
   "metadata": {},
   "outputs": [
    {
     "name": "stdout",
     "output_type": "stream",
     "text": [
      "> /Users/h2k1/Documents/python_datastructor_and_algorithmn/ext/ch06/1_threading_with_queue.py(1)<module>()\n",
      "-> import queue\n",
      "(Pdb) --KeyboardInterrupt--\n",
      "(Pdb) \n",
      "(Pdb) "
     ]
    }
   ],
   "source": [
    "!python -m pdb ext/ch06/1_threading_with_queue.py"
   ]
  },
  {
   "cell_type": "code",
   "execution_count": 11,
   "metadata": {},
   "outputs": [],
   "source": [
    "# 좋은 예\n",
    "items = ['<table>']\n",
    "employee_list = []\n",
    "for last_name, first_name in employee_list:\n",
    "    item.append('<tr><td>%s</td></tr>' % (last_name, first_name))\n",
    "    item.append('</table>')\n",
    "    employee_table = ''.join(items)"
   ]
  },
  {
   "cell_type": "code",
   "execution_count": 12,
   "metadata": {},
   "outputs": [],
   "source": [
    "# 나쁜 예\n",
    "employee_table = '<table>'\n",
    "employee_list = []\n",
    "for last_name, first_name in employee_list:\n",
    "    employee_table += '<tr><td>%s, %s</td></tr>' % (last_name, first_name)\n",
    "    employee_table += '</table>'"
   ]
  },
  {
   "cell_type": "code",
   "execution_count": 13,
   "metadata": {},
   "outputs": [
    {
     "name": "stdout",
     "output_type": "stream",
     "text": [
      "Hello World!\n",
      "         44 function calls in 5.002 seconds\n",
      "\n",
      "   Ordered by: standard name\n",
      "\n",
      "   ncalls  tottime  percall  cumtime  percall filename:lineno(function)\n",
      "        1    0.000    0.000    5.002    5.002 4101739028.py:10(main)\n",
      "        1    0.000    0.000    5.002    5.002 4101739028.py:4(sleep)\n",
      "        1    0.000    0.000    0.000    0.000 4101739028.py:7(hello_world)\n",
      "        1    0.000    0.000    5.002    5.002 <string>:1(<module>)\n",
      "        3    0.000    0.000    0.000    0.000 iostream.py:206(schedule)\n",
      "        2    0.000    0.000    0.000    0.000 iostream.py:418(_is_master_process)\n",
      "        2    0.000    0.000    0.000    0.000 iostream.py:437(_schedule_flush)\n",
      "        2    0.000    0.000    0.000    0.000 iostream.py:500(write)\n",
      "        3    0.000    0.000    0.000    0.000 iostream.py:96(_event_pipe)\n",
      "        3    0.000    0.000    0.000    0.000 socket.py:474(send)\n",
      "        3    0.000    0.000    0.000    0.000 threading.py:1059(_wait_for_tstate_lock)\n",
      "        3    0.000    0.000    0.000    0.000 threading.py:1113(is_alive)\n",
      "        3    0.000    0.000    0.000    0.000 threading.py:529(is_set)\n",
      "        1    0.000    0.000    5.002    5.002 {built-in method builtins.exec}\n",
      "        2    0.000    0.000    0.000    0.000 {built-in method builtins.isinstance}\n",
      "        2    0.000    0.000    0.000    0.000 {built-in method builtins.len}\n",
      "        1    0.000    0.000    0.000    0.000 {built-in method builtins.print}\n",
      "        2    0.000    0.000    0.000    0.000 {built-in method posix.getpid}\n",
      "        1    5.002    5.002    5.002    5.002 {built-in method time.sleep}\n",
      "        3    0.000    0.000    0.000    0.000 {method 'acquire' of '_thread.lock' objects}\n",
      "        3    0.000    0.000    0.000    0.000 {method 'append' of 'collections.deque' objects}\n",
      "        1    0.000    0.000    0.000    0.000 {method 'disable' of '_lsprof.Profiler' objects}\n",
      "\n",
      "\n"
     ]
    }
   ],
   "source": [
    "import cProfile\n",
    "import time\n",
    "\n",
    "def sleep():\n",
    "    time.sleep(5)\n",
    "    \n",
    "def hello_world():\n",
    "    print(\"Hello World!\")\n",
    "    \n",
    "def main():\n",
    "    sleep()\n",
    "    hello_world()\n",
    "    \n",
    "cProfile.run('main()')"
   ]
  },
  {
   "cell_type": "code",
   "execution_count": 16,
   "metadata": {},
   "outputs": [
    {
     "name": "stdout",
     "output_type": "stream",
     "text": [
      "스레드 1 : 처리 완료 0\r\n",
      "스레드 2 : 처리 완료 1\r\n",
      "스레드 4 : 처리 완료 3\r\n",
      "스레드 3 : 처리 완료 5\r\n",
      "스레드 3 : 처리 완료 8\r\n",
      "스레드 3 : 처리 완료 9\r\n",
      "스레드 3 : 처리 완료 10\r\n",
      "스레드 3 : 처리 완료 11\r\n",
      "스레드 3 : 처리 완료 12\r\n",
      "스레드 3 : 처리 완료 13\r\n",
      "스레드 3 : 처리 완료 14\r\n",
      "스레드 3 : 처리 완료 15\r\n",
      "스레드 3 : 처리 완료 16\r\n",
      "스레드 3 : 처리 완료 17\r\n",
      "스레드 3 : 처리 완료 18\r\n",
      "스레드 3 : 처리 완료 19\r\n",
      "스레드 1 : 처리 완료 2\r\n",
      "스레드 2 : 처리 완료 6\r\n",
      "스레드 5 : 처리 완료 4\r\n",
      "스레드 4 : 처리 완료 7\r\n"
     ]
    }
   ],
   "source": [
    "!python -m cProfile -o profile.dat ext/ch06/1_threading_with_queue.py"
   ]
  },
  {
   "cell_type": "code",
   "execution_count": 15,
   "metadata": {},
   "outputs": [
    {
     "name": "stdout",
     "output_type": "stream",
     "text": [
      "Welcome to the profile statistics browser.\n",
      "profile.dat% \n"
     ]
    }
   ],
   "source": [
    "!python -m pstats profile.dat"
   ]
  },
  {
   "cell_type": "code",
   "execution_count": 17,
   "metadata": {},
   "outputs": [
    {
     "data": {
      "text/plain": [
       "0.05883294199975353"
      ]
     },
     "execution_count": 17,
     "metadata": {},
     "output_type": "execute_result"
    }
   ],
   "source": [
    "import timeit\n",
    "timeit.timeit(\"x = 2 + 2\")"
   ]
  },
  {
   "cell_type": "code",
   "execution_count": 20,
   "metadata": {},
   "outputs": [
    {
     "data": {
      "text/plain": [
       "1.3612092869998378"
      ]
     },
     "execution_count": 20,
     "metadata": {},
     "output_type": "execute_result"
    }
   ],
   "source": [
    "timeit.timeit(\"x = sum(range(10))\")"
   ]
  },
  {
   "cell_type": "code",
   "execution_count": 21,
   "metadata": {},
   "outputs": [
    {
     "name": "stdout",
     "output_type": "stream",
     "text": [
      "2000000 loops, best of 5: 80 nsec per loop\r\n"
     ]
    }
   ],
   "source": [
    "!python -m timeit \"d = {}\""
   ]
  },
  {
   "cell_type": "code",
   "execution_count": 23,
   "metadata": {},
   "outputs": [
    {
     "name": "stdout",
     "output_type": "stream",
     "text": [
      "200000 loops, best of 5: 804 nsec per loop\r\n"
     ]
    }
   ],
   "source": [
    "!python -m timeit \"import collections\" \"d = collections.OrderedDict()\""
   ]
  },
  {
   "cell_type": "code",
   "execution_count": 24,
   "metadata": {},
   "outputs": [
    {
     "name": "stdout",
     "output_type": "stream",
     "text": [
      "총 합계: 15\t 시간:  0.0000041초\n",
      "총 합계: 20100\t 시간:  0.0000367초\n"
     ]
    }
   ],
   "source": [
    "import time\n",
    "\n",
    "def sumOfN2(n):\n",
    "    start = time.time()\n",
    "    theSum = 0\n",
    "    for i in range(1, n+1):\n",
    "        theSum = theSum + i\n",
    "    end = time.time()\n",
    "    return theSum, end-start\n",
    "\n",
    "if __name__ == \"__main__\":\n",
    "    n = 5\n",
    "    print(\"총 합계: %d\\t 시간: %10.7f초\" %(sumOfN2(n)))\n",
    "    n = 200\n",
    "    print(\"총 합계: %d\\t 시간: %10.7f초\" %(sumOfN2(n)))"
   ]
  },
  {
   "cell_type": "code",
   "execution_count": 25,
   "metadata": {},
   "outputs": [],
   "source": [
    "if __name__ == \"__main__\":\n",
    "    import doctest\n",
    "    doctest.testmod()"
   ]
  },
  {
   "cell_type": "code",
   "execution_count": 27,
   "metadata": {},
   "outputs": [],
   "source": [
    "def factorial(n):\n",
    "    import math\n",
    "    if not n >= 0:\n",
    "        raise ValueError(\"n must be >= 0\")\n",
    "    if math.floor(n) != n:\n",
    "        raise ValueError(\"n must be exact integer\")\n",
    "    if n + 1 == n: # catch a value like 1e300\n",
    "        raise OverflowError(\"n too large\")\n",
    "    result = 1\n",
    "    factor = 2\n",
    "    while factor <= n:\n",
    "        result *= factor\n",
    "        factor += 1\n",
    "    return result\n",
    "\n",
    "if __name__ == \"__main__\":\n",
    "    import doctest\n",
    "    doctest.testmod()"
   ]
  },
  {
   "cell_type": "code",
   "execution_count": 38,
   "metadata": {
    "scrolled": true
   },
   "outputs": [
    {
     "name": "stderr",
     "output_type": "stream",
     "text": [
      "."
     ]
    },
    {
     "name": "stdout",
     "output_type": "stream",
     "text": [
      "<unittest.runner.TextTestResult run=1 errors=0 failures=0>\n"
     ]
    },
    {
     "name": "stderr",
     "output_type": "stream",
     "text": [
      "\n",
      "----------------------------------------------------------------------\n",
      "Ran 1 test in 0.024s\n",
      "\n",
      "OK\n"
     ]
    }
   ],
   "source": [
    "import doctest\n",
    "import unittest\n",
    "import sys\n",
    "sys.path.append('/Users/h2k1/Documents/python_datastructor_and_algorithmn/ext/ch06/')\n",
    "import doctest_factorial\n",
    "\n",
    "suite = unittest.TestSuite()\n",
    "suite.addTest(doctest.DocTestSuite(doctest_factorial))\n",
    "runner = unittest.TextTestRunner()\n",
    "print(runner.run(suite))"
   ]
  },
  {
   "cell_type": "code",
   "execution_count": 1,
   "metadata": {},
   "outputs": [
    {
     "name": "stdout",
     "output_type": "stream",
     "text": [
      "Requirement already satisfied: pytest in /opt/anaconda3/lib/python3.9/site-packages (6.2.4)\n",
      "Requirement already satisfied: attrs>=19.2.0 in /opt/anaconda3/lib/python3.9/site-packages (from pytest) (21.2.0)\n",
      "Requirement already satisfied: iniconfig in /opt/anaconda3/lib/python3.9/site-packages (from pytest) (1.1.1)\n",
      "Requirement already satisfied: packaging in /opt/anaconda3/lib/python3.9/site-packages (from pytest) (21.0)\n",
      "Requirement already satisfied: pluggy<1.0.0a1,>=0.12 in /opt/anaconda3/lib/python3.9/site-packages (from pytest) (0.13.1)\n",
      "Requirement already satisfied: py>=1.8.2 in /opt/anaconda3/lib/python3.9/site-packages (from pytest) (1.10.0)\n",
      "Requirement already satisfied: toml in /opt/anaconda3/lib/python3.9/site-packages (from pytest) (0.10.2)\n",
      "Requirement already satisfied: pyparsing>=2.0.2 in /opt/anaconda3/lib/python3.9/site-packages (from packaging->pytest) (3.0.4)\n"
     ]
    }
   ],
   "source": [
    "!pip install pytest"
   ]
  },
  {
   "cell_type": "code",
   "execution_count": 2,
   "metadata": {},
   "outputs": [],
   "source": [
    "def func(x):\n",
    "    return x + 1\n",
    "\n",
    "def test_answer():\n",
    "    assert func(3) == 51"
   ]
  },
  {
   "cell_type": "code",
   "execution_count": 3,
   "metadata": {},
   "outputs": [
    {
     "name": "stdout",
     "output_type": "stream",
     "text": [
      "\u001b[1m============================= test session starts ==============================\u001b[0m\n",
      "platform darwin -- Python 3.9.7, pytest-6.2.4, py-1.10.0, pluggy-0.13.1\n",
      "rootdir: /Users/h2k1/Documents/python_datastructor_and_algorithmn\n",
      "plugins: anyio-2.2.0\n",
      "collected 1 item                                                               \u001b[0m\n",
      "\n",
      "ext/ch06/test_pytest.py \u001b[31mF\u001b[0m\u001b[31m                                                [100%]\u001b[0m\n",
      "\n",
      "=================================== FAILURES ===================================\n",
      "\u001b[31m\u001b[1m_________________________________ test_answer __________________________________\u001b[0m\n",
      "\n",
      "    \u001b[94mdef\u001b[39;49;00m \u001b[92mtest_answer\u001b[39;49;00m():\n",
      ">       \u001b[94massert\u001b[39;49;00m func(\u001b[94m3\u001b[39;49;00m) == \u001b[94m51\u001b[39;49;00m\n",
      "\u001b[1m\u001b[31mE       assert 4 == 51\u001b[0m\n",
      "\u001b[1m\u001b[31mE        +  where 4 = func(3)\u001b[0m\n",
      "\n",
      "\u001b[1m\u001b[31mext/ch06/test_pytest.py\u001b[0m:5: AssertionError\n",
      "=========================== short test summary info ============================\n",
      "FAILED ext/ch06/test_pytest.py::test_answer - assert 4 == 51\n",
      "\u001b[31m============================== \u001b[31m\u001b[1m1 failed\u001b[0m\u001b[31m in 0.73s\u001b[0m\u001b[31m ===============================\u001b[0m\n"
     ]
    }
   ],
   "source": [
    "!python -m pytest"
   ]
  },
  {
   "cell_type": "code",
   "execution_count": 6,
   "metadata": {},
   "outputs": [
    {
     "name": "stdout",
     "output_type": "stream",
     "text": [
      "\u001b[1m============================= test session starts ==============================\u001b[0m\n",
      "platform darwin -- Python 3.9.7, pytest-6.2.4, py-1.10.0, pluggy-0.13.1\n",
      "rootdir: /Users/h2k1/Documents/python_datastructor_and_algorithmn\n",
      "plugins: anyio-2.2.0\n",
      "collected 1 item                                                               \u001b[0m\n",
      "\n",
      "ext/ch06/test_pytest.py \u001b[31mF\u001b[0m\u001b[31m                                                [100%]\u001b[0m\n",
      "\n",
      "=================================== FAILURES ===================================\n",
      "\u001b[31m\u001b[1m_________________________________ test_answer __________________________________\u001b[0m\n",
      "\n",
      "    \u001b[94mdef\u001b[39;49;00m \u001b[92mtest_answer\u001b[39;49;00m():\n",
      ">       \u001b[94massert\u001b[39;49;00m func(\u001b[94m3\u001b[39;49;00m) == \u001b[94m51\u001b[39;49;00m\n",
      "\u001b[1m\u001b[31mE       assert 4 == 51\u001b[0m\n",
      "\u001b[1m\u001b[31mE        +  where 4 = func(3)\u001b[0m\n",
      "\n",
      "\u001b[1m\u001b[31mext/ch06/test_pytest.py\u001b[0m:5: AssertionError\n",
      "=========================== short test summary info ============================\n",
      "FAILED ext/ch06/test_pytest.py::test_answer - assert 4 == 51\n",
      "\u001b[31m============================== \u001b[31m\u001b[1m1 failed\u001b[0m\u001b[31m in 0.58s\u001b[0m\u001b[31m ===============================\u001b[0m\n"
     ]
    }
   ],
   "source": [
    "!py.test ext/ch06/test_pytest.py"
   ]
  },
  {
   "cell_type": "code",
   "execution_count": null,
   "metadata": {},
   "outputs": [],
   "source": []
  }
 ],
 "metadata": {
  "kernelspec": {
   "display_name": "Python 3 (ipykernel)",
   "language": "python",
   "name": "python3"
  },
  "language_info": {
   "codemirror_mode": {
    "name": "ipython",
    "version": 3
   },
   "file_extension": ".py",
   "mimetype": "text/x-python",
   "name": "python",
   "nbconvert_exporter": "python",
   "pygments_lexer": "ipython3",
   "version": "3.9.7"
  }
 },
 "nbformat": 4,
 "nbformat_minor": 4
}
