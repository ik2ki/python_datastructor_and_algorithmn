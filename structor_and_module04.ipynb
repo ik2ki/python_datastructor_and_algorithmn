{
 "cells": [
  {
   "cell_type": "code",
   "execution_count": 1,
   "metadata": {},
   "outputs": [
    {
     "data": {
      "text/plain": [
       "[5]"
      ]
     },
     "execution_count": 1,
     "metadata": {},
     "output_type": "execute_result"
    }
   ],
   "source": [
    "def append(number, number_list=[]):\n",
    "    number_list.append(number)\n",
    "    return number_list\n",
    "append(5)"
   ]
  },
  {
   "cell_type": "code",
   "execution_count": 2,
   "metadata": {},
   "outputs": [
    {
     "data": {
      "text/plain": [
       "[5, 7]"
      ]
     },
     "execution_count": 2,
     "metadata": {},
     "output_type": "execute_result"
    }
   ],
   "source": [
    "append(7)"
   ]
  },
  {
   "cell_type": "code",
   "execution_count": 3,
   "metadata": {},
   "outputs": [
    {
     "data": {
      "text/plain": [
       "[5, 7, 2]"
      ]
     },
     "execution_count": 3,
     "metadata": {},
     "output_type": "execute_result"
    }
   ],
   "source": [
    "append(2)"
   ]
  },
  {
   "cell_type": "code",
   "execution_count": 4,
   "metadata": {},
   "outputs": [
    {
     "data": {
      "text/plain": [
       "[5]"
      ]
     },
     "execution_count": 4,
     "metadata": {},
     "output_type": "execute_result"
    }
   ],
   "source": [
    "def append(number, number_list=None):\n",
    "    if number_list is None:\n",
    "        number_list = []\n",
    "    number_list.append(number)\n",
    "    return number_list\n",
    "append(5)"
   ]
  },
  {
   "cell_type": "code",
   "execution_count": 5,
   "metadata": {},
   "outputs": [
    {
     "data": {
      "text/plain": [
       "[7]"
      ]
     },
     "execution_count": 5,
     "metadata": {},
     "output_type": "execute_result"
    }
   ],
   "source": [
    "append(7)"
   ]
  },
  {
   "cell_type": "code",
   "execution_count": 6,
   "metadata": {},
   "outputs": [
    {
     "data": {
      "text/plain": [
       "[2]"
      ]
     },
     "execution_count": 6,
     "metadata": {},
     "output_type": "execute_result"
    }
   ],
   "source": [
    "append(2)"
   ]
  },
  {
   "cell_type": "code",
   "execution_count": 7,
   "metadata": {},
   "outputs": [
    {
     "name": "stdout",
     "output_type": "stream",
     "text": [
      "__main__ 직접 실행됨\n"
     ]
    }
   ],
   "source": [
    "hello = \"hello\"\n",
    "\n",
    "def world():\n",
    "    return \"world\"\n",
    "\n",
    "if __name__ == \"__main__\":\n",
    "    print(\"{0} 직접 실행됨\".format(__name__))\n",
    "else:\n",
    "    print(\"{0} 임포트됨\".format(__name))"
   ]
  },
  {
   "cell_type": "code",
   "execution_count": 28,
   "metadata": {},
   "outputs": [
    {
     "name": "stdout",
     "output_type": "stream",
     "text": [
      "ext.ch04.hello 임포트됨\n",
      "__main__\n"
     ]
    }
   ],
   "source": [
    "%%bash\n",
    "python\n",
    "import ext.ch04.hello\n",
    "ext.ch04.hello.world()\n",
    "print(__name__)\n",
    "quit()"
   ]
  },
  {
   "cell_type": "code",
   "execution_count": 29,
   "metadata": {},
   "outputs": [
    {
     "name": "stdout",
     "output_type": "stream",
     "text": [
      "__main__ 직접 실행됨\r\n"
     ]
    }
   ],
   "source": [
    "!python ext/ch04/hello.py"
   ]
  },
  {
   "cell_type": "code",
   "execution_count": 30,
   "metadata": {},
   "outputs": [
    {
     "name": "stdout",
     "output_type": "stream",
     "text": [
      "usage: python [option] ... [-c cmd | -m mod | file | -] [arg] ...\r\n",
      "Options and arguments (and corresponding environment variables):\r\n",
      "-b     : issue warnings about str(bytes_instance), str(bytearray_instance)\r\n",
      "         and comparing bytes/bytearray with str. (-bb: issue errors)\r\n",
      "-B     : don't write .pyc files on import; also PYTHONDONTWRITEBYTECODE=x\r\n",
      "-c cmd : program passed in as string (terminates option list)\r\n",
      "-d     : debug output from parser; also PYTHONDEBUG=x\r\n",
      "-E     : ignore PYTHON* environment variables (such as PYTHONPATH)\r\n",
      "-h     : print this help message and exit (also --help)\r\n",
      "-i     : inspect interactively after running script; forces a prompt even\r\n",
      "         if stdin does not appear to be a terminal; also PYTHONINSPECT=x\r\n",
      "-I     : isolate Python from the user's environment (implies -E and -s)\r\n",
      "-m mod : run library module as a script (terminates option list)\r\n",
      "-O     : remove assert and __debug__-dependent statements; add .opt-1 before\r\n",
      "         .pyc extension; also PYTHONOPTIMIZE=x\r\n",
      "-OO    : do -O changes and also discard docstrings; add .opt-2 before\r\n",
      "         .pyc extension\r\n",
      "-q     : don't print version and copyright messages on interactive startup\r\n",
      "-s     : don't add user site directory to sys.path; also PYTHONNOUSERSITE\r\n",
      "-S     : don't imply 'import site' on initialization\r\n",
      "-u     : force the stdout and stderr streams to be unbuffered;\r\n",
      "         this option has no effect on stdin; also PYTHONUNBUFFERED=x\r\n",
      "-v     : verbose (trace import statements); also PYTHONVERBOSE=x\r\n",
      "         can be supplied multiple times to increase verbosity\r\n",
      "-V     : print the Python version number and exit (also --version)\r\n",
      "         when given twice, print more information about the build\r\n",
      "-W arg : warning control; arg is action:message:category:module:lineno\r\n",
      "         also PYTHONWARNINGS=arg\r\n",
      "-x     : skip first line of source, allowing use of non-Unix forms of #!cmd\r\n",
      "-X opt : set implementation-specific option\r\n",
      "--check-hash-based-pycs always|default|never:\r\n",
      "    control how Python invalidates hash-based .pyc files\r\n",
      "file   : program read from script file\r\n",
      "-      : program read from stdin (default; interactive mode if a tty)\r\n",
      "arg ...: arguments passed to program in sys.argv[1:]\r\n",
      "\r\n",
      "Other environment variables:\r\n",
      "PYTHONSTARTUP: file executed on interactive startup (no default)\r\n",
      "PYTHONPATH   : ':'-separated list of directories prefixed to the\r\n",
      "               default module search path.  The result is sys.path.\r\n",
      "PYTHONHOME   : alternate <prefix> directory (or <prefix>:<exec_prefix>).\r\n",
      "               The default module search path uses <prefix>/lib/pythonX.X.\r\n",
      "PYTHONCASEOK : ignore case in 'import' statements (Windows).\r\n",
      "PYTHONUTF8: if set to 1, enable the UTF-8 mode.\r\n",
      "PYTHONIOENCODING: Encoding[:errors] used for stdin/stdout/stderr.\r\n",
      "PYTHONFAULTHANDLER: dump the Python traceback on fatal errors.\r\n",
      "PYTHONHASHSEED: if this variable is set to 'random', a random value is used\r\n",
      "   to seed the hashes of str, bytes and datetime objects.  It can also be\r\n",
      "   set to an integer in the range [0,4294967295] to get hash values with a\r\n",
      "   predictable seed.\r\n",
      "PYTHONMALLOC: set the Python memory allocators and/or install debug hooks\r\n",
      "   on Python memory allocators. Use PYTHONMALLOC=debug to install debug\r\n",
      "   hooks.\r\n",
      "PYTHONCOERCECLOCALE: if this variable is set to 0, it disables the locale\r\n",
      "   coercion behavior. Use PYTHONCOERCECLOCALE=warn to request display of\r\n",
      "   locale coercion and locale compatibility warnings on stderr.\r\n",
      "PYTHONBREAKPOINT: if this variable is set to 0, it disables the default\r\n",
      "   debugger. It can be set to the callable of your debugger of choice.\r\n",
      "PYTHONDEVMODE: enable the development mode.\r\n"
     ]
    }
   ],
   "source": [
    "!python --help"
   ]
  },
  {
   "cell_type": "code",
   "execution_count": 31,
   "metadata": {},
   "outputs": [
    {
     "name": "stdout",
     "output_type": "stream",
     "text": [
      "['', '/Users/h2k1/opt/anaconda3/lib/python37.zip', '/Users/h2k1/opt/anaconda3/lib/python3.7', '/Users/h2k1/opt/anaconda3/lib/python3.7/lib-dynload', '/Users/h2k1/opt/anaconda3/lib/python3.7/site-packages', '/Users/h2k1/opt/anaconda3/lib/python3.7/site-packages/aeosa']\n"
     ]
    }
   ],
   "source": [
    "%%bash\n",
    "python\n",
    "import sys\n",
    "print(sys.path)\n",
    "quit()"
   ]
  },
  {
   "cell_type": "code",
   "execution_count": null,
   "metadata": {},
   "outputs": [],
   "source": [
    "!python 1_sys_example.py 로미오 줄리엣"
   ]
  }
 ],
 "metadata": {
  "kernelspec": {
   "display_name": "Python 3",
   "language": "python",
   "name": "python3"
  },
  "language_info": {
   "codemirror_mode": {
    "name": "ipython",
    "version": 3
   },
   "file_extension": ".py",
   "mimetype": "text/x-python",
   "name": "python",
   "nbconvert_exporter": "python",
   "pygments_lexer": "ipython3",
   "version": "3.7.6"
  }
 },
 "nbformat": 4,
 "nbformat_minor": 4
}
