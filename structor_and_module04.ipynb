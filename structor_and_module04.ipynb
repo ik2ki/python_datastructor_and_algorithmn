{
 "cells": [
  {
   "cell_type": "code",
   "execution_count": 1,
   "metadata": {},
   "outputs": [
    {
     "data": {
      "text/plain": [
       "[5]"
      ]
     },
     "execution_count": 1,
     "metadata": {},
     "output_type": "execute_result"
    }
   ],
   "source": [
    "def append(number, number_list=[]):\n",
    "    number_list.append(number)\n",
    "    return number_list\n",
    "append(5)"
   ]
  },
  {
   "cell_type": "code",
   "execution_count": 2,
   "metadata": {},
   "outputs": [
    {
     "data": {
      "text/plain": [
       "[5, 7]"
      ]
     },
     "execution_count": 2,
     "metadata": {},
     "output_type": "execute_result"
    }
   ],
   "source": [
    "append(7)"
   ]
  },
  {
   "cell_type": "code",
   "execution_count": 3,
   "metadata": {},
   "outputs": [
    {
     "data": {
      "text/plain": [
       "[5, 7, 2]"
      ]
     },
     "execution_count": 3,
     "metadata": {},
     "output_type": "execute_result"
    }
   ],
   "source": [
    "append(2)"
   ]
  },
  {
   "cell_type": "code",
   "execution_count": 4,
   "metadata": {},
   "outputs": [
    {
     "data": {
      "text/plain": [
       "[5]"
      ]
     },
     "execution_count": 4,
     "metadata": {},
     "output_type": "execute_result"
    }
   ],
   "source": [
    "def append(number, number_list=None):\n",
    "    if number_list is None:\n",
    "        number_list = []\n",
    "    number_list.append(number)\n",
    "    return number_list\n",
    "append(5)"
   ]
  },
  {
   "cell_type": "code",
   "execution_count": 5,
   "metadata": {},
   "outputs": [
    {
     "data": {
      "text/plain": [
       "[7]"
      ]
     },
     "execution_count": 5,
     "metadata": {},
     "output_type": "execute_result"
    }
   ],
   "source": [
    "append(7)"
   ]
  },
  {
   "cell_type": "code",
   "execution_count": 6,
   "metadata": {},
   "outputs": [
    {
     "data": {
      "text/plain": [
       "[2]"
      ]
     },
     "execution_count": 6,
     "metadata": {},
     "output_type": "execute_result"
    }
   ],
   "source": [
    "append(2)"
   ]
  },
  {
   "cell_type": "code",
   "execution_count": 7,
   "metadata": {},
   "outputs": [
    {
     "name": "stdout",
     "output_type": "stream",
     "text": [
      "__main__ 직접 실행됨\n"
     ]
    }
   ],
   "source": [
    "hello = \"hello\"\n",
    "\n",
    "def world():\n",
    "    return \"world\"\n",
    "\n",
    "if __name__ == \"__main__\":\n",
    "    print(\"{0} 직접 실행됨\".format(__name__))\n",
    "else:\n",
    "    print(\"{0} 임포트됨\".format(__name))"
   ]
  },
  {
   "cell_type": "code",
   "execution_count": 28,
   "metadata": {},
   "outputs": [
    {
     "name": "stdout",
     "output_type": "stream",
     "text": [
      "ext.ch04.hello 임포트됨\n",
      "__main__\n"
     ]
    }
   ],
   "source": [
    "%%bash\n",
    "python\n",
    "import ext.ch04.hello\n",
    "ext.ch04.hello.world()\n",
    "print(__name__)\n",
    "quit()"
   ]
  },
  {
   "cell_type": "code",
   "execution_count": 29,
   "metadata": {},
   "outputs": [
    {
     "name": "stdout",
     "output_type": "stream",
     "text": [
      "__main__ 직접 실행됨\r\n"
     ]
    }
   ],
   "source": [
    "!python ext/ch04/hello.py"
   ]
  },
  {
   "cell_type": "code",
   "execution_count": 30,
   "metadata": {},
   "outputs": [
    {
     "name": "stdout",
     "output_type": "stream",
     "text": [
      "usage: python [option] ... [-c cmd | -m mod | file | -] [arg] ...\r\n",
      "Options and arguments (and corresponding environment variables):\r\n",
      "-b     : issue warnings about str(bytes_instance), str(bytearray_instance)\r\n",
      "         and comparing bytes/bytearray with str. (-bb: issue errors)\r\n",
      "-B     : don't write .pyc files on import; also PYTHONDONTWRITEBYTECODE=x\r\n",
      "-c cmd : program passed in as string (terminates option list)\r\n",
      "-d     : debug output from parser; also PYTHONDEBUG=x\r\n",
      "-E     : ignore PYTHON* environment variables (such as PYTHONPATH)\r\n",
      "-h     : print this help message and exit (also --help)\r\n",
      "-i     : inspect interactively after running script; forces a prompt even\r\n",
      "         if stdin does not appear to be a terminal; also PYTHONINSPECT=x\r\n",
      "-I     : isolate Python from the user's environment (implies -E and -s)\r\n",
      "-m mod : run library module as a script (terminates option list)\r\n",
      "-O     : remove assert and __debug__-dependent statements; add .opt-1 before\r\n",
      "         .pyc extension; also PYTHONOPTIMIZE=x\r\n",
      "-OO    : do -O changes and also discard docstrings; add .opt-2 before\r\n",
      "         .pyc extension\r\n",
      "-q     : don't print version and copyright messages on interactive startup\r\n",
      "-s     : don't add user site directory to sys.path; also PYTHONNOUSERSITE\r\n",
      "-S     : don't imply 'import site' on initialization\r\n",
      "-u     : force the stdout and stderr streams to be unbuffered;\r\n",
      "         this option has no effect on stdin; also PYTHONUNBUFFERED=x\r\n",
      "-v     : verbose (trace import statements); also PYTHONVERBOSE=x\r\n",
      "         can be supplied multiple times to increase verbosity\r\n",
      "-V     : print the Python version number and exit (also --version)\r\n",
      "         when given twice, print more information about the build\r\n",
      "-W arg : warning control; arg is action:message:category:module:lineno\r\n",
      "         also PYTHONWARNINGS=arg\r\n",
      "-x     : skip first line of source, allowing use of non-Unix forms of #!cmd\r\n",
      "-X opt : set implementation-specific option\r\n",
      "--check-hash-based-pycs always|default|never:\r\n",
      "    control how Python invalidates hash-based .pyc files\r\n",
      "file   : program read from script file\r\n",
      "-      : program read from stdin (default; interactive mode if a tty)\r\n",
      "arg ...: arguments passed to program in sys.argv[1:]\r\n",
      "\r\n",
      "Other environment variables:\r\n",
      "PYTHONSTARTUP: file executed on interactive startup (no default)\r\n",
      "PYTHONPATH   : ':'-separated list of directories prefixed to the\r\n",
      "               default module search path.  The result is sys.path.\r\n",
      "PYTHONHOME   : alternate <prefix> directory (or <prefix>:<exec_prefix>).\r\n",
      "               The default module search path uses <prefix>/lib/pythonX.X.\r\n",
      "PYTHONCASEOK : ignore case in 'import' statements (Windows).\r\n",
      "PYTHONUTF8: if set to 1, enable the UTF-8 mode.\r\n",
      "PYTHONIOENCODING: Encoding[:errors] used for stdin/stdout/stderr.\r\n",
      "PYTHONFAULTHANDLER: dump the Python traceback on fatal errors.\r\n",
      "PYTHONHASHSEED: if this variable is set to 'random', a random value is used\r\n",
      "   to seed the hashes of str, bytes and datetime objects.  It can also be\r\n",
      "   set to an integer in the range [0,4294967295] to get hash values with a\r\n",
      "   predictable seed.\r\n",
      "PYTHONMALLOC: set the Python memory allocators and/or install debug hooks\r\n",
      "   on Python memory allocators. Use PYTHONMALLOC=debug to install debug\r\n",
      "   hooks.\r\n",
      "PYTHONCOERCECLOCALE: if this variable is set to 0, it disables the locale\r\n",
      "   coercion behavior. Use PYTHONCOERCECLOCALE=warn to request display of\r\n",
      "   locale coercion and locale compatibility warnings on stderr.\r\n",
      "PYTHONBREAKPOINT: if this variable is set to 0, it disables the default\r\n",
      "   debugger. It can be set to the callable of your debugger of choice.\r\n",
      "PYTHONDEVMODE: enable the development mode.\r\n"
     ]
    }
   ],
   "source": [
    "!python --help"
   ]
  },
  {
   "cell_type": "code",
   "execution_count": 31,
   "metadata": {},
   "outputs": [
    {
     "name": "stdout",
     "output_type": "stream",
     "text": [
      "['', '/Users/h2k1/opt/anaconda3/lib/python37.zip', '/Users/h2k1/opt/anaconda3/lib/python3.7', '/Users/h2k1/opt/anaconda3/lib/python3.7/lib-dynload', '/Users/h2k1/opt/anaconda3/lib/python3.7/site-packages', '/Users/h2k1/opt/anaconda3/lib/python3.7/site-packages/aeosa']\n"
     ]
    }
   ],
   "source": [
    "%%bash\n",
    "python\n",
    "import sys\n",
    "print(sys.path)\n",
    "quit()"
   ]
  },
  {
   "cell_type": "code",
   "execution_count": 32,
   "metadata": {},
   "outputs": [
    {
     "name": "stdout",
     "output_type": "stream",
     "text": [
      "로미오\r\n",
      "줄리엣\r\n"
     ]
    }
   ],
   "source": [
    "!python ext/ch04/1_sys_example.py 로미오 줄리엣"
   ]
  },
  {
   "cell_type": "code",
   "execution_count": 36,
   "metadata": {},
   "outputs": [
    {
     "name": "stdout",
     "output_type": "stream",
     "text": [
      "['__breakpointhook__', '__displayhook__', '__doc__', '__excepthook__', '__interactivehook__', '__loader__', '__name__', '__package__', '__spec__', '__stderr__', '__stdin__', '__stdout__', '_clear_type_cache', '_current_frames', '_debugmallocstats', '_framework', '_getframe', '_git', '_home', '_xoptions', 'abiflags', 'api_version', 'argv', 'base_exec_prefix', 'base_prefix', 'breakpointhook', 'builtin_module_names', 'byteorder', 'call_tracing', 'callstats', 'copyright', 'displayhook', 'dont_write_bytecode', 'exc_info', 'excepthook', 'exec_prefix', 'executable', 'exit', 'flags', 'float_info', 'float_repr_style', 'get_asyncgen_hooks', 'get_coroutine_origin_tracking_depth', 'get_coroutine_wrapper', 'getallocatedblocks', 'getcheckinterval', 'getdefaultencoding', 'getdlopenflags', 'getfilesystemencodeerrors', 'getfilesystemencoding', 'getprofile', 'getrecursionlimit', 'getrefcount', 'getsizeof', 'getswitchinterval', 'gettrace', 'hash_info', 'hexversion', 'implementation', 'int_info', 'intern', 'is_finalizing', 'maxsize', 'maxunicode', 'meta_path', 'modules', 'path', 'path_hooks', 'path_importer_cache', 'platform', 'prefix', 'set_asyncgen_hooks', 'set_coroutine_origin_tracking_depth', 'set_coroutine_wrapper', 'setcheckinterval', 'setdlopenflags', 'setprofile', 'setrecursionlimit', 'setswitchinterval', 'settrace', 'stderr', 'stdin', 'stdout', 'thread_info', 'version', 'version_info', 'warnoptions']\n"
     ]
    }
   ],
   "source": [
    "%%bash\n",
    "python\n",
    "import sys\n",
    "print(dir(sys))"
   ]
  },
  {
   "cell_type": "code",
   "execution_count": 43,
   "metadata": {},
   "outputs": [
    {
     "name": "stdout",
     "output_type": "stream",
     "text": [
      "숫자를 입력하세요: -1\n",
      "음수를 입력하여 x를 0으로 변경했습니다\n"
     ]
    }
   ],
   "source": [
    "x = int(input(\"숫자를 입력하세요: \"))\n",
    "if x < 0:\n",
    "    x = 0\n",
    "    print(\"음수를 입력하여 x를 0으로 변경했습니다\")\n",
    "elif x == 0:\n",
    "    print(\"0이 입력되었습니다.\")\n",
    "elif x == 1:\n",
    "    print(\"1이 입력되었습니다.\")\n",
    "else:\n",
    "    print(\"2 이상의 숫자가 입력되었습니다\")"
   ]
  },
  {
   "cell_type": "code",
   "execution_count": 44,
   "metadata": {},
   "outputs": [
    {
     "name": "stdout",
     "output_type": "stream",
     "text": [
      "버피\n",
      "윌로\n",
      "잰더\n",
      "자일스\n"
     ]
    }
   ],
   "source": [
    "names = [\"버피\", \"윌로\", \"잰더\", \"자일스\"]\n",
    "for name in names:\n",
    "    print(name)"
   ]
  },
  {
   "cell_type": "code",
   "execution_count": 45,
   "metadata": {},
   "outputs": [
    {
     "data": {
      "text/plain": [
       "'괴물'"
      ]
     },
     "execution_count": 45,
     "metadata": {},
     "output_type": "execute_result"
    }
   ],
   "source": [
    "string1, string2, string3 = '', '괴물', '외계인'\n",
    "non_null = string1 or string2 or string3\n",
    "non_null"
   ]
  },
  {
   "cell_type": "code",
   "execution_count": 52,
   "metadata": {},
   "outputs": [
    {
     "name": "stdout",
     "output_type": "stream",
     "text": [
      "사용자가 없습니다.\n",
      "handle zero function call\n",
      "handle multiple of ten\n"
     ]
    }
   ],
   "source": [
    "# 좋은 예\n",
    "users = []\n",
    "\n",
    "if not users:\n",
    "    print(\"사용자가 없습니다.\")\n",
    "\n",
    "foo = 0\n",
    "\n",
    "def handle_zero():\n",
    "    print(\"handle zero function call\")\n",
    "\n",
    "if foo == 0:\n",
    "    handle_zero()\n",
    "    \n",
    "i = 0\n",
    "\n",
    "def handle_multiple_of_ten():\n",
    "    print(\"handle multiple of ten\")\n",
    "\n",
    "if i % 10 == 0:\n",
    "    handle_multiple_of_ten()"
   ]
  },
  {
   "cell_type": "code",
   "execution_count": 53,
   "metadata": {},
   "outputs": [
    {
     "name": "stdout",
     "output_type": "stream",
     "text": [
      "사용자가 없습니다.\n",
      "handle zero function call\n",
      "handle multiple of ten\n"
     ]
    }
   ],
   "source": [
    "# 나쁜 예\n",
    "\n",
    "users = []\n",
    "\n",
    "if len(users) == 0:\n",
    "    print(\"사용자가 없습니다.\")\n",
    "\n",
    "foo = 0\n",
    "\n",
    "def handle_zero():\n",
    "    print(\"handle zero function call\")\n",
    "\n",
    "if foo is not None and not foo:\n",
    "    handle_zero()\n",
    "    \n",
    "i = 0\n",
    "\n",
    "def handle_multiple_of_ten():\n",
    "    print(\"handle multiple of ten\")\n",
    "\n",
    "if not i % 10:\n",
    "    handle_multiple_of_ten()"
   ]
  },
  {
   "cell_type": "code",
   "execution_count": 58,
   "metadata": {},
   "outputs": [],
   "source": [
    "a = [1, 2, 3]\n",
    "\n",
    "def f(a):\n",
    "    while a:\n",
    "        yield a.pop()"
   ]
  },
  {
   "cell_type": "code",
   "execution_count": 60,
   "metadata": {},
   "outputs": [
    {
     "name": "stdout",
     "output_type": "stream",
     "text": [
      "1\n",
      "1\n",
      "2\n",
      "3\n"
     ]
    }
   ],
   "source": [
    "def fib_generator():\n",
    "    a, b = 0, 1\n",
    "    while True:\n",
    "        yield b\n",
    "        a, b = b, a+b\n",
    "        \n",
    "if __name__ == \"__main__\":\n",
    "    fib = fib_generator()\n",
    "    print(next(fib))\n",
    "    print(next(fib))\n",
    "    print(next(fib))\n",
    "    print(next(fib))"
   ]
  },
  {
   "cell_type": "code",
   "execution_count": 65,
   "metadata": {},
   "outputs": [
    {
     "name": "stdout",
     "output_type": "stream",
     "text": [
      "0\n",
      "1\n",
      "2\n",
      "3\n"
     ]
    }
   ],
   "source": [
    "for i in range(10):\n",
    "    if i == 4:\n",
    "        break\n",
    "    print(i)\n",
    "else:\n",
    "    print(\"for문 종료!\")"
   ]
  },
  {
   "cell_type": "code",
   "execution_count": 66,
   "metadata": {},
   "outputs": [
    {
     "name": "stdout",
     "output_type": "stream",
     "text": [
      "1\n",
      "3\n",
      "5\n",
      "7\n",
      "9\n",
      "for문 종료!\n"
     ]
    }
   ],
   "source": [
    "for i in range(10):\n",
    "    if i % 2 == 0:\n",
    "        continue\n",
    "    print(i)\n",
    "else:\n",
    "    print(\"for문 종료!\")"
   ]
  },
  {
   "cell_type": "code",
   "execution_count": 73,
   "metadata": {},
   "outputs": [
    {
     "name": "stdout",
     "output_type": "stream",
     "text": [
      "0 1 2 3 4 5 6 7 8 9\n"
     ]
    }
   ],
   "source": [
    "print(*range(10)) "
   ]
  },
  {
   "cell_type": "code",
   "execution_count": 74,
   "metadata": {},
   "outputs": [
    {
     "name": "stdout",
     "output_type": "stream",
     "text": [
      "4 5 6 7 8 9\n"
     ]
    }
   ],
   "source": [
    "print(*range(4, 10))"
   ]
  },
  {
   "cell_type": "code",
   "execution_count": 76,
   "metadata": {},
   "outputs": [
    {
     "name": "stdout",
     "output_type": "stream",
     "text": [
      "0 3 6 9\n"
     ]
    }
   ],
   "source": [
    "print(*range(0, 10, 3))"
   ]
  },
  {
   "cell_type": "code",
   "execution_count": 82,
   "metadata": {},
   "outputs": [
    {
     "name": "stdout",
     "output_type": "stream",
     "text": [
      "ext/ch04/3_grep_word_from_files.py:5:    for filename in sys.argv[2:]:\r\n",
      "ext/ch04/3_grep_word_from_files.py:7:            for lino, line in enumerate(\r\n",
      "ext/ch04/3_grep_word_from_files.py:9:                    print(\"{0}:{1}:{2:.4\r\n",
      "ext/ch04/3_grep_word_from_files.py:13:        print(\"Usage: python {0} [word] \r\n"
     ]
    }
   ],
   "source": [
    "!python ext/ch04/3_grep_word_from_files.py for ext/ch04/3_grep_word_from_files.py"
   ]
  },
  {
   "cell_type": "code",
   "execution_count": 83,
   "metadata": {},
   "outputs": [
    {
     "data": {
      "text/plain": [
       "<zip at 0x10ce0e5f0>"
      ]
     },
     "execution_count": 83,
     "metadata": {},
     "output_type": "execute_result"
    }
   ],
   "source": [
    "a = [1, 2, 3, 4, 5]\n",
    "b = ['a', 'b', 'c', 'd']\n",
    "zip(a, b)"
   ]
  },
  {
   "cell_type": "code",
   "execution_count": 84,
   "metadata": {},
   "outputs": [
    {
     "data": {
      "text/plain": [
       "[(1, 'a'), (2, 'b'), (3, 'c'), (4, 'd')]"
      ]
     },
     "execution_count": 84,
     "metadata": {},
     "output_type": "execute_result"
    }
   ],
   "source": [
    "list(zip(a,b))"
   ]
  },
  {
   "cell_type": "code",
   "execution_count": 85,
   "metadata": {},
   "outputs": [
    {
     "data": {
      "text/plain": [
       "False"
      ]
     },
     "execution_count": 85,
     "metadata": {},
     "output_type": "execute_result"
    }
   ],
   "source": [
    "def f(x): return x % 2 != 0 and x % 3 != 0\n",
    "f(33)"
   ]
  },
  {
   "cell_type": "code",
   "execution_count": 86,
   "metadata": {},
   "outputs": [
    {
     "data": {
      "text/plain": [
       "True"
      ]
     },
     "execution_count": 86,
     "metadata": {},
     "output_type": "execute_result"
    }
   ],
   "source": [
    "f(17)"
   ]
  },
  {
   "cell_type": "code",
   "execution_count": 87,
   "metadata": {},
   "outputs": [
    {
     "data": {
      "text/plain": [
       "[5, 7, 11, 13, 17, 19, 23]"
      ]
     },
     "execution_count": 87,
     "metadata": {},
     "output_type": "execute_result"
    }
   ],
   "source": [
    "list(filter(f, range(2, 25)))"
   ]
  },
  {
   "cell_type": "code",
   "execution_count": 88,
   "metadata": {},
   "outputs": [
    {
     "data": {
      "text/plain": [
       "[1, 8, 27, 64, 125, 216, 343, 512, 729, 1000]"
      ]
     },
     "execution_count": 88,
     "metadata": {},
     "output_type": "execute_result"
    }
   ],
   "source": [
    "def cube(x): return x * x * x\n",
    "list(map(cube, range(1, 11)))"
   ]
  },
  {
   "cell_type": "code",
   "execution_count": 90,
   "metadata": {},
   "outputs": [
    {
     "data": {
      "text/plain": [
       "[(0, 0), (1, 1), (2, 4), (3, 9), (4, 16), (5, 25), (6, 36), (7, 49)]"
      ]
     },
     "execution_count": 90,
     "metadata": {},
     "output_type": "execute_result"
    }
   ],
   "source": [
    "seq = range(8)\n",
    "def square(x): return x * x\n",
    "list(zip(seq, map(square, seq)))"
   ]
  },
  {
   "cell_type": "code",
   "execution_count": 91,
   "metadata": {},
   "outputs": [
    {
     "data": {
      "text/plain": [
       "10.0"
      ]
     },
     "execution_count": 91,
     "metadata": {},
     "output_type": "execute_result"
    }
   ],
   "source": [
    "def area(b, h):\n",
    "    return 0.5 * b * h\n",
    "area(5, 4)"
   ]
  },
  {
   "cell_type": "code",
   "execution_count": 92,
   "metadata": {},
   "outputs": [
    {
     "data": {
      "text/plain": [
       "10.0"
      ]
     },
     "execution_count": 92,
     "metadata": {},
     "output_type": "execute_result"
    }
   ],
   "source": [
    "area = lambda b, h: 0.5 * b * h\n",
    "area(5, 4)"
   ]
  },
  {
   "cell_type": "code",
   "execution_count": 93,
   "metadata": {},
   "outputs": [],
   "source": [
    "import collections\n",
    "minus_one_dict = collections.defaultdict(lambda: -1)\n",
    "point_zero_dict = collections.defaultdict(lambda: (0, 0))\n",
    "message_dict = collections.defaultdict(lambda: \"No message\")"
   ]
  },
  {
   "cell_type": "code",
   "execution_count": 95,
   "metadata": {},
   "outputs": [],
   "source": [
    "!python ext/ch04/4_remove_blank_lines.py ext/ch04/hello.py"
   ]
  },
  {
   "cell_type": "code",
   "execution_count": 6,
   "metadata": {},
   "outputs": [
    {
     "data": {
      "text/plain": [
       "'전체 파일 내용입니다.\\n'"
      ]
     },
     "execution_count": 6,
     "metadata": {},
     "output_type": "execute_result"
    }
   ],
   "source": [
    "f = open(\"ext/ch04/1_read.txt\", encoding=\"utf8\")\n",
    "f.read()"
   ]
  },
  {
   "cell_type": "code",
   "execution_count": 7,
   "metadata": {},
   "outputs": [
    {
     "data": {
      "text/plain": [
       "['파일의 첫 번째 줄입니다.\\n', '두 번째 줄입니다.\\n']"
      ]
     },
     "execution_count": 7,
     "metadata": {},
     "output_type": "execute_result"
    }
   ],
   "source": [
    "f = open(\"ext/ch04/2_read.txt\", encoding=\"utf8\")\n",
    "f.readlines()"
   ]
  },
  {
   "cell_type": "code",
   "execution_count": 10,
   "metadata": {},
   "outputs": [],
   "source": [
    "with open(\"ext/ch04/3_read.txt\", \"w\", encoding=\"utf8\") as f:\n",
    "    f.write('테스트\\n')"
   ]
  },
  {
   "cell_type": "code",
   "execution_count": 12,
   "metadata": {},
   "outputs": [
    {
     "data": {
      "text/plain": [
       "'테스트\\n'"
      ]
     },
     "execution_count": 12,
     "metadata": {},
     "output_type": "execute_result"
    }
   ],
   "source": [
    "fin = open(\"ext/ch04/3_read.txt\", encoding=\"utf8\")\n",
    "fin.read()"
   ]
  },
  {
   "cell_type": "code",
   "execution_count": 14,
   "metadata": {},
   "outputs": [
    {
     "name": "stdout",
     "output_type": "stream",
     "text": [
      "Enter your age: 21\n",
      "21\n"
     ]
    }
   ],
   "source": [
    "def get_int(msg):\n",
    "    while True:\n",
    "        try:\n",
    "            i = int(input(msg))\n",
    "            return i\n",
    "        except ValueError as err:\n",
    "            print(err)\n",
    "            \n",
    "age = get_int(\"Enter your age: \")\n",
    "print(age)"
   ]
  },
  {
   "cell_type": "code",
   "execution_count": 22,
   "metadata": {},
   "outputs": [
    {
     "name": "stdout",
     "output_type": "stream",
     "text": [
      "ext/ch04/hello.txt\r\n"
     ]
    }
   ],
   "source": [
    "!python ext/ch04/6_change_ext_file.py ext/ch04/hello.py txt"
   ]
  },
  {
   "cell_type": "code",
   "execution_count": 23,
   "metadata": {},
   "outputs": [
    {
     "data": {
      "text/plain": [
       "{'name': '아스틴', 'age': 23}"
      ]
     },
     "execution_count": 23,
     "metadata": {},
     "output_type": "execute_result"
    }
   ],
   "source": [
    "import pickle\n",
    "\n",
    "x = {}\n",
    "x[\"name\"] = \"아스틴\"\n",
    "x[\"age\"] = 23\n",
    "with open(\"ext/ch04/name.pkl\", \"wb\") as f: # 피클링\n",
    "    pickle.dump(x, f)\n",
    "    \n",
    "with open(\"ext/ch04/name.pkl\", \"rb\") as f: # 언피클링\n",
    "    name = pickle.load(f)\n",
    "    \n",
    "name"
   ]
  },
  {
   "cell_type": "code",
   "execution_count": 24,
   "metadata": {},
   "outputs": [
    {
     "name": "stdout",
     "output_type": "stream",
     "text": [
      "b'\\x00\\x01\\x00\\x02\\x00\\x00\\x00\\x03'\n"
     ]
    },
    {
     "data": {
      "text/plain": [
       "(1, 2, 3)"
      ]
     },
     "execution_count": 24,
     "metadata": {},
     "output_type": "execute_result"
    }
   ],
   "source": [
    "import struct\n",
    "abc = struct.pack('>hhl', 1, 2, 3)\n",
    "print(abc)\n",
    "struct.unpack('>hhl', abc)"
   ]
  },
  {
   "cell_type": "code",
   "execution_count": 25,
   "metadata": {},
   "outputs": [
    {
     "data": {
      "text/plain": [
       "8"
      ]
     },
     "execution_count": 25,
     "metadata": {},
     "output_type": "execute_result"
    }
   ],
   "source": [
    "struct.calcsize('>hhl')"
   ]
  },
  {
   "cell_type": "code",
   "execution_count": 27,
   "metadata": {},
   "outputs": [
    {
     "name": "stdout",
     "output_type": "stream",
     "text": [
      "숫자를 입력하세요: a\n",
      "숫자가 아닙니다. 다시 입력해주세요!\n",
      "숫자를 입력하세요: -\n",
      "숫자가 아닙니다. 다시 입력해주세요!\n",
      "숫자를 입력하세요: 12\n"
     ]
    }
   ],
   "source": [
    "while True:\n",
    "    try:\n",
    "        x = int(input(\"숫자를 입력하세요: \"))\n",
    "        break\n",
    "    except ValueError:\n",
    "        print(\"숫자가 아닙니다. 다시 입력해주세요!\")"
   ]
  },
  {
   "cell_type": "code",
   "execution_count": 28,
   "metadata": {},
   "outputs": [
    {
     "name": "stdout",
     "output_type": "stream",
     "text": [
      "예외 발생: <class 'ZeroDivisionError'>\n"
     ]
    }
   ],
   "source": [
    "import string\n",
    "import sys\n",
    "\n",
    "try:\n",
    "    1/0 # ZeroDivisionError 발생\n",
    "    f = open('myfile.txt')\n",
    "    s = f.readline()\n",
    "    i = int(string.strip(x))\n",
    "except IOError as err:\n",
    "    # errno, strerror = err.args\n",
    "    print(err)\n",
    "except ValueError:\n",
    "    print(\"데이터를 수자로 변환할 수 없습니다.\")\n",
    "except:\n",
    "    print(\"예외 발생: {0}\".format(sys.exc_info()[0]))"
   ]
  },
  {
   "cell_type": "code",
   "execution_count": 29,
   "metadata": {},
   "outputs": [
    {
     "name": "stdout",
     "output_type": "stream",
     "text": [
      "ext/ch04/hello.py는(은) 총 7줄 입니다.\n"
     ]
    }
   ],
   "source": [
    "filename = \"ext/ch04/hello.py\"\n",
    "try:\n",
    "    f = open(filename, 'r')\n",
    "except IOError:\n",
    "    print(\"{0}를(을) 열 수 없습니다.\".format(filename))\n",
    "else:\n",
    "    print(\"{0}는(은) 총 {1}줄 입니다.\".format(filename, len(f.readlines())))\n",
    "    f.close()"
   ]
  },
  {
   "cell_type": "code",
   "execution_count": null,
   "metadata": {},
   "outputs": [],
   "source": [
    "# 좋은 예\n",
    "def ConnectToNextPort(self, minimum):\n",
    "    \"\"\"사용 가능한 다음 포트에 연결한다. 새 minimum 포트를 반환한다. \"\"\"\n",
    "    if minimum <= 1024:\n",
    "        raise ValueError('1025 이상의 포트를 입력해야 합니다.')\n",
    "    port = self._FindNextOpenPort(minimum)\n",
    "    if not port:\n",
    "        raise ConnectionError('%d 포트에 연결할 수 없습니다.' % (minimum,))\n",
    "    assert port >= minimum, '예상치 못한 %d 포트를 사용했습니다. 입력한 minimum 포트는 %d입니다.' % (port, minimum)\n",
    "    return port"
   ]
  },
  {
   "cell_type": "code",
   "execution_count": null,
   "metadata": {},
   "outputs": [],
   "source": [
    "# 나쁜 예\n",
    "def ConnectToNextPort(self, minimum):\n",
    "    \"\"\"사용 가능한 다음 포트에 연결한다. 새 minimum 포트를 반환한다. \"\"\"\n",
    "    assert minimum > 1024, '1025 이상의 포트를 입력해야합니다.'\n",
    "    port = self._FindNextOpenPort(minimum)\n",
    "    assert polrt is not None\n",
    "    return port"
   ]
  },
  {
   "cell_type": "code",
   "execution_count": null,
   "metadata": {},
   "outputs": [],
   "source": [
    "try:\n",
    "    raise Error\n",
    "except Error as error:\n",
    "    pass"
   ]
  }
 ],
 "metadata": {
  "kernelspec": {
   "display_name": "Python 3",
   "language": "python",
   "name": "python3"
  },
  "language_info": {
   "codemirror_mode": {
    "name": "ipython",
    "version": 3
   },
   "file_extension": ".py",
   "mimetype": "text/x-python",
   "name": "python",
   "nbconvert_exporter": "python",
   "pygments_lexer": "ipython3",
   "version": "3.7.6"
  }
 },
 "nbformat": 4,
 "nbformat_minor": 4
}
