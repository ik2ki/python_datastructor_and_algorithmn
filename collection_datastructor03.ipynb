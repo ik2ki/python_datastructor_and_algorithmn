{
 "cells": [
  {
   "cell_type": "code",
   "execution_count": 1,
   "metadata": {},
   "outputs": [
    {
     "name": "stdout",
     "output_type": "stream",
     "text": [
      "['__iand__', '__init__', '__init_subclass__', '__ior__', '__isub__', '__iter__', '__ixor__', '__le__', '__len__', '__lt__', '__ne__', '__new__', '__or__', '__rand__', '__reduce__', '__reduce_ex__', '__repr__', '__ror__', '__rsub__', '__rxor__', '__setattr__', '__sizeof__', '__str__', '__sub__', '__subclasshook__', '__xor__', 'add', 'clear', 'copy', 'difference']\n"
     ]
    }
   ],
   "source": [
    "list_set = dir(set())\n",
    "list_frozenset = dir(frozenset())\n",
    "\n",
    "print([i for i, j in zip(list_set, list_frozenset) if i != j])"
   ]
  },
  {
   "cell_type": "code",
   "execution_count": 2,
   "metadata": {},
   "outputs": [
    {
     "data": {
      "text/plain": [
       "True"
      ]
     },
     "execution_count": 2,
     "metadata": {},
     "output_type": "execute_result"
    }
   ],
   "source": [
    "fs = frozenset((0, 1, 2, 3, 4))\n",
    "2 in fs"
   ]
  },
  {
   "cell_type": "code",
   "execution_count": 3,
   "metadata": {},
   "outputs": [
    {
     "data": {
      "text/plain": [
       "5"
      ]
     },
     "execution_count": 3,
     "metadata": {},
     "output_type": "execute_result"
    }
   ],
   "source": [
    "len(fs)"
   ]
  },
  {
   "cell_type": "code",
   "execution_count": 4,
   "metadata": {},
   "outputs": [
    {
     "data": {
      "text/plain": [
       "{'버피', '에인절', '윌로', '자일스'}"
      ]
     },
     "execution_count": 4,
     "metadata": {},
     "output_type": "execute_result"
    }
   ],
   "source": [
    "people = {\"버피\", \"에인절\", \"자일스\"}\n",
    "people.add(\"윌로\")\n",
    "people"
   ]
  },
  {
   "cell_type": "code",
   "execution_count": 5,
   "metadata": {},
   "outputs": [
    {
     "data": {
      "text/plain": [
       "{'로미오', '버피', '에인절', '자일스', '줄리엣'}"
      ]
     },
     "execution_count": 5,
     "metadata": {},
     "output_type": "execute_result"
    }
   ],
   "source": [
    "people = {\"버피\", \"에인절\", \"자일스\"}\n",
    "people.update({\"로미오\", \"줄리엣\", \"에인절\"})\n",
    "people"
   ]
  },
  {
   "cell_type": "code",
   "execution_count": 6,
   "metadata": {},
   "outputs": [
    {
     "data": {
      "text/plain": [
       "{'로미오', '리키', '버피', '에인절', '유진', '자일스', '줄리엣'}"
      ]
     },
     "execution_count": 6,
     "metadata": {},
     "output_type": "execute_result"
    }
   ],
   "source": [
    "people |= {\"리키\", \"유진\"}\n",
    "people"
   ]
  },
  {
   "cell_type": "code",
   "execution_count": 8,
   "metadata": {},
   "outputs": [
    {
     "data": {
      "text/plain": [
       "{'로미오', '버피', '에인절', '자일스', '줄리엣'}"
      ]
     },
     "execution_count": 8,
     "metadata": {},
     "output_type": "execute_result"
    }
   ],
   "source": [
    "people = {\"버피\", \"에인절\", \"자일스\"}\n",
    "people.union({\"로미오\", \"줄리엣\"})"
   ]
  },
  {
   "cell_type": "code",
   "execution_count": 9,
   "metadata": {},
   "outputs": [
    {
     "data": {
      "text/plain": [
       "{'버피', '에인절', '자일스'}"
      ]
     },
     "execution_count": 9,
     "metadata": {},
     "output_type": "execute_result"
    }
   ],
   "source": [
    "people"
   ]
  },
  {
   "cell_type": "code",
   "execution_count": 10,
   "metadata": {},
   "outputs": [
    {
     "data": {
      "text/plain": [
       "{'버피', '브라이언', '에인절', '자일스'}"
      ]
     },
     "execution_count": 10,
     "metadata": {},
     "output_type": "execute_result"
    }
   ],
   "source": [
    "people | {\"브라이언\"}"
   ]
  },
  {
   "cell_type": "code",
   "execution_count": 11,
   "metadata": {},
   "outputs": [
    {
     "data": {
      "text/plain": [
       "{'에인절', '자일스'}"
      ]
     },
     "execution_count": 11,
     "metadata": {},
     "output_type": "execute_result"
    }
   ],
   "source": [
    "people = {\"버피\", \"에인절\", \"자일스\", \"이안\"}\n",
    "vampires = {\"에인절\", \"자일스\", \"윌로\"}\n",
    "people.intersection(vampires)"
   ]
  },
  {
   "cell_type": "code",
   "execution_count": 12,
   "metadata": {},
   "outputs": [
    {
     "data": {
      "text/plain": [
       "{'에인절', '자일스'}"
      ]
     },
     "execution_count": 12,
     "metadata": {},
     "output_type": "execute_result"
    }
   ],
   "source": [
    "people & vampires"
   ]
  },
  {
   "cell_type": "code",
   "execution_count": 11,
   "metadata": {},
   "outputs": [
    {
     "data": {
      "text/plain": [
       "{'버피', '아영', '자일스'}"
      ]
     },
     "execution_count": 11,
     "metadata": {},
     "output_type": "execute_result"
    }
   ],
   "source": [
    "people = {\"버피\", \"에인절\", \"자일스\", \"아영\"}\n",
    "vampires = {\"스파이크\", \"에인절\", \"상민\"}\n",
    "people.difference(vampires)"
   ]
  },
  {
   "cell_type": "code",
   "execution_count": 12,
   "metadata": {},
   "outputs": [
    {
     "data": {
      "text/plain": [
       "{'버피', '아영', '자일스'}"
      ]
     },
     "execution_count": 12,
     "metadata": {},
     "output_type": "execute_result"
    }
   ],
   "source": [
    "people - vampires"
   ]
  },
  {
   "cell_type": "code",
   "execution_count": 13,
   "metadata": {},
   "outputs": [
    {
     "data": {
      "text/plain": [
       "set()"
      ]
     },
     "execution_count": 13,
     "metadata": {},
     "output_type": "execute_result"
    }
   ],
   "source": [
    "people = {\"버피\", \"자일스\", \"에인절\"}\n",
    "people.clear()\n",
    "people"
   ]
  },
  {
   "cell_type": "code",
   "execution_count": 14,
   "metadata": {},
   "outputs": [
    {
     "ename": "KeyError",
     "evalue": "'일본'",
     "output_type": "error",
     "traceback": [
      "\u001b[0;31m---------------------------------------------------------------------------\u001b[0m",
      "\u001b[0;31mKeyError\u001b[0m                                  Traceback (most recent call last)",
      "\u001b[0;32m<ipython-input-14-45d4d66d70bf>\u001b[0m in \u001b[0;36m<module>\u001b[0;34m\u001b[0m\n\u001b[1;32m      1\u001b[0m \u001b[0mcountries\u001b[0m \u001b[0;34m=\u001b[0m \u001b[0;34m{\u001b[0m\u001b[0;34m\"프랑스\"\u001b[0m\u001b[0;34m,\u001b[0m \u001b[0;34m\"스페인\"\u001b[0m\u001b[0;34m,\u001b[0m \u001b[0;34m\"영국\"\u001b[0m\u001b[0;34m}\u001b[0m\u001b[0;34m\u001b[0m\u001b[0;34m\u001b[0m\u001b[0m\n\u001b[1;32m      2\u001b[0m \u001b[0mcountries\u001b[0m\u001b[0;34m.\u001b[0m\u001b[0mdiscard\u001b[0m\u001b[0;34m(\u001b[0m\u001b[0;34m\"한국\"\u001b[0m\u001b[0;34m)\u001b[0m\u001b[0;34m\u001b[0m\u001b[0;34m\u001b[0m\u001b[0m\n\u001b[0;32m----> 3\u001b[0;31m \u001b[0mcountries\u001b[0m\u001b[0;34m.\u001b[0m\u001b[0mremove\u001b[0m\u001b[0;34m(\u001b[0m\u001b[0;34m\"일본\"\u001b[0m\u001b[0;34m)\u001b[0m\u001b[0;34m\u001b[0m\u001b[0;34m\u001b[0m\u001b[0m\n\u001b[0m",
      "\u001b[0;31mKeyError\u001b[0m: '일본'"
     ]
    }
   ],
   "source": [
    "countries = {\"프랑스\", \"스페인\", \"영국\"}\n",
    "countries.discard(\"한국\")\n",
    "countries.remove(\"일본\")"
   ]
  },
  {
   "cell_type": "code",
   "execution_count": 15,
   "metadata": {},
   "outputs": [
    {
     "data": {
      "text/plain": [
       "'스페인'"
      ]
     },
     "execution_count": 15,
     "metadata": {},
     "output_type": "execute_result"
    }
   ],
   "source": [
    "countries.pop() #무작위"
   ]
  },
  {
   "cell_type": "code",
   "execution_count": 16,
   "metadata": {},
   "outputs": [
    {
     "ename": "KeyError",
     "evalue": "'pop from an empty set'",
     "output_type": "error",
     "traceback": [
      "\u001b[0;31m---------------------------------------------------------------------------\u001b[0m",
      "\u001b[0;31mKeyError\u001b[0m                                  Traceback (most recent call last)",
      "\u001b[0;32m<ipython-input-16-e79dcf3368b8>\u001b[0m in \u001b[0;36m<module>\u001b[0;34m\u001b[0m\n\u001b[1;32m      1\u001b[0m \u001b[0mcountries\u001b[0m\u001b[0;34m.\u001b[0m\u001b[0mdiscard\u001b[0m\u001b[0;34m(\u001b[0m\u001b[0;34m\"프랑스\"\u001b[0m\u001b[0;34m)\u001b[0m\u001b[0;34m\u001b[0m\u001b[0;34m\u001b[0m\u001b[0m\n\u001b[1;32m      2\u001b[0m \u001b[0mcountries\u001b[0m\u001b[0;34m.\u001b[0m\u001b[0mremove\u001b[0m\u001b[0;34m(\u001b[0m\u001b[0;34m\"영국\"\u001b[0m\u001b[0;34m)\u001b[0m\u001b[0;34m\u001b[0m\u001b[0;34m\u001b[0m\u001b[0m\n\u001b[0;32m----> 3\u001b[0;31m \u001b[0mcountries\u001b[0m\u001b[0;34m.\u001b[0m\u001b[0mpop\u001b[0m\u001b[0;34m(\u001b[0m\u001b[0;34m)\u001b[0m\u001b[0;34m\u001b[0m\u001b[0;34m\u001b[0m\u001b[0m\n\u001b[0m",
      "\u001b[0;31mKeyError\u001b[0m: 'pop from an empty set'"
     ]
    }
   ],
   "source": [
    "countries.discard(\"프랑스\")\n",
    "countries.remove(\"영국\")\n",
    "countries.pop()"
   ]
  },
  {
   "cell_type": "code",
   "execution_count": 17,
   "metadata": {},
   "outputs": [
    {
     "name": "stdout",
     "output_type": "stream",
     "text": [
      "테스트 통과!\n"
     ]
    }
   ],
   "source": [
    "def remove_dup(l1):\n",
    "    '''리스트의 중복된 항목을 제거한 후 반환한다. '''\n",
    "    return list(set(l1))\n",
    "\n",
    "def intersection(l1, l2):\n",
    "    ''' 교집합 결과를 반환한다. '''\n",
    "    return list(set(l1) & set(l2))\n",
    "\n",
    "def union(l1, l2):\n",
    "    ''' 합집합 결과를 반환한다. '''\n",
    "    return list(set(l1) | set(l2))\n",
    "\n",
    "def test_sets_operations_with_lists():\n",
    "    l1 = [1, 2, 3, 4, 5, 5, 9, 11, 11, 15]\n",
    "    l2 = [4, 5, 6, 7, 8]\n",
    "    l3 = []\n",
    "    assert(remove_dup(l1) == [1, 2, 3, 4, 5, 9, 11, 15])\n",
    "    assert(intersection(l1, l2) == [4, 5])\n",
    "    assert(union(l1, l2) == [1, 2, 3, 4, 5, 6, 7, 8, 9, 11, 15])\n",
    "    assert(remove_dup(l3) == [])\n",
    "    assert(intersection(l3, l2) == l3)\n",
    "    assert(sorted(union(l3, l2)) == sorted(l2))\n",
    "    print(\"테스트 통과!\")\n",
    "    \n",
    "if __name__ == '__main__':\n",
    "    test_sets_operations_with_lists()"
   ]
  },
  {
   "cell_type": "code",
   "execution_count": 21,
   "metadata": {},
   "outputs": [
    {
     "name": "stdout",
     "output_type": "stream",
     "text": [
      "딕셔너리1\t: {'a': 1, 'b': 2, 'c': 3}\n",
      "딕셔너리2\t: {'a': 1, 'c': 2, 'd': 3, 'e': 4}\n",
      "d1 ∩ d2 (키)\t: {'c', 'a'}\n",
      "d1 ∩ d2 (키, 값)\t: {('a', 1)}\n",
      "d1 - d2 (키)\t: {'b'}\n",
      "d2 - d1 (키)\t: {'d', 'e'}\n",
      "d1 - d2 (키, 값)\t: {('c', 3), ('b', 2)}\n",
      "d2 - {c, d}\t: {'e': 4, 'a': 1}\n"
     ]
    }
   ],
   "source": [
    "def set_operations_with_dict():\n",
    "    pairs = [(\"a\", 1), (\"b\", 2), (\"c\", 3)]\n",
    "    d1 = dict(pairs)\n",
    "    print(\"딕셔너리1\\t: {0}\".format(d1))\n",
    "    \n",
    "    d2 = {\"a\": 1, \"c\": 2, \"d\": 3, \"e\": 4}\n",
    "    print(\"딕셔너리2\\t: {0}\".format(d2))\n",
    "    \n",
    "    intersection = d1.keys() & d2.keys()\n",
    "    print(\"d1 ∩ d2 (키)\\t: {0}\".format(intersection))\n",
    "    \n",
    "    intersection_items = d1.items() & d2.items()\n",
    "    print(\"d1 ∩ d2 (키, 값)\\t: {0}\".format(intersection_items))\n",
    "    \n",
    "    subtraction1 = d1.keys() - d2.keys()\n",
    "    print(\"d1 - d2 (키)\\t: {0}\".format(subtraction1))\n",
    "    \n",
    "    subtraction2 = d2.keys() - d1.keys()\n",
    "    print(\"d2 - d1 (키)\\t: {0}\".format(subtraction2))\n",
    "    \n",
    "    subtraction_items = d1.items() - d2.items()\n",
    "    print(\"d1 - d2 (키, 값)\\t: {0}\".format(subtraction_items))\n",
    "    \n",
    "    \"\"\" 딕셔너리의 특정 키를 제외한다. \"\"\"\n",
    "    d3 = {key: d2[key] for key in d2.keys() - {\"c\", \"d\"}}\n",
    "    print(\"d2 - {{c, d}}\\t: {0}\".format(d3))\n",
    "    \n",
    "if __name__ == \"__main__\":\n",
    "    set_operations_with_dict()"
   ]
  },
  {
   "cell_type": "code",
   "execution_count": 1,
   "metadata": {},
   "outputs": [
    {
     "data": {
      "text/plain": [
       "42"
      ]
     },
     "execution_count": 1,
     "metadata": {},
     "output_type": "execute_result"
    }
   ],
   "source": [
    "hash(42)"
   ]
  },
  {
   "cell_type": "code",
   "execution_count": 2,
   "metadata": {},
   "outputs": [
    {
     "data": {
      "text/plain": [
       "4609533020671770008"
      ]
     },
     "execution_count": 2,
     "metadata": {},
     "output_type": "execute_result"
    }
   ],
   "source": [
    "hash(\"hello\")"
   ]
  },
  {
   "cell_type": "code",
   "execution_count": 3,
   "metadata": {},
   "outputs": [
    {
     "data": {
      "text/plain": [
       "{'name': '쿠엔틴 타란티노', 'job': '감독'}"
      ]
     },
     "execution_count": 3,
     "metadata": {},
     "output_type": "execute_result"
    }
   ],
   "source": [
    "tarantino = {}\n",
    "tarantino['name'] = '쿠엔틴 타란티노'\n",
    "tarantino['job'] = '감독'\n",
    "tarantino"
   ]
  },
  {
   "cell_type": "code",
   "execution_count": 4,
   "metadata": {},
   "outputs": [
    {
     "data": {
      "text/plain": [
       "{'name': '버피', 'age': 16, 'hobby': '게임'}"
      ]
     },
     "execution_count": 4,
     "metadata": {},
     "output_type": "execute_result"
    }
   ],
   "source": [
    "sunnydale = dict({\"name\":\"버피\", \"age\":16, \"hobby\":\"게임\"})\n",
    "sunnydale"
   ]
  },
  {
   "cell_type": "code",
   "execution_count": 5,
   "metadata": {},
   "outputs": [
    {
     "data": {
      "text/plain": [
       "{'name': '자일스', 'age': 45, 'hobby': '영화감상'}"
      ]
     },
     "execution_count": 5,
     "metadata": {},
     "output_type": "execute_result"
    }
   ],
   "source": [
    "sunnydale = dict(name=\"자일스\", age=45, hobby=\"영화감상\")\n",
    "sunnydale"
   ]
  },
  {
   "cell_type": "code",
   "execution_count": 7,
   "metadata": {},
   "outputs": [
    {
     "data": {
      "text/plain": [
       "{'name': '윌로', 'age': 15, 'hobby': '개발'}"
      ]
     },
     "execution_count": 7,
     "metadata": {},
     "output_type": "execute_result"
    }
   ],
   "source": [
    "sunnydale = dict([(\"name\", \"윌로\"), (\"age\",15),(\"hobby\",\"개발\")])\n",
    "sunnydale"
   ]
  },
  {
   "cell_type": "code",
   "execution_count": 8,
   "metadata": {},
   "outputs": [
    {
     "name": "stdout",
     "output_type": "stream",
     "text": [
      "{'key1': ['value1', 'value2'], 'key2': ['value3', 'value4', 'value5']}\n",
      "{'key1': ['value1', 'value2'], 'key2': ['value3', 'value4', 'value5']}\n"
     ]
    }
   ],
   "source": [
    "def usual_dict(dict_data):\n",
    "    \"\"\" dict[key] 사용 \"\"\"\n",
    "    newdata = {}\n",
    "    for k, v in dict_data:\n",
    "        if k in newdata:\n",
    "            newdata[k].append(v)\n",
    "        else:\n",
    "            newdata[k] = [v]\n",
    "    \n",
    "    return newdata\n",
    "\n",
    "def setdefault_dict(dict_data):\n",
    "    \"\"\" setdefault() 메서드 사용 \"\"\"\n",
    "    newdata = {}\n",
    "    for k, v in dict_data:\n",
    "        newdata.setdefault(k, []).append(v)\n",
    "    \n",
    "    return newdata\n",
    "\n",
    "def test_setdef():\n",
    "    dict_data = (\n",
    "                        (\"key1\",\"value1\"),\n",
    "                        (\"key1\",\"value2\"),\n",
    "                        (\"key2\",\"value3\"),\n",
    "                        (\"key2\",\"value4\"),\n",
    "                        (\"key2\",\"value5\"),\n",
    "                        )\n",
    "    print(usual_dict(dict_data))\n",
    "    print(setdefault_dict(dict_data))\n",
    "    \n",
    "if __name__ == '__main__':\n",
    "    test_setdef()"
   ]
  },
  {
   "cell_type": "code",
   "execution_count": 9,
   "metadata": {},
   "outputs": [
    {
     "data": {
      "text/plain": [
       "{'a': 1, 'b': 10}"
      ]
     },
     "execution_count": 9,
     "metadata": {},
     "output_type": "execute_result"
    }
   ],
   "source": [
    "d = {'a':1, 'b':2}\n",
    "d.update({'b':10})\n",
    "d"
   ]
  },
  {
   "cell_type": "code",
   "execution_count": 10,
   "metadata": {},
   "outputs": [
    {
     "data": {
      "text/plain": [
       "{'a': 1, 'b': 10, 'c': 100}"
      ]
     },
     "execution_count": 10,
     "metadata": {},
     "output_type": "execute_result"
    }
   ],
   "source": [
    "d.update({'c':100})\n",
    "d"
   ]
  },
  {
   "cell_type": "code",
   "execution_count": 11,
   "metadata": {},
   "outputs": [
    {
     "data": {
      "text/plain": [
       "'게임'"
      ]
     },
     "execution_count": 11,
     "metadata": {},
     "output_type": "execute_result"
    }
   ],
   "source": [
    "sunnydale = dict(name='잰더', age=17, hobby='게임')\n",
    "sunnydale.get(\"hobby\")"
   ]
  },
  {
   "cell_type": "code",
   "execution_count": 12,
   "metadata": {},
   "outputs": [
    {
     "ename": "KeyError",
     "evalue": "'hello'",
     "output_type": "error",
     "traceback": [
      "\u001b[0;31m---------------------------------------------------------------------------\u001b[0m",
      "\u001b[0;31mKeyError\u001b[0m                                  Traceback (most recent call last)",
      "\u001b[0;32m<ipython-input-12-2a2b145f99bc>\u001b[0m in \u001b[0;36m<module>\u001b[0;34m\u001b[0m\n\u001b[1;32m      1\u001b[0m \u001b[0msunnydale\u001b[0m\u001b[0;34m.\u001b[0m\u001b[0mget\u001b[0m\u001b[0;34m(\u001b[0m\u001b[0;34m\"hello\"\u001b[0m\u001b[0;34m)\u001b[0m\u001b[0;34m\u001b[0m\u001b[0;34m\u001b[0m\u001b[0m\n\u001b[0;32m----> 2\u001b[0;31m \u001b[0msunnydale\u001b[0m\u001b[0;34m[\u001b[0m\u001b[0;34m'hello'\u001b[0m\u001b[0;34m]\u001b[0m\u001b[0;34m\u001b[0m\u001b[0;34m\u001b[0m\u001b[0m\n\u001b[0m",
      "\u001b[0;31mKeyError\u001b[0m: 'hello'"
     ]
    }
   ],
   "source": [
    "sunnydale.get(\"hello\")\n",
    "sunnydale['hello']"
   ]
  },
  {
   "cell_type": "code",
   "execution_count": 13,
   "metadata": {},
   "outputs": [
    {
     "data": {
      "text/plain": [
       "dict_items([('name', '잰더'), ('age', 17), ('hobby', '게임')])"
      ]
     },
     "execution_count": 13,
     "metadata": {},
     "output_type": "execute_result"
    }
   ],
   "source": [
    "sunnydale = dict(name=\"잰더\", age=17, hobby=\"게임\")\n",
    "sunnydale.items()"
   ]
  },
  {
   "cell_type": "code",
   "execution_count": 14,
   "metadata": {},
   "outputs": [
    {
     "data": {
      "text/plain": [
       "dict_values(['잰더', 17, '게임'])"
      ]
     },
     "execution_count": 14,
     "metadata": {},
     "output_type": "execute_result"
    }
   ],
   "source": [
    "sunnydale.values()"
   ]
  },
  {
   "cell_type": "code",
   "execution_count": 15,
   "metadata": {},
   "outputs": [
    {
     "data": {
      "text/plain": [
       "dict_keys(['name', 'age', 'hobby'])"
      ]
     },
     "execution_count": 15,
     "metadata": {},
     "output_type": "execute_result"
    }
   ],
   "source": [
    "sunnydale.keys()"
   ]
  },
  {
   "cell_type": "code",
   "execution_count": 17,
   "metadata": {},
   "outputs": [
    {
     "ename": "TypeError",
     "evalue": "'dict_items' object does not support item assignment",
     "output_type": "error",
     "traceback": [
      "\u001b[0;31m---------------------------------------------------------------------------\u001b[0m",
      "\u001b[0;31mTypeError\u001b[0m                                 Traceback (most recent call last)",
      "\u001b[0;32m<ipython-input-17-b5bfefec7192>\u001b[0m in \u001b[0;36m<module>\u001b[0;34m\u001b[0m\n\u001b[1;32m      1\u001b[0m \u001b[0msunnydale_copy\u001b[0m \u001b[0;34m=\u001b[0m \u001b[0msunnydale\u001b[0m\u001b[0;34m.\u001b[0m\u001b[0mitems\u001b[0m\u001b[0;34m(\u001b[0m\u001b[0;34m)\u001b[0m\u001b[0;34m\u001b[0m\u001b[0;34m\u001b[0m\u001b[0m\n\u001b[0;32m----> 2\u001b[0;31m \u001b[0msunnydale_copy\u001b[0m\u001b[0;34m[\u001b[0m\u001b[0;34m'address'\u001b[0m\u001b[0;34m]\u001b[0m \u001b[0;34m=\u001b[0m \u001b[0;34m\"서울\"\u001b[0m\u001b[0;34m\u001b[0m\u001b[0;34m\u001b[0m\u001b[0m\n\u001b[0m",
      "\u001b[0;31mTypeError\u001b[0m: 'dict_items' object does not support item assignment"
     ]
    }
   ],
   "source": [
    "sunnydale_copy = sunnydale.items()\n",
    "sunnydale_copy['address'] = \"서울\""
   ]
  },
  {
   "cell_type": "code",
   "execution_count": 18,
   "metadata": {},
   "outputs": [
    {
     "data": {
      "text/plain": [
       "{'name': '잰더', 'age': 17, 'hobby': '게임', 'address': '서울'}"
      ]
     },
     "execution_count": 18,
     "metadata": {},
     "output_type": "execute_result"
    }
   ],
   "source": [
    "sunnydale['address'] = \"서울\"\n",
    "sunnydale"
   ]
  },
  {
   "cell_type": "code",
   "execution_count": 19,
   "metadata": {},
   "outputs": [
    {
     "data": {
      "text/plain": [
       "17"
      ]
     },
     "execution_count": 19,
     "metadata": {},
     "output_type": "execute_result"
    }
   ],
   "source": [
    "sunnydale = dict(name=\"잰더\", age=17, hobby=\"게임\", address=\"서울\")\n",
    "sunnydale.pop(\"age\")"
   ]
  },
  {
   "cell_type": "code",
   "execution_count": 20,
   "metadata": {},
   "outputs": [
    {
     "data": {
      "text/plain": [
       "{'name': '잰더', 'hobby': '게임', 'address': '서울'}"
      ]
     },
     "execution_count": 20,
     "metadata": {},
     "output_type": "execute_result"
    }
   ],
   "source": [
    "sunnydale"
   ]
  },
  {
   "cell_type": "code",
   "execution_count": 21,
   "metadata": {},
   "outputs": [
    {
     "data": {
      "text/plain": [
       "('address', '서울')"
      ]
     },
     "execution_count": 21,
     "metadata": {},
     "output_type": "execute_result"
    }
   ],
   "source": [
    "sunnydale.popitem()"
   ]
  },
  {
   "cell_type": "code",
   "execution_count": 22,
   "metadata": {},
   "outputs": [
    {
     "data": {
      "text/plain": [
       "{'name': '잰더', 'hobby': '게임'}"
      ]
     },
     "execution_count": 22,
     "metadata": {},
     "output_type": "execute_result"
    }
   ],
   "source": [
    "sunnydale"
   ]
  },
  {
   "cell_type": "code",
   "execution_count": 23,
   "metadata": {},
   "outputs": [
    {
     "data": {
      "text/plain": [
       "{}"
      ]
     },
     "execution_count": 23,
     "metadata": {},
     "output_type": "execute_result"
    }
   ],
   "source": [
    "sunnydale.clear()\n",
    "sunnydale"
   ]
  },
  {
   "cell_type": "code",
   "execution_count": 25,
   "metadata": {},
   "outputs": [
    {
     "name": "stdout",
     "output_type": "stream",
     "text": [
      "10000,      0.187,      0.004\n",
      "30000,      0.662,      0.003\n",
      "50000,      1.052,      0.003\n",
      "70000,      1.199,      0.003\n",
      "90000,      1.449,      0.002\n",
      "110000,      1.740,      0.002\n",
      "130000,      2.017,      0.003\n",
      "150000,      2.299,      0.003\n",
      "170000,      2.769,      0.003\n",
      "190000,      3.075,      0.003\n",
      "210000,      3.517,      0.002\n",
      "230000,      3.761,      0.003\n",
      "250000,      4.053,      0.003\n",
      "270000,      4.789,      0.003\n",
      "290000,      4.925,      0.003\n",
      "310000,      5.333,      0.003\n",
      "330000,      5.353,      0.003\n",
      "350000,      5.963,      0.003\n",
      "370000,      5.951,      0.003\n",
      "390000,      6.367,      0.003\n",
      "410000,      6.657,      0.003\n",
      "430000,      6.954,      0.003\n",
      "450000,      7.535,      0.003\n",
      "470000,      8.502,      0.003\n",
      "490000,      8.292,      0.002\n",
      "510000,      8.398,      0.003\n",
      "530000,      8.572,      0.003\n",
      "550000,      8.904,      0.005\n",
      "570000,      9.707,      0.003\n",
      "590000,     21.184,      0.003\n",
      "610000,     15.320,      0.003\n",
      "630000,     16.028,      0.003\n",
      "650000,     24.004,      0.003\n",
      "670000,     19.087,      0.003\n",
      "690000,     19.539,      0.003\n",
      "710000,     16.014,      0.003\n",
      "730000,     18.693,      0.003\n",
      "750000,     20.361,      0.005\n",
      "770000,     14.553,      0.003\n",
      "790000,     14.016,      0.003\n",
      "810000,     16.497,      0.003\n",
      "830000,     13.658,      0.003\n",
      "850000,     13.010,      0.003\n",
      "870000,     13.176,      0.003\n",
      "890000,     16.579,      0.003\n",
      "910000,     15.678,      0.003\n",
      "930000,     13.949,      0.003\n",
      "950000,     14.967,      0.003\n",
      "970000,     14.593,      0.003\n",
      "990000,     15.173,      0.003\n"
     ]
    }
   ],
   "source": [
    "import timeit\n",
    "import random\n",
    "\n",
    "for i in range(10000, 1000001, 20000):\n",
    "    t = timeit.Timer(\"random.randrange(%d) in x\" %i, \"from __main__ import random, x\")\n",
    "    x = list(range(i)) # 리스트\n",
    "    lst_time = t.timeit(number=1000)\n",
    "    x= {j: None for j in range(i)} # 딕셔너리\n",
    "    d_time = t.timeit(number=1000)\n",
    "    print(\"%d, %10.3f, %10.3f\" %(i, lst_time, d_time))"
   ]
  },
  {
   "cell_type": "code",
   "execution_count": 26,
   "metadata": {},
   "outputs": [
    {
     "name": "stdout",
     "output_type": "stream",
     "text": [
      "a hello\n",
      "b world\n",
      "c !\n"
     ]
    }
   ],
   "source": [
    "d = dict(c=\"!\", b=\"world\", a=\"hello\")\n",
    "for key in sorted(d.keys()):\n",
    "    print(key, d[key])"
   ]
  },
  {
   "cell_type": "code",
   "execution_count": 27,
   "metadata": {},
   "outputs": [],
   "source": [
    "def hello():\n",
    "    print(\"hello\")\n",
    "    \n",
    "def world():\n",
    "    print(\"world\")"
   ]
  },
  {
   "cell_type": "code",
   "execution_count": 28,
   "metadata": {},
   "outputs": [
    {
     "name": "stdout",
     "output_type": "stream",
     "text": [
      "hello\n"
     ]
    }
   ],
   "source": [
    "action = \"h\"\n",
    "\n",
    "if action == \"h\":\n",
    "    hello()\n",
    "elif action == \"w\":\n",
    "    world()"
   ]
  },
  {
   "cell_type": "code",
   "execution_count": 29,
   "metadata": {},
   "outputs": [
    {
     "name": "stdout",
     "output_type": "stream",
     "text": [
      "hello\n"
     ]
    }
   ],
   "source": [
    "functions = dict(h=hello, w=world)\n",
    "functions[action]()"
   ]
  },
  {
   "cell_type": "code",
   "execution_count": 30,
   "metadata": {},
   "outputs": [
    {
     "name": "stdout",
     "output_type": "stream",
     "text": [
      "{'c': [3], 'b': [2], 'a': [1]}\n",
      "defaultdict(<class 'list'>, {'c': [3], 'b': [2], 'a': [1]})\n"
     ]
    }
   ],
   "source": [
    "from collections import defaultdict\n",
    "\n",
    "def defaultdict_example():\n",
    "    pairs = {(\"a\", 1), (\"b\", 2), (\"c\", 3)}\n",
    "    \n",
    "    # 일반 딕셔너리\n",
    "    d1 = {}\n",
    "    for key, value in pairs:\n",
    "        if key not in d1:\n",
    "            d1[key] = []\n",
    "        d1[key].append(value)\n",
    "    print(d1)\n",
    "    \n",
    "    # defaultdict\n",
    "    d2 = defaultdict(list)\n",
    "    for key, value in pairs:\n",
    "        d2[key].append(value)\n",
    "    print(d2)\n",
    "    \n",
    "if __name__ == \"__main__\":\n",
    "    defaultdict_example()"
   ]
  },
  {
   "cell_type": "code",
   "execution_count": 32,
   "metadata": {},
   "outputs": [
    {
     "data": {
      "text/plain": [
       "OrderedDict([(8031, '백업'), (4027, '이메일 스캔'), (5733, '시스템 빌드')])"
      ]
     },
     "execution_count": 32,
     "metadata": {},
     "output_type": "execute_result"
    }
   ],
   "source": [
    "from collections import OrderedDict\n",
    "\n",
    "tasks = OrderedDict()\n",
    "tasks[8031] = \"백업\"\n",
    "tasks[4027] = \"이메일 스캔\"\n",
    "tasks[5733] = \"시스템 빌드\"\n",
    "tasks"
   ]
  },
  {
   "cell_type": "code",
   "execution_count": 34,
   "metadata": {},
   "outputs": [
    {
     "name": "stdout",
     "output_type": "stream",
     "text": [
      "3.7.6 (default, Jan  8 2020, 13:42:34) \n",
      "[Clang 4.0.1 (tags/RELEASE_401/final)]\n"
     ]
    }
   ],
   "source": [
    "import sys\n",
    "\n",
    "print(sys.version)"
   ]
  },
  {
   "cell_type": "code",
   "execution_count": 36,
   "metadata": {},
   "outputs": [
    {
     "name": "stdout",
     "output_type": "stream",
     "text": [
      "c [1]\n",
      "b [2]\n",
      "a [3]\n",
      "c 1\n",
      "b 2\n",
      "a 3\n"
     ]
    }
   ],
   "source": [
    "from collections import OrderedDict\n",
    "\n",
    "def orderedDict_example():\n",
    "    pairs = [(\"c\", 1), (\"b\", 2), (\"a\", 3)]\n",
    "    \n",
    "    # 일반 딕셔너리\n",
    "    d1 = {}\n",
    "    for key, value in pairs:\n",
    "        if key not in d1:\n",
    "            d1[key] = []\n",
    "        d1[key].append(value)\n",
    "    \n",
    "    for key in d1:\n",
    "        print(key, d1[key])\n",
    "        \n",
    "    # OrderedDict\n",
    "    d2 = OrderedDict(pairs)\n",
    "    for key in d2:\n",
    "        print(key, d2[key])\n",
    "        \n",
    "if __name__ == \"__main__\":\n",
    "    orderedDict_example()"
   ]
  },
  {
   "cell_type": "code",
   "execution_count": 39,
   "metadata": {},
   "outputs": [
    {
     "name": "stdout",
     "output_type": "stream",
     "text": [
      "Counter({5: 4, 1: 3, 2: 3, 3: 1, 4: 1})\n",
      "Counter({1: 4, 2: 4, 5: 4, 3: 2, 4: 1})\n",
      "Counter({1: 5, 2: 4, 5: 4, 3: 3, 4: 2})\n",
      "Counter({1: 1, 4: 1, 3: 1})\n",
      "Counter({1: 6, 2: 4, 3: 4, 5: 4, 4: 3})\n",
      "Counter({1: 4, 2: 4, 5: 4, 3: 2, 4: 1})\n"
     ]
    }
   ],
   "source": [
    "from collections import Counter\n",
    "\n",
    "def counter_example():\n",
    "    \"\"\" 항목의 발생 횟수를 매핑하는 딕셔너리를 생성한다. \"\"\"\n",
    "    seq1 = [1, 2, 3, 5, 1, 2, 5, 5, 2, 5, 1, 4]\n",
    "    seq_counts = Counter(seq1)\n",
    "    print(seq_counts)\n",
    "    \n",
    "    \"\"\" 항목의 발생 횟수를 수동으로 갱신하거나, update() 메서드를 사용할 수 있다. \"\"\"\n",
    "    seq2 = [1, 2, 3]\n",
    "    seq_counts.update(seq2)\n",
    "    print(seq_counts)\n",
    "    \n",
    "    seq3 = [1, 4, 3]\n",
    "    for key in seq3:\n",
    "        seq_counts[key] += 1\n",
    "    print(seq_counts)\n",
    "    \n",
    "    \"\"\" a + b, a - b 같은 셋 연산을 사용할 수 있다. \"\"\"\n",
    "    seq_counts_2 = Counter(seq3)\n",
    "    print(seq_counts_2)\n",
    "    print(seq_counts + seq_counts_2)\n",
    "    print(seq_counts - seq_counts_2)\n",
    "    \n",
    "if __name__ == \"__main__\":\n",
    "    counter_example()"
   ]
  },
  {
   "cell_type": "code",
   "execution_count": 40,
   "metadata": {},
   "outputs": [
    {
     "name": "stdout",
     "output_type": "stream",
     "text": [
      "테스트 통과!\n"
     ]
    }
   ],
   "source": [
    "from collections import Counter\n",
    "\n",
    "def find_top_N_recurring_words(seq, N):\n",
    "    dcounter = Counter()\n",
    "    for word in seq.split():\n",
    "        dcounter[word] += 1\n",
    "    \n",
    "    return dcounter.most_common(N)\n",
    "\n",
    "def test_find_top_N_recurring_words():\n",
    "    seq = \"버피 에인절 몬스터 잰더 윌로 버피 몬스터 슈퍼 버피 에인절\"\n",
    "    N = 3\n",
    "    assert(find_top_N_recurring_words(seq, N) == [(\"버피\", 3), (\"에인절\", 2), (\"몬스터\", 2)])\n",
    "    print(\"테스트 통과!\")\n",
    "    \n",
    "if __name__ == \"__main__\":\n",
    "    test_find_top_N_recurring_words()"
   ]
  },
  {
   "cell_type": "code",
   "execution_count": 41,
   "metadata": {},
   "outputs": [
    {
     "name": "stdout",
     "output_type": "stream",
     "text": [
      "테스트 통과!\n"
     ]
    }
   ],
   "source": [
    "from collections import Counter\n",
    "\n",
    "def is_anagram(s1, s2):\n",
    "    counter = Counter()\n",
    "    \n",
    "    for c in s1:\n",
    "        counter[c] += 1\n",
    "    \n",
    "    for c in s2:\n",
    "        counter[c] -= 1\n",
    "        \n",
    "    for i in counter.values():\n",
    "        if i:\n",
    "            return False\n",
    "    return True\n",
    "\n",
    "def test_is_anagram():\n",
    "    s1 = \"marina\"\n",
    "    s2 = \"aniram\"\n",
    "    assert(is_anagram(s1, s2) is True)\n",
    "    s1 = \"google\"\n",
    "    s2 = \"gouglo\"\n",
    "    assert(is_anagram(s1, s2) is False)\n",
    "    print(\"테스트 통과!\")\n",
    "    \n",
    "if __name__ == \"__main__\":\n",
    "    test_is_anagram()"
   ]
  },
  {
   "cell_type": "code",
   "execution_count": 42,
   "metadata": {},
   "outputs": [
    {
     "name": "stdout",
     "output_type": "stream",
     "text": [
      "테스트 통과!\n"
     ]
    }
   ],
   "source": [
    "import string\n",
    "\n",
    "def hash_func(astring):\n",
    "    s = 0\n",
    "    for one in astring:\n",
    "        if one in string.whitespace:\n",
    "            continue\n",
    "        s = s + ord(one)\n",
    "    return s\n",
    "\n",
    "def find_anagram_hash_function(word1, word2):\n",
    "    return hash_func(word1) == hash_func(word2)\n",
    "\n",
    "def test_find_anagram_hash_function():\n",
    "    word1 = \"buffy\"\n",
    "    word2 = \"bffyu\"\n",
    "    word3 = \"bffya\"\n",
    "    assert(find_anagram_hash_function(word1, word2) is True)\n",
    "    assert(find_anagram_hash_function(word1, word3) is False)\n",
    "    print(\"테스트 통과!\")\n",
    "    \n",
    "if __name__ == \"__main__\":\n",
    "    test_find_anagram_hash_function()"
   ]
  },
  {
   "cell_type": "code",
   "execution_count": 44,
   "metadata": {},
   "outputs": [
    {
     "name": "stdout",
     "output_type": "stream",
     "text": [
      "[4, [[1, 4], [2, 3], [3, 2], [4, 1]]]\n",
      "테스트 통과!\n"
     ]
    }
   ],
   "source": [
    "from collections import Counter, defaultdict\n",
    "\n",
    "def find_dice_probabilities(S, n_faces=6):\n",
    "    if S > 2 * n_faces or S < 2:\n",
    "        return None\n",
    "    \n",
    "    cdict = Counter()\n",
    "    ddict = defaultdict(list)\n",
    "    \n",
    "    # 두 주사위의 합을 모두 더해서 딕셔너리에 넣는다.\n",
    "    for dice1 in range(1, n_faces+1):\n",
    "        for dice2 in range(1, n_faces+1):\n",
    "            t = [dice1, dice2]\n",
    "            cdict[dice1+dice2] += 1\n",
    "            ddict[dice1+dice2].append(t)\n",
    "            \n",
    "    return [cdict[S], ddict[S]]\n",
    "\n",
    "def test_find_dice_probabilities():\n",
    "    n_faces = 6\n",
    "    S = 5\n",
    "    results = find_dice_probabilities(S, n_faces)\n",
    "    print(results)\n",
    "    assert(results[0] == len(results[1]))\n",
    "    print(\"테스트 통과!\")\n",
    "    \n",
    "if __name__ == \"__main__\":\n",
    "    test_find_dice_probabilities()"
   ]
  },
  {
   "cell_type": "code",
   "execution_count": 47,
   "metadata": {},
   "outputs": [
    {
     "name": "stdout",
     "output_type": "stream",
     "text": [
      "테스트 통과!\n"
     ]
    }
   ],
   "source": [
    "import string\n",
    "\n",
    "def delete_unique_word(str1):\n",
    "    table_c = {key: 0 for key in string.ascii_lowercase}\n",
    "    \n",
    "    for i in str1:\n",
    "        table_c[i] += 1\n",
    "    #print(table_c)\n",
    "    for key, value in table_c.items():\n",
    "        if value > 1:\n",
    "            str1 = str1.replace(key, \"\")\n",
    "        #print(str1)\n",
    "    return str1\n",
    "\n",
    "def test_delete_unique_word():\n",
    "    str1 = \"google\"\n",
    "    assert(delete_unique_word(str1) == \"le\")\n",
    "    print(\"테스트 통과!\")\n",
    "    \n",
    "if __name__ == \"__main__\":\n",
    "    test_delete_unique_word()"
   ]
  },
  {
   "cell_type": "code",
   "execution_count": null,
   "metadata": {},
   "outputs": [],
   "source": []
  }
 ],
 "metadata": {
  "kernelspec": {
   "display_name": "Python 3",
   "language": "python",
   "name": "python3"
  },
  "language_info": {
   "codemirror_mode": {
    "name": "ipython",
    "version": 3
   },
   "file_extension": ".py",
   "mimetype": "text/x-python",
   "name": "python",
   "nbconvert_exporter": "python",
   "pygments_lexer": "ipython3",
   "version": "3.7.6"
  }
 },
 "nbformat": 4,
 "nbformat_minor": 4
}
