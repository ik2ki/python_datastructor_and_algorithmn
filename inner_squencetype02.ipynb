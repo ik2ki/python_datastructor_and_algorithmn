{
 "cells": [
  {
   "cell_type": "code",
   "execution_count": 1,
   "metadata": {},
   "outputs": [
    {
     "name": "stdout",
     "output_type": "stream",
     "text": [
      "<class 'list'>\n",
      "<class 'str'>\n",
      "<class 'tuple'>\n",
      "<class 'bytearray'>\n",
      "<class 'bytes'>\n"
     ]
    }
   ],
   "source": [
    "l = []\n",
    "print(type(l))\n",
    "s = \"\"\n",
    "print(type(s))\n",
    "t = ()\n",
    "print(type(t))\n",
    "ba = bytearray(b\"\")\n",
    "print(type(ba))\n",
    "b = bytes([])\n",
    "print(type(b))"
   ]
  },
  {
   "cell_type": "code",
   "execution_count": 2,
   "metadata": {},
   "outputs": [],
   "source": [
    "myList = [1, 2, 3, 4]\n",
    "newList = myList[:]\n",
    "newList2 = list(myList)"
   ]
  },
  {
   "cell_type": "code",
   "execution_count": 3,
   "metadata": {},
   "outputs": [
    {
     "name": "stdout",
     "output_type": "stream",
     "text": [
      "1959209137792\n",
      "1959209142976\n",
      "1959209620288\n"
     ]
    }
   ],
   "source": [
    "print(id(myList))\n",
    "print(id(newList))\n",
    "print(id(newList2))"
   ]
  },
  {
   "cell_type": "code",
   "execution_count": 4,
   "metadata": {},
   "outputs": [
    {
     "name": "stdout",
     "output_type": "stream",
     "text": [
      "{'버피'}\n",
      "{'에인절', '자일스', '버피'}\n"
     ]
    }
   ],
   "source": [
    "people = {\"버피\", \"에인절\", \"자일스\"}\n",
    "slayers = people.copy()\n",
    "slayers.discard(\"자일스\")\n",
    "slayers.remove(\"에인절\")\n",
    "print(slayers)\n",
    "print(people)"
   ]
  },
  {
   "cell_type": "code",
   "execution_count": 5,
   "metadata": {},
   "outputs": [],
   "source": [
    "myDict = {\"안녕\": \"세상\"}\n",
    "newDict = myDict.copy()"
   ]
  },
  {
   "cell_type": "code",
   "execution_count": 6,
   "metadata": {},
   "outputs": [],
   "source": [
    "import copy\n",
    "myObj = \"다른 어떤 객체\"\n",
    "newObj = copy.copy(myObj) # 얕은 복사(shallow copy)\n",
    "newObj2 = copy.deepcopy(myObj) # 깊은 복사(deep copy)"
   ]
  },
  {
   "cell_type": "code",
   "execution_count": 9,
   "metadata": {},
   "outputs": [
    {
     "name": "stdout",
     "output_type": "stream",
     "text": [
      "!\n",
      "해\n",
      "해!\n",
      "뱀파이어를 조심\n",
      "뱀\n"
     ]
    }
   ],
   "source": [
    "word = \"뱀파이어를 조심해!\"\n",
    "print(word[-1])\n",
    "print(word[-2])\n",
    "print(word[-2:])\n",
    "print(word[:-2])\n",
    "print(word[-0])"
   ]
  },
  {
   "cell_type": "code",
   "execution_count": 10,
   "metadata": {},
   "outputs": [
    {
     "name": "stdout",
     "output_type": "stream",
     "text": [
      "잘가 세상 !\n"
     ]
    }
   ],
   "source": [
    "print(u'잘가\\u0020세상 !')"
   ]
  },
  {
   "cell_type": "code",
   "execution_count": 11,
   "metadata": {},
   "outputs": [
    {
     "name": "stdout",
     "output_type": "stream",
     "text": [
      "버피 앤 아스틴\n",
      "버피-<>-앤-<>-아스틴\n",
      "버피앤아스틴\n"
     ]
    }
   ],
   "source": [
    "slayer = [\"버피\", \"앤\", \"아스틴\"]\n",
    "print(\" \".join(slayer))\n",
    "print(\"-<>-\".join(slayer))\n",
    "print(\"\".join(slayer))"
   ]
  },
  {
   "cell_type": "code",
   "execution_count": 12,
   "metadata": {},
   "outputs": [
    {
     "data": {
      "text/plain": [
       "'아스틴앤버피'"
      ]
     },
     "execution_count": 12,
     "metadata": {},
     "output_type": "execute_result"
    }
   ],
   "source": [
    "\"\".join(reversed(slayer))"
   ]
  },
  {
   "cell_type": "code",
   "execution_count": 13,
   "metadata": {},
   "outputs": [
    {
     "name": "stdout",
     "output_type": "stream",
     "text": [
      "스칼렛-----------------------------------------------\n",
      "-----------------------------------------------스칼렛\n"
     ]
    }
   ],
   "source": [
    "name = \"스칼렛\"\n",
    "print(name.ljust(50, '-'))\n",
    "print(name.rjust(50, '-'))"
   ]
  },
  {
   "cell_type": "code",
   "execution_count": 14,
   "metadata": {},
   "outputs": [
    {
     "name": "stdout",
     "output_type": "stream",
     "text": [
      "안녕 파이썬!\n",
      "이름: 제임스, 나이: 17\n",
      "이름: 에이미, 나이: 12\n"
     ]
    }
   ],
   "source": [
    "print(\"{0} {1}\".format(\"안녕\", \"파이썬!\"))\n",
    "print(\"이름: {who}, 나이: {age}\".format(who=\"제임스\", age=17))\n",
    "print(\"이름: {who}, 나이: {0}\".format(12, who=\"에이미\"))"
   ]
  },
  {
   "cell_type": "code",
   "execution_count": 15,
   "metadata": {},
   "outputs": [
    {
     "data": {
      "text/plain": [
       "'파이썬 자료구조 알고리즘'"
      ]
     },
     "execution_count": 15,
     "metadata": {},
     "output_type": "execute_result"
    }
   ],
   "source": [
    "\"{} {} {}\".format(\"파이썬\", \"자료구조\", \"알고리즘\")"
   ]
  },
  {
   "cell_type": "code",
   "execution_count": 16,
   "metadata": {},
   "outputs": [
    {
     "data": {
      "text/plain": [
       "\"99.9 99.9 Decimal('99.9') Decimal('99.9')\""
      ]
     },
     "execution_count": 16,
     "metadata": {},
     "output_type": "execute_result"
    }
   ],
   "source": [
    "import decimal\n",
    "\"{0} {0!s} {0!r} {0!a}\".format(decimal.Decimal(\"99.9\"))"
   ]
  },
  {
   "cell_type": "code",
   "execution_count": 17,
   "metadata": {},
   "outputs": [
    {
     "data": {
      "text/plain": [
       "'999: 버퍼'"
      ]
     },
     "execution_count": 17,
     "metadata": {},
     "output_type": "execute_result"
    }
   ],
   "source": [
    "hero = \"버퍼\"\n",
    "number = 999\n",
    "\"{number}: {hero}\".format(**locals())"
   ]
  },
  {
   "cell_type": "code",
   "execution_count": 2,
   "metadata": {},
   "outputs": [
    {
     "data": {
      "text/plain": [
       "['로미오', '줄리엣']"
      ]
     },
     "execution_count": 2,
     "metadata": {},
     "output_type": "execute_result"
    }
   ],
   "source": [
    "slayers = \"로미오\\n줄리엣\"\n",
    "slayers.splitlines()"
   ]
  },
  {
   "cell_type": "code",
   "execution_count": 8,
   "metadata": {},
   "outputs": [
    {
     "data": {
      "text/plain": [
       "['버피', '크리스-메리*16']"
      ]
     },
     "execution_count": 8,
     "metadata": {},
     "output_type": "execute_result"
    }
   ],
   "source": [
    "slayers = \"버피*크리스-메리*16\"\n",
    "fields = slayers.split(\"*\")\n",
    "fields"
   ]
  },
  {
   "cell_type": "code",
   "execution_count": 4,
   "metadata": {},
   "outputs": [
    {
     "data": {
      "text/plain": [
       "['크리스', '메리']"
      ]
     },
     "execution_count": 4,
     "metadata": {},
     "output_type": "execute_result"
    }
   ],
   "source": [
    "job = fields[1].split(\"-\")\n",
    "job"
   ]
  },
  {
   "cell_type": "code",
   "execution_count": 10,
   "metadata": {},
   "outputs": [
    {
     "data": {
      "text/plain": [
       "'helloworld'"
      ]
     },
     "execution_count": 10,
     "metadata": {},
     "output_type": "execute_result"
    }
   ],
   "source": [
    "def erase_space_from_string(string):\n",
    "    s1 = string.split(\" \")\n",
    "    s2 = \"\".join(s1)\n",
    "    return s2\n",
    "\n",
    "s1 = \"hello world\"\n",
    "erase_space_from_string(s1)"
   ]
  },
  {
   "cell_type": "code",
   "execution_count": 11,
   "metadata": {},
   "outputs": [
    {
     "data": {
      "text/plain": [
       "['안녕', '세상*!']"
      ]
     },
     "execution_count": 11,
     "metadata": {},
     "output_type": "execute_result"
    }
   ],
   "source": [
    "start = \"안녕*세상*!\"\n",
    "start.split(\"*\", 1)"
   ]
  },
  {
   "cell_type": "code",
   "execution_count": 13,
   "metadata": {},
   "outputs": [
    {
     "data": {
      "text/plain": [
       "['안녕*세상', '!']"
      ]
     },
     "execution_count": 13,
     "metadata": {},
     "output_type": "execute_result"
    }
   ],
   "source": [
    "start.rsplit(\"*\", 1)"
   ]
  },
  {
   "cell_type": "code",
   "execution_count": 14,
   "metadata": {},
   "outputs": [
    {
     "data": {
      "text/plain": [
       "'로미오 & 줄리엣'"
      ]
     },
     "execution_count": 14,
     "metadata": {},
     "output_type": "execute_result"
    }
   ],
   "source": [
    "slayers = \"로미오 & 줄리엣999\"\n",
    "slayers.strip(\"999\")"
   ]
  },
  {
   "cell_type": "code",
   "execution_count": 49,
   "metadata": {},
   "outputs": [
    {
     "name": "stdout",
     "output_type": "stream",
     "text": [
      "metadata: 72번\n",
      "execution_count: 70번\n",
      "cell_type: 48번\n",
      "code: 48번\n",
      "outputs: 48번\n",
      "source: 48번\n",
      "output_type: 40번\n",
      "name: 24번\n",
      "data: 22번\n",
      "text/plain: 22번\n",
      "execute_result: 22번\n",
      "stdout: 16번\n",
      "stream: 16번\n",
      "text: 16번\n",
      "u001b[0m: 12번\n",
      "for: 12번\n",
      "class: 10번\n",
      "import: 10번\n",
      "print: 10번\n",
      "python: 10번\n",
      "slayers: 8번\n",
      "word: 8번\n",
      "로미오: 6번\n",
      "newlist: 4번\n",
      "버피'}\\n: 4번\n",
      "에인절: 4번\n",
      "newobj: 4번\n",
      "뱀파이어를: 4번\n",
      "print(\\\"이름: 4번\n",
      "who: 4번\n",
      "자료구조: 4번\n",
      "알고리즘: 4번\n",
      "decimal: 4번\n",
      "number: 4번\n",
      "줄리엣: 4번\n",
      "fields: 4번\n",
      "job: 4번\n",
      "def: 4번\n",
      "too: 4번\n",
      "many: 4번\n",
      "values: 4번\n",
      "unpack: 4번\n",
      "expected: 4번\n",
      "traceback: 4번\n",
      "u001b[1;31mvalueerror\\u001b[0m: 4번\n",
      "u001b[1;32m<ipython-input-47-272e9ec982a1>\\u001b[0m: 4번\n",
      "u001b[1;33m=\\u001b[0m: 4번\n",
      "u001b[1;33m: 4번\n",
      "filename: 4번\n",
      "file:\\n: 4번\n",
      "key=lambda: 4번\n",
      "item: 4번\n",
      "ipython: 4번\n",
      "version: 4번\n",
      "cells: 2번\n",
      "list'>\\n: 2번\n",
      "str'>\\n: 2번\n",
      "tuple'>\\n: 2번\n",
      "bytearray'>\\n: 2번\n",
      "bytes'>\\n: 2번\n",
      "print(type(l))\\n: 2번\n",
      "print(type(s))\\n: 2번\n",
      "print(type(t))\\n: 2번\n",
      "bytearray(b\\\"\\\")\\n: 2번\n",
      "print(type(ba))\\n: 2번\n",
      "bytes([])\\n: 2번\n",
      "print(type(b: 2번\n",
      "mylist: 2번\n",
      "mylist[:]\\n: 2번\n",
      "list(mylist: 2번\n",
      "print(id(mylist))\\n: 2번\n",
      "print(id(newlist))\\n: 2번\n",
      "print(id(newlist: 2번\n",
      "자일스: 2번\n",
      "people: 2번\n",
      "자일스\\\"}\\n: 2번\n",
      "people.copy()\\n: 2번\n",
      "slayers.discard(\\\"자일스\\\")\\n: 2번\n",
      "slayers.remove(\\\"에인절\\\")\\n: 2번\n",
      "print(slayers)\\n: 2번\n",
      "print(people: 2번\n",
      "mydict: 2번\n",
      "세상\\\"}\\n: 2번\n",
      "newdict: 2번\n",
      "mydict.copy: 2번\n",
      "copy\\n: 2번\n",
      "myobj: 2번\n",
      "객체\\\"\\n: 2번\n",
      "copy.copy(myobj: 2번\n",
      "복사(shallow: 2번\n",
      "copy)\\n: 2번\n",
      "copy.deepcopy(myobj: 2번\n",
      "복사(deep: 2번\n",
      "copy: 2번\n",
      "해\\n: 2번\n",
      "해!\\n: 2번\n",
      "조심\\n: 2번\n",
      "뱀\\n: 2번\n",
      "조심해!\\\"\\n: 2번\n",
      "print(word[-1])\\n: 2번\n",
      "print(word[-2])\\n: 2번\n",
      "print(word[-2:])\\n: 2번\n",
      "print(word[:-2])\\n: 2번\n",
      "print(word: 2번\n",
      "print(u'잘가\\\\u0020세상: 2번\n",
      "아스틴\\n: 2번\n",
      "버피-<>-앤-<>-아스틴\\n: 2번\n",
      "버피앤아스틴\\n: 2번\n",
      "slayer: 2번\n",
      "아스틴\\\"]\\n: 2번\n",
      "join(slayer))\\n: 2번\n",
      "print(\\\"-<>-\\\".join(slayer))\\n: 2번\n",
      "print(\\\"\\\".join(slayer: 2번\n",
      "아스틴앤버피: 2번\n",
      "join(reversed(slayer: 2번\n",
      "스칼렛-----------------------------------------------\\n: 2번\n",
      "스칼렛\\n: 2번\n",
      "스칼렛\\\"\\n: 2번\n",
      "print(name.ljust: 2번\n",
      "print(name.rjust: 2번\n",
      "파이썬!\\n: 2번\n",
      "제임스: 2번\n",
      "에이미: 2번\n",
      "format(\\\"안녕: 2번\n",
      "파이썬!\\\"))\\n: 2번\n",
      "age}\\\".format(who=\\\"제임스: 2번\n",
      "age=17))\\n: 2번\n",
      "format: 2번\n",
      "who=\\\"에이미: 2번\n",
      "파이썬: 2번\n",
      "format(\\\"파이썬: 2번\n",
      "decimal\\n: 2번\n",
      "a}\\\".format(decimal.decimal: 2번\n",
      "hero: 2번\n",
      "버퍼\\\"\\n: 2번\n",
      "hero}\\\".format(**locals: 2번\n",
      "로미오\\\\n줄리엣\\\"\\n: 2번\n",
      "slayers.splitlines: 2번\n",
      "크리스-메리: 2번\n",
      "버피*크리스-메리*16\\\"\\n: 2번\n",
      "slayers.split(\\\"*\\\")\\n: 2번\n",
      "크리스: 2번\n",
      "fields[1].split(\\\"-\\\")\\n: 2번\n",
      "helloworld: 2번\n",
      "erase_space_from_string(string):\\n: 2번\n",
      "string.split: 2번\n",
      "join(s1)\\n: 2번\n",
      "return: 2번\n",
      "s2\\n: 2번\n",
      "hello: 2번\n",
      "world\\\"\\n: 2번\n",
      "erase_space_from_string(s: 2번\n",
      "start: 2번\n",
      "안녕*세상*!\\\"\\n: 2번\n",
      "start.split: 2번\n",
      "안녕*세상: 2번\n",
      "start.rsplit: 2번\n",
      "줄리엣999\\\"\\n: 2번\n",
      "slayers.strip: 2번\n",
      "ename: 2번\n",
      "valueerror: 2번\n",
      "evalue: 2번\n",
      "error: 2번\n",
      "u001b[1;31m---------------------------------------------------------------------------\\u001b[0m: 2번\n",
      "most: 2번\n",
      "recent: 2번\n",
      "call: 2번\n",
      "last: 2번\n",
      "u001b[0;36m<module>\\u001b[1;34m\\u001b[0m\\n\\u001b[0;32m: 2번\n",
      "u001b[1;32mif\\u001b[0m: 2번\n",
      "u001b[0m__name__\\u001b[0m\\u001b[1;33m==\\u001b[0m\\u001b[1;34m\\\"__main__\\\"\\u001b[0m\\u001b[1;33m:\\u001b[0m\\u001b[1;33m\\u001b[0m\\u001b[1;33m\\u001b[0m\\u001b[0m\\n\\u001b[0;32m: 2번\n",
      "u001b[0mfilename\\u001b[0m: 2번\n",
      "u001b[1;34m\\\"inner_squencetype02.ipynb\\\"\\u001b[0m\\u001b[1;33m\\u001b[0m\\u001b[1;33m\\u001b[0m\\u001b[0m\\n\\u001b[1;32m: 2번\n",
      "u001b[0mcount_unique_word\\u001b[0m\\u001b[1;33m(\\u001b[0m\\u001b[0mfilename\\u001b[0m\\u001b[1;33m)\\u001b[0m\\u001b[1;33m\\u001b[0m\\u001b[1;33m\\u001b[0m\\u001b[0m\\n\\u001b[0m: 2번\n",
      "u001b[0;36mcount_unique_word\\u001b[1;34m(filename)\\u001b[0m\\n\\u001b[0;32m: 2번\n",
      "u001b[1;33m\\u001b[0m\\u001b[0m\\n\\u001b[0;32m: 2번\n",
      "u001b[0msorted_words\\u001b[0m: 2번\n",
      "u001b[0mdict\\u001b[0m\\u001b[1;33m(\\u001b[0m\\u001b[0msorted\\u001b[0m\\u001b[1;33m(\\u001b[0m\\u001b[0mwords\\u001b[0m\\u001b[1;33m.\\u001b[0m\\u001b[0mitems\\u001b[0m\\u001b[1;33m(\\u001b[0m\\u001b[1;33m)\\u001b[0m\\u001b[1;33m,\\u001b[0m: 2번\n",
      "u001b[0mkey\\u001b[0m\\u001b[1;33m=\\u001b[0m\\u001b[1;32mlambda\\u001b[0m: 2번\n",
      "u001b[0mitem\\u001b[0m\\u001b[1;33m:\\u001b[0m: 2번\n",
      "u001b[0mitem\\u001b[0m\\u001b[1;33m[\\u001b[0m\\u001b[1;36m1\\u001b[0m\\u001b[1;33m]\\u001b[0m\\u001b[1;33m,\\u001b[0m: 2번\n",
      "u001b[0mreverse\\u001b[0m\\u001b[1;33m=\\u001b[0m\\u001b[1;32mtrue\\u001b[0m\\u001b[1;33m)\\u001b[0m\\u001b[1;33m)\\u001b[0m\\u001b[1;33m\\u001b[0m\\u001b[1;33m\\u001b[0m\\u001b[0m\\n\\u001b[1;32m: 2번\n",
      "u001b[1;32mfor\\u001b[0m: 2번\n",
      "u001b[0mk\\u001b[0m\\u001b[1;33m,\\u001b[0m: 2번\n",
      "u001b[0mv\\u001b[0m: 2번\n",
      "u001b[1;32min\\u001b[0m: 2번\n",
      "u001b[0msorted_words\\u001b[0m\\u001b[1;33m:\\u001b[0m\\u001b[1;33m\\u001b[0m\\u001b[1;33m\\u001b[0m\\u001b[0m\\n\\u001b[0m\\u001b[0;32m: 2번\n",
      "u001b[0mprint\\u001b[0m\\u001b[1;33m(\\u001b[0m\\u001b[1;34m: 2번\n",
      "번\\\"\\u001b[0m\\u001b[1;33m.\\u001b[0m\\u001b[0mformat\\u001b[0m\\u001b[1;33m(\\u001b[0m\\u001b[0mk\\u001b[0m\\u001b[1;33m,\\u001b[0m: 2번\n",
      "u001b[0mv\\u001b[0m\\u001b[1;33m)\\u001b[0m\\u001b[1;33m)\\u001b[0m\\u001b[1;33m\\u001b[0m\\u001b[1;33m\\u001b[0m\\u001b[0m\\n\\u001b[0;32m: 2번\n",
      "u001b[1;31m#for: 2번\n",
      "enumerate(words):\\u001b[0m\\u001b[1;33m\\u001b[0m\\u001b[1;33m\\u001b[0m\\u001b[1;33m\\u001b[0m\\u001b[0m\\n: 2번\n",
      "string\\n: 2번\n",
      "sys\\n: 2번\n",
      "os\\n: 2번\n",
      "count_unique_word(filename):\\n: 2번\n",
      "currentpath: 2번\n",
      "os.getcwd()\\n: 2번\n",
      "words: 2번\n",
      "strip: 2번\n",
      "string.whitespace: 2번\n",
      "string.punctuation: 2번\n",
      "string.digits+\\\"\\\\\\\"'\\\"\\n: 2번\n",
      "abspath: 2번\n",
      "currentpath+\\\"\\\\\\\\\\\"+filename\\n: 2번\n",
      "sys.argv[1:]:\\n: 2번\n",
      "with: 2번\n",
      "open(abspath: 2번\n",
      "encoding='utf: 2번\n",
      "line: 2번\n",
      "line.lower().split():\\n: 2번\n",
      "word.strip(strip)\\n: 2번\n",
      "len(word: 2번\n",
      "words[word: 2번\n",
      "words.get(word: 2번\n",
      "sorted_words: 2번\n",
      "dict(sorted(words.items: 2번\n",
      "reverse=true))\\n: 2번\n",
      "enumerate(sorted_words):\\n: 2번\n",
      "번\\\".format(k: 2번\n",
      "v))\\n: 2번\n",
      "enumerate(words):\\n: 2번\n",
      "format(v: 2번\n",
      "words[v]))\\n: 2번\n",
      "counted_words: 2번\n",
      "sorted(ds)\\n: 2번\n",
      "sorted(words: 2번\n",
      "x[0]):\\n: 2번\n",
      "번\\\".format(word: 2번\n",
      "words[word]))\\n: 2번\n",
      "name__==\\\"__main__\\\":\\n: 2번\n",
      "inner_squencetype02.ipynb\\\"\\n: 2번\n",
      "count_unique_word(filename: 2번\n",
      "null: 2번\n",
      "kernelspec: 2번\n",
      "display_name: 2번\n",
      "language: 2번\n",
      "language_info: 2번\n",
      "codemirror_mode: 2번\n",
      "file_extension: 2번\n",
      "mimetype: 2번\n",
      "text/x-python: 2번\n",
      "nbconvert_exporter: 2번\n",
      "pygments_lexer: 2번\n",
      "nbformat: 2번\n",
      "nbformat_minor: 2번\n"
     ]
    }
   ],
   "source": [
    "import string\n",
    "import sys\n",
    "import os\n",
    "\n",
    "def count_unique_word(filename):\n",
    "    currentPath = os.getcwd()\n",
    "    words = {}\n",
    "    strip = string.whitespace + string.punctuation + string.digits+\"\\\"'\"\n",
    "    abspath = currentPath+\"\\\\\"+filename\n",
    "    for filename in sys.argv[1:]:\n",
    "        with open(abspath, encoding='UTF-8') as file:\n",
    "            for line in file:\n",
    "                for word in line.lower().split():\n",
    "                    word = word.strip(strip)\n",
    "                    if len(word) > 2:\n",
    "                        words[word] = words.get(word,0) + 1\n",
    "    \n",
    "    sorted_words = dict(sorted(words.items(), key=lambda item: item[1], reverse=True))\n",
    "    for word in sorted_words:\n",
    "        print(\"{0}: {1}번\".format(word, sorted_words[word]))\n",
    "\n",
    "if __name__==\"__main__\":\n",
    "    filename = \"inner_squencetype02.ipynb\"\n",
    "    count_unique_word(filename)"
   ]
  },
  {
   "cell_type": "code",
   "execution_count": 50,
   "metadata": {},
   "outputs": [
    {
     "data": {
      "text/plain": [
       "'bUFFY AND fAITH'"
      ]
     },
     "execution_count": 50,
     "metadata": {},
     "output_type": "execute_result"
    }
   ],
   "source": [
    "slayers = \"Buffy and Faith\"\n",
    "slayers.swapcase()"
   ]
  },
  {
   "cell_type": "code",
   "execution_count": 51,
   "metadata": {},
   "outputs": [
    {
     "data": {
      "text/plain": [
       "'buffy and faith'"
      ]
     },
     "execution_count": 51,
     "metadata": {},
     "output_type": "execute_result"
    }
   ],
   "source": [
    "slayers.lower()"
   ]
  },
  {
   "cell_type": "code",
   "execution_count": 53,
   "metadata": {},
   "outputs": [
    {
     "data": {
      "text/plain": [
       "'BUFFY AND FAITH'"
      ]
     },
     "execution_count": 53,
     "metadata": {},
     "output_type": "execute_result"
    }
   ],
   "source": [
    "slayers.upper()"
   ]
  },
  {
   "cell_type": "code",
   "execution_count": 54,
   "metadata": {},
   "outputs": [
    {
     "data": {
      "text/plain": [
       "'Buffy and faith'"
      ]
     },
     "execution_count": 54,
     "metadata": {},
     "output_type": "execute_result"
    }
   ],
   "source": [
    "(slayers.upper()).capitalize()"
   ]
  },
  {
   "cell_type": "code",
   "execution_count": 55,
   "metadata": {},
   "outputs": [
    {
     "data": {
      "text/plain": [
       "4"
      ]
     },
     "execution_count": 55,
     "metadata": {},
     "output_type": "execute_result"
    }
   ],
   "source": [
    "slayers = \"Buffy and Faith\"\n",
    "slayers.find(\"y\")"
   ]
  },
  {
   "cell_type": "code",
   "execution_count": 56,
   "metadata": {},
   "outputs": [
    {
     "data": {
      "text/plain": [
       "-1"
      ]
     },
     "execution_count": 56,
     "metadata": {},
     "output_type": "execute_result"
    }
   ],
   "source": [
    "slayers.find(\"k\")"
   ]
  },
  {
   "cell_type": "code",
   "execution_count": 57,
   "metadata": {},
   "outputs": [
    {
     "ename": "ValueError",
     "evalue": "substring not found",
     "output_type": "error",
     "traceback": [
      "\u001b[1;31m---------------------------------------------------------------------------\u001b[0m",
      "\u001b[1;31mValueError\u001b[0m                                Traceback (most recent call last)",
      "\u001b[1;32m<ipython-input-57-7cea7291525c>\u001b[0m in \u001b[0;36m<module>\u001b[1;34m\u001b[0m\n\u001b[1;32m----> 1\u001b[1;33m \u001b[0mslayers\u001b[0m\u001b[1;33m.\u001b[0m\u001b[0mindex\u001b[0m\u001b[1;33m(\u001b[0m\u001b[1;34m\"k\"\u001b[0m\u001b[1;33m)\u001b[0m\u001b[1;33m\u001b[0m\u001b[1;33m\u001b[0m\u001b[0m\n\u001b[0m",
      "\u001b[1;31mValueError\u001b[0m: substring not found"
     ]
    }
   ],
   "source": [
    "slayers.index(\"k\")"
   ]
  },
  {
   "cell_type": "code",
   "execution_count": 58,
   "metadata": {},
   "outputs": [
    {
     "data": {
      "text/plain": [
       "4"
      ]
     },
     "execution_count": 58,
     "metadata": {},
     "output_type": "execute_result"
    }
   ],
   "source": [
    "slayers.index(\"y\")"
   ]
  },
  {
   "cell_type": "code",
   "execution_count": 59,
   "metadata": {},
   "outputs": [
    {
     "data": {
      "text/plain": [
       "2"
      ]
     },
     "execution_count": 59,
     "metadata": {},
     "output_type": "execute_result"
    }
   ],
   "source": [
    "slayer = \"Buffy is Buffy is Buffy\"\n",
    "slayer.count(\"Buffy\", 0, -1)"
   ]
  },
  {
   "cell_type": "code",
   "execution_count": 60,
   "metadata": {},
   "outputs": [
    {
     "data": {
      "text/plain": [
       "3"
      ]
     },
     "execution_count": 60,
     "metadata": {},
     "output_type": "execute_result"
    }
   ],
   "source": [
    "slayer.count(\"Buffy\")"
   ]
  },
  {
   "cell_type": "code",
   "execution_count": 61,
   "metadata": {},
   "outputs": [
    {
     "data": {
      "text/plain": [
       "'who is who is Buffy'"
      ]
     },
     "execution_count": 61,
     "metadata": {},
     "output_type": "execute_result"
    }
   ],
   "source": [
    "slayer = \"Buffy is Buffy is Buffy\"\n",
    "slayer.replace(\"Buffy\", \"who\", 2)"
   ]
  },
  {
   "cell_type": "code",
   "execution_count": 63,
   "metadata": {},
   "outputs": [
    {
     "data": {
      "text/plain": [
       "\"그의 이름은 '프레드'입니다.\""
      ]
     },
     "execution_count": 63,
     "metadata": {},
     "output_type": "execute_result"
    }
   ],
   "source": [
    "name = \"프레드\"\n",
    "f\"그의 이름은 {name!r}입니다.\""
   ]
  },
  {
   "cell_type": "code",
   "execution_count": 65,
   "metadata": {},
   "outputs": [
    {
     "data": {
      "text/plain": [
       "\"그의 이름은 '프레드'입니다.\""
      ]
     },
     "execution_count": 65,
     "metadata": {},
     "output_type": "execute_result"
    }
   ],
   "source": [
    "f\"그의 이름은 {repr(name)}입니다.\""
   ]
  },
  {
   "cell_type": "code",
   "execution_count": 67,
   "metadata": {},
   "outputs": [
    {
     "data": {
      "text/plain": [
       "'결과:      12.35'"
      ]
     },
     "execution_count": 67,
     "metadata": {},
     "output_type": "execute_result"
    }
   ],
   "source": [
    "import decimal\n",
    "width = 10\n",
    "precision = 4\n",
    "value = decimal.Decimal(\"12.34567\")\n",
    "f\"결과: {value:{width}.{precision}}\""
   ]
  },
  {
   "cell_type": "code",
   "execution_count": 68,
   "metadata": {},
   "outputs": [
    {
     "data": {
      "text/plain": [
       "'December 27 2021'"
      ]
     },
     "execution_count": 68,
     "metadata": {},
     "output_type": "execute_result"
    }
   ],
   "source": [
    "from datetime import datetime\n",
    "today = datetime.now()\n",
    "f\"{today:%B %d %Y}\""
   ]
  },
  {
   "cell_type": "code",
   "execution_count": 69,
   "metadata": {},
   "outputs": [
    {
     "data": {
      "text/plain": [
       "'0x400'"
      ]
     },
     "execution_count": 69,
     "metadata": {},
     "output_type": "execute_result"
    }
   ],
   "source": [
    "number = 1024\n",
    "f\"{number:#0x}\""
   ]
  },
  {
   "cell_type": "code",
   "execution_count": 71,
   "metadata": {},
   "outputs": [
    {
     "data": {
      "text/plain": [
       "1234"
      ]
     },
     "execution_count": 71,
     "metadata": {},
     "output_type": "execute_result"
    }
   ],
   "source": [
    "t1 = 1234, '안녕!'\n",
    "t1[0]"
   ]
  },
  {
   "cell_type": "code",
   "execution_count": 72,
   "metadata": {},
   "outputs": [
    {
     "data": {
      "text/plain": [
       "(1234, '안녕!')"
      ]
     },
     "execution_count": 72,
     "metadata": {},
     "output_type": "execute_result"
    }
   ],
   "source": [
    "t1"
   ]
  },
  {
   "cell_type": "code",
   "execution_count": 73,
   "metadata": {},
   "outputs": [
    {
     "data": {
      "text/plain": [
       "((1234, '안녕!'), (1, 2, 3, 4, 5))"
      ]
     },
     "execution_count": 73,
     "metadata": {},
     "output_type": "execute_result"
    }
   ],
   "source": [
    "t2 = t1, (1, 2, 3, 4, 5)\n",
    "t2"
   ]
  },
  {
   "cell_type": "code",
   "execution_count": 74,
   "metadata": {},
   "outputs": [
    {
     "data": {
      "text/plain": [
       "0"
      ]
     },
     "execution_count": 74,
     "metadata": {},
     "output_type": "execute_result"
    }
   ],
   "source": [
    "empty = ()\n",
    "t1 = '안녕',\n",
    "len(empty)"
   ]
  },
  {
   "cell_type": "code",
   "execution_count": 75,
   "metadata": {},
   "outputs": [
    {
     "data": {
      "text/plain": [
       "1"
      ]
     },
     "execution_count": 75,
     "metadata": {},
     "output_type": "execute_result"
    }
   ],
   "source": [
    "len(t1)"
   ]
  },
  {
   "cell_type": "code",
   "execution_count": 76,
   "metadata": {},
   "outputs": [
    {
     "data": {
      "text/plain": [
       "('안녕',)"
      ]
     },
     "execution_count": 76,
     "metadata": {},
     "output_type": "execute_result"
    }
   ],
   "source": [
    "t1"
   ]
  },
  {
   "cell_type": "code",
   "execution_count": 77,
   "metadata": {},
   "outputs": [
    {
     "data": {
      "text/plain": [
       "'안녕'"
      ]
     },
     "execution_count": 77,
     "metadata": {},
     "output_type": "execute_result"
    }
   ],
   "source": [
    "t2 = ('안녕')\n",
    "t2"
   ]
  },
  {
   "cell_type": "code",
   "execution_count": 78,
   "metadata": {},
   "outputs": [
    {
     "data": {
      "text/plain": [
       "2"
      ]
     },
     "execution_count": 78,
     "metadata": {},
     "output_type": "execute_result"
    }
   ],
   "source": [
    "len(t2)"
   ]
  },
  {
   "cell_type": "code",
   "execution_count": 79,
   "metadata": {},
   "outputs": [
    {
     "data": {
      "text/plain": [
       "2"
      ]
     },
     "execution_count": 79,
     "metadata": {},
     "output_type": "execute_result"
    }
   ],
   "source": [
    "t = 1, 5, 7, 8, 9, 4, 1, 4\n",
    "t.count(4)"
   ]
  },
  {
   "cell_type": "code",
   "execution_count": 80,
   "metadata": {},
   "outputs": [
    {
     "data": {
      "text/plain": [
       "1"
      ]
     },
     "execution_count": 80,
     "metadata": {},
     "output_type": "execute_result"
    }
   ],
   "source": [
    "t = 1, 5, 7\n",
    "t.index(5)"
   ]
  },
  {
   "cell_type": "code",
   "execution_count": 81,
   "metadata": {},
   "outputs": [
    {
     "data": {
      "text/plain": [
       "1"
      ]
     },
     "execution_count": 81,
     "metadata": {},
     "output_type": "execute_result"
    }
   ],
   "source": [
    "x, *y = (1, 2, 3, 4)\n",
    "x"
   ]
  },
  {
   "cell_type": "code",
   "execution_count": 82,
   "metadata": {},
   "outputs": [
    {
     "data": {
      "text/plain": [
       "[2, 3, 4]"
      ]
     },
     "execution_count": 82,
     "metadata": {},
     "output_type": "execute_result"
    }
   ],
   "source": [
    "y"
   ]
  },
  {
   "cell_type": "code",
   "execution_count": 83,
   "metadata": {},
   "outputs": [
    {
     "data": {
      "text/plain": [
       "[1, 2, 3]"
      ]
     },
     "execution_count": 83,
     "metadata": {},
     "output_type": "execute_result"
    }
   ],
   "source": [
    "*x, y = (1, 2, 3, 4)\n",
    "x"
   ]
  },
  {
   "cell_type": "code",
   "execution_count": 84,
   "metadata": {},
   "outputs": [
    {
     "data": {
      "text/plain": [
       "4"
      ]
     },
     "execution_count": 84,
     "metadata": {},
     "output_type": "execute_result"
    }
   ],
   "source": [
    "y"
   ]
  },
  {
   "cell_type": "code",
   "execution_count": 85,
   "metadata": {},
   "outputs": [
    {
     "data": {
      "text/plain": [
       "Person(name='아스틴', age=30, gender='남자')"
      ]
     },
     "execution_count": 85,
     "metadata": {},
     "output_type": "execute_result"
    }
   ],
   "source": [
    "import collections\n",
    "Person = collections.namedtuple('Person', 'name age gender')\n",
    "# Person = collections.namedtuple('Person', ['name', 'age', 'gender'])\n",
    "# Person = collections.namedtuple('Person', ('name', 'age', 'gender'))\n",
    "p = Person('아스틴', 30, '남자')\n",
    "p"
   ]
  },
  {
   "cell_type": "code",
   "execution_count": 86,
   "metadata": {},
   "outputs": [
    {
     "data": {
      "text/plain": [
       "'아스틴'"
      ]
     },
     "execution_count": 86,
     "metadata": {},
     "output_type": "execute_result"
    }
   ],
   "source": [
    "p[0]"
   ]
  },
  {
   "cell_type": "code",
   "execution_count": 87,
   "metadata": {},
   "outputs": [
    {
     "data": {
      "text/plain": [
       "'아스틴'"
      ]
     },
     "execution_count": 87,
     "metadata": {},
     "output_type": "execute_result"
    }
   ],
   "source": [
    "p.name"
   ]
  },
  {
   "cell_type": "code",
   "execution_count": 88,
   "metadata": {},
   "outputs": [
    {
     "ename": "AttributeError",
     "evalue": "can't set attribute",
     "output_type": "error",
     "traceback": [
      "\u001b[1;31m---------------------------------------------------------------------------\u001b[0m",
      "\u001b[1;31mAttributeError\u001b[0m                            Traceback (most recent call last)",
      "\u001b[1;32m<ipython-input-88-b29e99bf1482>\u001b[0m in \u001b[0;36m<module>\u001b[1;34m\u001b[0m\n\u001b[1;32m----> 1\u001b[1;33m \u001b[0mp\u001b[0m\u001b[1;33m.\u001b[0m\u001b[0mage\u001b[0m \u001b[1;33m=\u001b[0m \u001b[1;36m20\u001b[0m\u001b[1;33m\u001b[0m\u001b[1;33m\u001b[0m\u001b[0m\n\u001b[0m",
      "\u001b[1;31mAttributeError\u001b[0m: can't set attribute"
     ]
    }
   ],
   "source": [
    "p.age = 20"
   ]
  },
  {
   "cell_type": "code",
   "execution_count": 89,
   "metadata": {},
   "outputs": [
    {
     "data": {
      "text/plain": [
       "[1, [2, 3, '버피'], 4]"
      ]
     },
     "execution_count": 89,
     "metadata": {},
     "output_type": "execute_result"
    }
   ],
   "source": [
    "q = [2, 3]\n",
    "p = [1, q, 4]\n",
    "p[1].append(\"버피\")\n",
    "p"
   ]
  },
  {
   "cell_type": "code",
   "execution_count": 90,
   "metadata": {},
   "outputs": [
    {
     "data": {
      "text/plain": [
       "[2, 3, '버피']"
      ]
     },
     "execution_count": 90,
     "metadata": {},
     "output_type": "execute_result"
    }
   ],
   "source": [
    "q"
   ]
  },
  {
   "cell_type": "code",
   "execution_count": 91,
   "metadata": {},
   "outputs": [
    {
     "data": {
      "text/plain": [
       "['버피', '페이스', '자일스']"
      ]
     },
     "execution_count": 91,
     "metadata": {},
     "output_type": "execute_result"
    }
   ],
   "source": [
    "people = [\"버피\", \"페이스\"]\n",
    "people.append(\"자일스\")\n",
    "people"
   ]
  },
  {
   "cell_type": "code",
   "execution_count": 92,
   "metadata": {},
   "outputs": [
    {
     "data": {
      "text/plain": [
       "['버피', '페이스', '자일스', '젠더']"
      ]
     },
     "execution_count": 92,
     "metadata": {},
     "output_type": "execute_result"
    }
   ],
   "source": [
    "people[len(people):] = [\"젠더\"]\n",
    "people"
   ]
  },
  {
   "cell_type": "code",
   "execution_count": 93,
   "metadata": {},
   "outputs": [
    {
     "data": {
      "text/plain": [
       "['버피', '페이스', '자', '일', '스']"
      ]
     },
     "execution_count": 93,
     "metadata": {},
     "output_type": "execute_result"
    }
   ],
   "source": [
    "people = [\"버피\", \"페이스\"]\n",
    "people.extend(\"자일스\")\n",
    "people"
   ]
  },
  {
   "cell_type": "code",
   "execution_count": 94,
   "metadata": {},
   "outputs": [
    {
     "data": {
      "text/plain": [
       "['버피', '페이스', '자', '일', '스', '윌', '로']"
      ]
     },
     "execution_count": 94,
     "metadata": {},
     "output_type": "execute_result"
    }
   ],
   "source": [
    "people += \"윌로\"\n",
    "people"
   ]
  },
  {
   "cell_type": "code",
   "execution_count": 95,
   "metadata": {},
   "outputs": [
    {
     "data": {
      "text/plain": [
       "['버피', '페이스', '자', '일', '스', '윌', '로', '잰더']"
      ]
     },
     "execution_count": 95,
     "metadata": {},
     "output_type": "execute_result"
    }
   ],
   "source": [
    "people += [\"잰더\"]\n",
    "people"
   ]
  },
  {
   "cell_type": "code",
   "execution_count": 96,
   "metadata": {},
   "outputs": [
    {
     "data": {
      "text/plain": [
       "['버피', '페이스', '자', '일', '스', '윌', '로', '잰더', '아', '스', '틴']"
      ]
     },
     "execution_count": 96,
     "metadata": {},
     "output_type": "execute_result"
    }
   ],
   "source": [
    "people[len(people):] = \"아스틴\"\n",
    "people"
   ]
  },
  {
   "cell_type": "code",
   "execution_count": 97,
   "metadata": {},
   "outputs": [
    {
     "data": {
      "text/plain": [
       "['버피', '잰더', '페이스']"
      ]
     },
     "execution_count": 97,
     "metadata": {},
     "output_type": "execute_result"
    }
   ],
   "source": [
    "people = [\"버피\", \"페이스\"]\n",
    "people.insert(1, \"잰더\")\n",
    "people"
   ]
  },
  {
   "cell_type": "code",
   "execution_count": 99,
   "metadata": {},
   "outputs": [
    {
     "data": {
      "text/plain": [
       "['페이스']"
      ]
     },
     "execution_count": 99,
     "metadata": {},
     "output_type": "execute_result"
    }
   ],
   "source": [
    "people = [\"버피\", \"페이스\"]\n",
    "people.remove(\"버피\")\n",
    "people"
   ]
  },
  {
   "cell_type": "code",
   "execution_count": 100,
   "metadata": {},
   "outputs": [
    {
     "ename": "ValueError",
     "evalue": "list.remove(x): x not in list",
     "output_type": "error",
     "traceback": [
      "\u001b[1;31m---------------------------------------------------------------------------\u001b[0m",
      "\u001b[1;31mValueError\u001b[0m                                Traceback (most recent call last)",
      "\u001b[1;32m<ipython-input-100-490147300fc7>\u001b[0m in \u001b[0;36m<module>\u001b[1;34m\u001b[0m\n\u001b[1;32m----> 1\u001b[1;33m \u001b[0mpeople\u001b[0m\u001b[1;33m.\u001b[0m\u001b[0mremove\u001b[0m\u001b[1;33m(\u001b[0m\u001b[1;34m\"버피\"\u001b[0m\u001b[1;33m)\u001b[0m\u001b[1;33m\u001b[0m\u001b[1;33m\u001b[0m\u001b[0m\n\u001b[0m",
      "\u001b[1;31mValueError\u001b[0m: list.remove(x): x not in list"
     ]
    }
   ],
   "source": [
    "people.remove(\"버피\")"
   ]
  },
  {
   "cell_type": "code",
   "execution_count": 101,
   "metadata": {},
   "outputs": [
    {
     "data": {
      "text/plain": [
       "'페이스'"
      ]
     },
     "execution_count": 101,
     "metadata": {},
     "output_type": "execute_result"
    }
   ],
   "source": [
    "people = [\"버피\", \"페이스\", \"아스틴\"]\n",
    "people.pop(1)"
   ]
  },
  {
   "cell_type": "code",
   "execution_count": 102,
   "metadata": {},
   "outputs": [
    {
     "data": {
      "text/plain": [
       "['버피', '아스틴']"
      ]
     },
     "execution_count": 102,
     "metadata": {},
     "output_type": "execute_result"
    }
   ],
   "source": [
    "people"
   ]
  },
  {
   "cell_type": "code",
   "execution_count": 103,
   "metadata": {},
   "outputs": [
    {
     "data": {
      "text/plain": [
       "'아스틴'"
      ]
     },
     "execution_count": 103,
     "metadata": {},
     "output_type": "execute_result"
    }
   ],
   "source": [
    "people.pop()"
   ]
  },
  {
   "cell_type": "code",
   "execution_count": 104,
   "metadata": {},
   "outputs": [
    {
     "data": {
      "text/plain": [
       "['버피']"
      ]
     },
     "execution_count": 104,
     "metadata": {},
     "output_type": "execute_result"
    }
   ],
   "source": [
    "people"
   ]
  },
  {
   "cell_type": "code",
   "execution_count": 105,
   "metadata": {},
   "outputs": [
    {
     "data": {
      "text/plain": [
       "[4, 5, 7, 10]"
      ]
     },
     "execution_count": 105,
     "metadata": {},
     "output_type": "execute_result"
    }
   ],
   "source": [
    "a = [-1, 4, 5, 7, 10]\n",
    "del a[0]\n",
    "a"
   ]
  },
  {
   "cell_type": "code",
   "execution_count": 106,
   "metadata": {},
   "outputs": [
    {
     "data": {
      "text/plain": [
       "[4, 5, 10]"
      ]
     },
     "execution_count": 106,
     "metadata": {},
     "output_type": "execute_result"
    }
   ],
   "source": [
    "del a[2:3]\n",
    "a"
   ]
  },
  {
   "cell_type": "code",
   "execution_count": 107,
   "metadata": {},
   "outputs": [
    {
     "ename": "NameError",
     "evalue": "name 'a' is not defined",
     "output_type": "error",
     "traceback": [
      "\u001b[1;31m---------------------------------------------------------------------------\u001b[0m",
      "\u001b[1;31mNameError\u001b[0m                                 Traceback (most recent call last)",
      "\u001b[1;32m<ipython-input-107-88f0dc819981>\u001b[0m in \u001b[0;36m<module>\u001b[1;34m\u001b[0m\n\u001b[0;32m      1\u001b[0m \u001b[1;32mdel\u001b[0m \u001b[0ma\u001b[0m\u001b[1;33m\u001b[0m\u001b[1;33m\u001b[0m\u001b[0m\n\u001b[1;32m----> 2\u001b[1;33m \u001b[0ma\u001b[0m\u001b[1;33m\u001b[0m\u001b[1;33m\u001b[0m\u001b[0m\n\u001b[0m",
      "\u001b[1;31mNameError\u001b[0m: name 'a' is not defined"
     ]
    }
   ],
   "source": [
    "del a\n",
    "a"
   ]
  },
  {
   "cell_type": "code",
   "execution_count": 108,
   "metadata": {},
   "outputs": [
    {
     "data": {
      "text/plain": [
       "0"
      ]
     },
     "execution_count": 108,
     "metadata": {},
     "output_type": "execute_result"
    }
   ],
   "source": [
    "people = [\"버피\", \"페이스\"]\n",
    "people.index(\"버피\")"
   ]
  },
  {
   "cell_type": "code",
   "execution_count": 109,
   "metadata": {},
   "outputs": [
    {
     "data": {
      "text/plain": [
       "2"
      ]
     },
     "execution_count": 109,
     "metadata": {},
     "output_type": "execute_result"
    }
   ],
   "source": [
    "people = [\"버피\", \"페이스\", \"버피\"]\n",
    "people.count(\"버피\")"
   ]
  },
  {
   "cell_type": "code",
   "execution_count": 110,
   "metadata": {},
   "outputs": [
    {
     "data": {
      "text/plain": [
       "['버피', '잰더', '페이스']"
      ]
     },
     "execution_count": 110,
     "metadata": {},
     "output_type": "execute_result"
    }
   ],
   "source": [
    "people = [\"잰더\", \"페이스\", \"버피\"]\n",
    "people.sort()\n",
    "people"
   ]
  },
  {
   "cell_type": "code",
   "execution_count": 111,
   "metadata": {},
   "outputs": [
    {
     "data": {
      "text/plain": [
       "['페이스', '잰더', '버피']"
      ]
     },
     "execution_count": 111,
     "metadata": {},
     "output_type": "execute_result"
    }
   ],
   "source": [
    "people.sort(reverse=True)\n",
    "people"
   ]
  },
  {
   "cell_type": "code",
   "execution_count": 116,
   "metadata": {},
   "outputs": [
    {
     "data": {
      "text/plain": [
       "['2021-12-29 12:35:48',\n",
       " '2021-12-29 11:32:33',\n",
       " '2021-12-29 07:30:35',\n",
       " '2021-12-27 06:39:26',\n",
       " '2021-12-27 02:17:28',\n",
       " '2021-12-27 01:17:31']"
      ]
     },
     "execution_count": 116,
     "metadata": {},
     "output_type": "execute_result"
    }
   ],
   "source": [
    "import time\n",
    "\n",
    "timestamp = [\n",
    "    \"2021-12-27 01:17:31\",\n",
    "    \"2021-12-27 02:17:28\",\n",
    "    \"2021-12-27 06:39:26\",\n",
    "    \"2021-12-29 07:30:35\",\n",
    "    \"2021-12-29 11:32:33\",\n",
    "    \"2021-12-29 12:35:48\",\n",
    "]\n",
    "\n",
    "def time_format(t):\n",
    "    return time.strptime(t, '%Y-%m-%d %H:%M:%S')[0:6]\n",
    "\n",
    "timestamp.sort(key=time_format, reverse=True)\n",
    "timestamp"
   ]
  },
  {
   "cell_type": "code",
   "execution_count": 118,
   "metadata": {},
   "outputs": [
    {
     "data": {
      "text/plain": [
       "['2021-12-29 12:35:48',\n",
       " '2021-12-29 11:32:33',\n",
       " '2021-12-29 07:30:35',\n",
       " '2021-12-27 06:39:26',\n",
       " '2021-12-27 02:17:28',\n",
       " '2021-12-27 01:17:31']"
      ]
     },
     "execution_count": 118,
     "metadata": {},
     "output_type": "execute_result"
    }
   ],
   "source": [
    "timestamp.sort(key=lambda x: time.strptime(x, '%Y-%m-%d %H:%M:%S')[0:6], reverse=True)\n",
    "timestamp"
   ]
  },
  {
   "cell_type": "code",
   "execution_count": 119,
   "metadata": {},
   "outputs": [
    {
     "data": {
      "text/plain": [
       "['버피', '페이스', '잰더']"
      ]
     },
     "execution_count": 119,
     "metadata": {},
     "output_type": "execute_result"
    }
   ],
   "source": [
    "people = [\"잰더\", \"페이스\", \"버피\"]\n",
    "people.reverse()\n",
    "people"
   ]
  },
  {
   "cell_type": "code",
   "execution_count": 122,
   "metadata": {},
   "outputs": [
    {
     "data": {
      "text/plain": [
       "['버피', '페이스', '잰더']"
      ]
     },
     "execution_count": 122,
     "metadata": {},
     "output_type": "execute_result"
    }
   ],
   "source": [
    "people[::-1]\n",
    "people"
   ]
  },
  {
   "cell_type": "code",
   "execution_count": 123,
   "metadata": {},
   "outputs": [
    {
     "data": {
      "text/plain": [
       "1"
      ]
     },
     "execution_count": 123,
     "metadata": {},
     "output_type": "execute_result"
    }
   ],
   "source": [
    "first, *rest = [1, 2, 3, 4, 5]\n",
    "first"
   ]
  },
  {
   "cell_type": "code",
   "execution_count": 124,
   "metadata": {},
   "outputs": [
    {
     "data": {
      "text/plain": [
       "[2, 3, 4, 5]"
      ]
     },
     "execution_count": 124,
     "metadata": {},
     "output_type": "execute_result"
    }
   ],
   "source": [
    "rest"
   ]
  },
  {
   "cell_type": "code",
   "execution_count": 126,
   "metadata": {},
   "outputs": [
    {
     "data": {
      "text/plain": [
       "24"
      ]
     },
     "execution_count": 126,
     "metadata": {},
     "output_type": "execute_result"
    }
   ],
   "source": [
    "def example_args(a, b, c):\n",
    "    return a * b * c\n",
    "L = [2, 3, 4]\n",
    "example_args(*L)"
   ]
  },
  {
   "cell_type": "code",
   "execution_count": 128,
   "metadata": {},
   "outputs": [
    {
     "data": {
      "text/plain": [
       "24"
      ]
     },
     "execution_count": 128,
     "metadata": {},
     "output_type": "execute_result"
    }
   ],
   "source": [
    "example_args(2, *L[1:])"
   ]
  },
  {
   "cell_type": "code",
   "execution_count": 129,
   "metadata": {},
   "outputs": [
    {
     "data": {
      "text/plain": [
       "[1900, 1904, 1908, 1912, 1916, 1920, 1924, 1928, 1932, 1936]"
      ]
     },
     "execution_count": 129,
     "metadata": {},
     "output_type": "execute_result"
    }
   ],
   "source": [
    "a = [ y for y in range(1900, 1940) if y%4 == 0]\n",
    "a"
   ]
  },
  {
   "cell_type": "code",
   "execution_count": 130,
   "metadata": {},
   "outputs": [
    {
     "data": {
      "text/plain": [
       "[1, 2, 4, 8, 16, 32, 64, 128, 256, 512, 1024, 2048, 4096]"
      ]
     },
     "execution_count": 130,
     "metadata": {},
     "output_type": "execute_result"
    }
   ],
   "source": [
    "b = [2**i for i in range(13)]\n",
    "b"
   ]
  },
  {
   "cell_type": "code",
   "execution_count": 132,
   "metadata": {},
   "outputs": [
    {
     "data": {
      "text/plain": [
       "[1900, 1904, 1908, 1912, 1916, 1920, 1924, 1928, 1932, 1936]"
      ]
     },
     "execution_count": 132,
     "metadata": {},
     "output_type": "execute_result"
    }
   ],
   "source": [
    "c = [x for x in a if x % 2 == 0]\n",
    "c"
   ]
  },
  {
   "cell_type": "code",
   "execution_count": 133,
   "metadata": {},
   "outputs": [
    {
     "data": {
      "text/plain": [
       "['3.1', '3.14', '3.142', '3.1416', '3.14159']"
      ]
     },
     "execution_count": 133,
     "metadata": {},
     "output_type": "execute_result"
    }
   ],
   "source": [
    "d = [str(round(355/113.0,i)) for i in range(1, 6)]\n",
    "d"
   ]
  },
  {
   "cell_type": "code",
   "execution_count": 135,
   "metadata": {},
   "outputs": [
    {
     "name": "stdout",
     "output_type": "stream",
     "text": [
      "['BUFFY', 'buffy', 5]\n",
      "['IS', 'is', 2]\n",
      "['AWESOME', 'awesome', 7]\n",
      "['AND', 'and', 3]\n",
      "['A', 'a', 1]\n",
      "['VAMPIRE', 'vampire', 7]\n",
      "['SLAYER', 'slayer', 6]\n"
     ]
    }
   ],
   "source": [
    "words = \"Buffy is awesome and a vampire slayer\".split()\n",
    "e = [[w.upper(), w.lower(), len(w)] for w in words]\n",
    "for i in e:\n",
    "    print(i)"
   ]
  },
  {
   "cell_type": "code",
   "execution_count": 137,
   "metadata": {},
   "outputs": [
    {
     "data": {
      "text/plain": [
       "[(3, 4),\n",
       " (4, 3),\n",
       " (4, 4),\n",
       " (5, 3),\n",
       " (5, 4),\n",
       " (6, 2),\n",
       " (6, 3),\n",
       " (6, 4),\n",
       " (7, 2),\n",
       " (7, 3),\n",
       " (7, 4),\n",
       " (8, 2),\n",
       " (8, 3),\n",
       " (8, 4),\n",
       " (9, 2),\n",
       " (9, 3),\n",
       " (9, 4)]"
      ]
     },
     "execution_count": 137,
     "metadata": {},
     "output_type": "execute_result"
    }
   ],
   "source": [
    "result = []\n",
    "for x in range(10):\n",
    "    for y in range(5):\n",
    "        if x * y > 10:\n",
    "            result.append((x, y))\n",
    "\n",
    "result"
   ]
  },
  {
   "cell_type": "code",
   "execution_count": 143,
   "metadata": {},
   "outputs": [
    {
     "name": "stdout",
     "output_type": "stream",
     "text": [
      "(0, 1, 0)\n",
      "(0, 1, 2)\n",
      "(0, 1, 3)\n",
      "(0, 1, 4)\n",
      "(0, 1, 5)\n",
      "(0, 1, 6)\n",
      "(0, 1, 7)\n",
      "(0, 1, 8)\n",
      "(0, 1, 9)\n",
      "(0, 2, 0)\n",
      "(0, 2, 1)\n",
      "(0, 2, 3)\n",
      "(0, 2, 4)\n",
      "(0, 2, 5)\n",
      "(0, 2, 6)\n",
      "(0, 2, 7)\n",
      "(0, 2, 8)\n",
      "(0, 2, 9)\n",
      "(0, 3, 0)\n",
      "(0, 3, 1)\n",
      "(0, 3, 2)\n",
      "(0, 3, 4)\n",
      "(0, 3, 5)\n",
      "(0, 3, 6)\n",
      "(0, 3, 7)\n",
      "(0, 3, 8)\n",
      "(0, 3, 9)\n",
      "(0, 4, 0)\n",
      "(0, 4, 1)\n",
      "(0, 4, 2)\n",
      "(0, 4, 3)\n",
      "(0, 4, 5)\n",
      "(0, 4, 6)\n",
      "(0, 4, 7)\n",
      "(0, 4, 8)\n",
      "(0, 4, 9)\n",
      "(0, 5, 0)\n",
      "(0, 5, 1)\n",
      "(0, 5, 2)\n",
      "(0, 5, 3)\n",
      "(0, 5, 4)\n",
      "(0, 5, 6)\n",
      "(0, 5, 7)\n",
      "(0, 5, 8)\n",
      "(0, 5, 9)\n",
      "(0, 6, 0)\n",
      "(0, 6, 1)\n",
      "(0, 6, 2)\n",
      "(0, 6, 3)\n",
      "(0, 6, 4)\n",
      "(0, 6, 5)\n",
      "(0, 6, 7)\n",
      "(0, 6, 8)\n",
      "(0, 6, 9)\n",
      "(0, 7, 0)\n",
      "(0, 7, 1)\n",
      "(0, 7, 2)\n",
      "(0, 7, 3)\n",
      "(0, 7, 4)\n",
      "(0, 7, 5)\n",
      "(0, 7, 6)\n",
      "(0, 7, 8)\n",
      "(0, 7, 9)\n",
      "(0, 8, 0)\n",
      "(0, 8, 1)\n",
      "(0, 8, 2)\n",
      "(0, 8, 3)\n",
      "(0, 8, 4)\n",
      "(0, 8, 5)\n",
      "(0, 8, 6)\n",
      "(0, 8, 7)\n",
      "(0, 8, 9)\n",
      "(0, 9, 0)\n",
      "(0, 9, 1)\n",
      "(0, 9, 2)\n",
      "(0, 9, 3)\n",
      "(0, 9, 4)\n",
      "(0, 9, 5)\n",
      "(0, 9, 6)\n",
      "(0, 9, 7)\n",
      "(0, 9, 8)\n",
      "(1, 0, 1)\n",
      "(1, 0, 2)\n",
      "(1, 0, 3)\n",
      "(1, 0, 4)\n",
      "(1, 0, 5)\n",
      "(1, 0, 6)\n",
      "(1, 0, 7)\n",
      "(1, 0, 8)\n",
      "(1, 0, 9)\n",
      "(1, 2, 0)\n",
      "(1, 2, 1)\n",
      "(1, 2, 3)\n",
      "(1, 2, 4)\n",
      "(1, 2, 5)\n",
      "(1, 2, 6)\n",
      "(1, 2, 7)\n",
      "(1, 2, 8)\n",
      "(1, 2, 9)\n",
      "(1, 3, 0)\n",
      "(1, 3, 1)\n",
      "(1, 3, 2)\n",
      "(1, 3, 4)\n",
      "(1, 3, 5)\n",
      "(1, 3, 6)\n",
      "(1, 3, 7)\n",
      "(1, 3, 8)\n",
      "(1, 3, 9)\n",
      "(1, 4, 0)\n",
      "(1, 4, 1)\n",
      "(1, 4, 2)\n",
      "(1, 4, 3)\n",
      "(1, 4, 5)\n",
      "(1, 4, 6)\n",
      "(1, 4, 7)\n",
      "(1, 4, 8)\n",
      "(1, 4, 9)\n",
      "(1, 5, 0)\n",
      "(1, 5, 1)\n",
      "(1, 5, 2)\n",
      "(1, 5, 3)\n",
      "(1, 5, 4)\n",
      "(1, 5, 6)\n",
      "(1, 5, 7)\n",
      "(1, 5, 8)\n",
      "(1, 5, 9)\n",
      "(1, 6, 0)\n",
      "(1, 6, 1)\n",
      "(1, 6, 2)\n",
      "(1, 6, 3)\n",
      "(1, 6, 4)\n",
      "(1, 6, 5)\n",
      "(1, 6, 7)\n",
      "(1, 6, 8)\n",
      "(1, 6, 9)\n",
      "(1, 7, 0)\n",
      "(1, 7, 1)\n",
      "(1, 7, 2)\n",
      "(1, 7, 3)\n",
      "(1, 7, 4)\n",
      "(1, 7, 5)\n",
      "(1, 7, 6)\n",
      "(1, 7, 8)\n",
      "(1, 7, 9)\n",
      "(1, 8, 0)\n",
      "(1, 8, 1)\n",
      "(1, 8, 2)\n",
      "(1, 8, 3)\n",
      "(1, 8, 4)\n",
      "(1, 8, 5)\n",
      "(1, 8, 6)\n",
      "(1, 8, 7)\n",
      "(1, 8, 9)\n",
      "(1, 9, 0)\n",
      "(1, 9, 1)\n",
      "(1, 9, 2)\n",
      "(1, 9, 3)\n",
      "(1, 9, 4)\n",
      "(1, 9, 5)\n",
      "(1, 9, 6)\n",
      "(1, 9, 7)\n",
      "(1, 9, 8)\n",
      "(2, 0, 1)\n",
      "(2, 0, 2)\n",
      "(2, 0, 3)\n",
      "(2, 0, 4)\n",
      "(2, 0, 5)\n",
      "(2, 0, 6)\n",
      "(2, 0, 7)\n",
      "(2, 0, 8)\n",
      "(2, 0, 9)\n",
      "(2, 1, 0)\n",
      "(2, 1, 2)\n",
      "(2, 1, 3)\n",
      "(2, 1, 4)\n",
      "(2, 1, 5)\n",
      "(2, 1, 6)\n",
      "(2, 1, 7)\n",
      "(2, 1, 8)\n",
      "(2, 1, 9)\n",
      "(2, 3, 0)\n",
      "(2, 3, 1)\n",
      "(2, 3, 2)\n",
      "(2, 3, 4)\n",
      "(2, 3, 5)\n",
      "(2, 3, 6)\n",
      "(2, 3, 7)\n",
      "(2, 3, 8)\n",
      "(2, 3, 9)\n",
      "(2, 4, 0)\n",
      "(2, 4, 1)\n",
      "(2, 4, 2)\n",
      "(2, 4, 3)\n",
      "(2, 4, 5)\n",
      "(2, 4, 6)\n",
      "(2, 4, 7)\n",
      "(2, 4, 8)\n",
      "(2, 4, 9)\n",
      "(2, 5, 0)\n",
      "(2, 5, 1)\n",
      "(2, 5, 2)\n",
      "(2, 5, 3)\n",
      "(2, 5, 4)\n",
      "(2, 5, 6)\n",
      "(2, 5, 7)\n",
      "(2, 5, 8)\n",
      "(2, 5, 9)\n",
      "(2, 6, 0)\n",
      "(2, 6, 1)\n",
      "(2, 6, 2)\n",
      "(2, 6, 3)\n",
      "(2, 6, 4)\n",
      "(2, 6, 5)\n",
      "(2, 6, 7)\n",
      "(2, 6, 8)\n",
      "(2, 6, 9)\n",
      "(2, 7, 0)\n",
      "(2, 7, 1)\n",
      "(2, 7, 2)\n",
      "(2, 7, 3)\n",
      "(2, 7, 4)\n",
      "(2, 7, 5)\n",
      "(2, 7, 6)\n",
      "(2, 7, 8)\n",
      "(2, 7, 9)\n",
      "(2, 8, 0)\n",
      "(2, 8, 1)\n",
      "(2, 8, 2)\n",
      "(2, 8, 3)\n",
      "(2, 8, 4)\n",
      "(2, 8, 5)\n",
      "(2, 8, 6)\n",
      "(2, 8, 7)\n",
      "(2, 8, 9)\n",
      "(2, 9, 0)\n",
      "(2, 9, 1)\n",
      "(2, 9, 2)\n",
      "(2, 9, 3)\n",
      "(2, 9, 4)\n",
      "(2, 9, 5)\n",
      "(2, 9, 6)\n",
      "(2, 9, 7)\n",
      "(2, 9, 8)\n",
      "(3, 0, 1)\n",
      "(3, 0, 2)\n",
      "(3, 0, 3)\n",
      "(3, 0, 4)\n",
      "(3, 0, 5)\n",
      "(3, 0, 6)\n",
      "(3, 0, 7)\n",
      "(3, 0, 8)\n",
      "(3, 0, 9)\n",
      "(3, 1, 0)\n",
      "(3, 1, 2)\n",
      "(3, 1, 3)\n",
      "(3, 1, 4)\n",
      "(3, 1, 5)\n",
      "(3, 1, 6)\n",
      "(3, 1, 7)\n",
      "(3, 1, 8)\n",
      "(3, 1, 9)\n",
      "(3, 2, 0)\n",
      "(3, 2, 1)\n",
      "(3, 2, 3)\n",
      "(3, 2, 4)\n",
      "(3, 2, 5)\n",
      "(3, 2, 6)\n",
      "(3, 2, 7)\n",
      "(3, 2, 8)\n",
      "(3, 2, 9)\n",
      "(3, 4, 0)\n",
      "(3, 4, 1)\n",
      "(3, 4, 2)\n",
      "(3, 4, 3)\n",
      "(3, 4, 5)\n",
      "(3, 4, 6)\n",
      "(3, 4, 7)\n",
      "(3, 4, 8)\n",
      "(3, 4, 9)\n",
      "(3, 5, 0)\n",
      "(3, 5, 1)\n",
      "(3, 5, 2)\n",
      "(3, 5, 3)\n",
      "(3, 5, 4)\n",
      "(3, 5, 6)\n",
      "(3, 5, 7)\n",
      "(3, 5, 8)\n",
      "(3, 5, 9)\n",
      "(3, 6, 0)\n",
      "(3, 6, 1)\n",
      "(3, 6, 2)\n",
      "(3, 6, 3)\n",
      "(3, 6, 4)\n",
      "(3, 6, 5)\n",
      "(3, 6, 7)\n",
      "(3, 6, 8)\n",
      "(3, 6, 9)\n",
      "(3, 7, 0)\n",
      "(3, 7, 1)\n",
      "(3, 7, 2)\n",
      "(3, 7, 3)\n",
      "(3, 7, 4)\n",
      "(3, 7, 5)\n",
      "(3, 7, 6)\n",
      "(3, 7, 8)\n",
      "(3, 7, 9)\n",
      "(3, 8, 0)\n",
      "(3, 8, 1)\n",
      "(3, 8, 2)\n",
      "(3, 8, 3)\n",
      "(3, 8, 4)\n",
      "(3, 8, 5)\n",
      "(3, 8, 6)\n",
      "(3, 8, 7)\n",
      "(3, 8, 9)\n",
      "(3, 9, 0)\n",
      "(3, 9, 1)\n",
      "(3, 9, 2)\n",
      "(3, 9, 3)\n",
      "(3, 9, 4)\n",
      "(3, 9, 5)\n",
      "(3, 9, 6)\n",
      "(3, 9, 7)\n",
      "(3, 9, 8)\n",
      "(4, 0, 1)\n",
      "(4, 0, 2)\n",
      "(4, 0, 3)\n",
      "(4, 0, 4)\n",
      "(4, 0, 5)\n",
      "(4, 0, 6)\n",
      "(4, 0, 7)\n",
      "(4, 0, 8)\n",
      "(4, 0, 9)\n",
      "(4, 1, 0)\n",
      "(4, 1, 2)\n",
      "(4, 1, 3)\n",
      "(4, 1, 4)\n",
      "(4, 1, 5)\n",
      "(4, 1, 6)\n",
      "(4, 1, 7)\n",
      "(4, 1, 8)\n",
      "(4, 1, 9)\n",
      "(4, 2, 0)\n",
      "(4, 2, 1)\n",
      "(4, 2, 3)\n",
      "(4, 2, 4)\n",
      "(4, 2, 5)\n",
      "(4, 2, 6)\n",
      "(4, 2, 7)\n",
      "(4, 2, 8)\n",
      "(4, 2, 9)\n",
      "(4, 3, 0)\n",
      "(4, 3, 1)\n",
      "(4, 3, 2)\n",
      "(4, 3, 4)\n",
      "(4, 3, 5)\n",
      "(4, 3, 6)\n",
      "(4, 3, 7)\n",
      "(4, 3, 8)\n",
      "(4, 3, 9)\n",
      "(4, 5, 0)\n",
      "(4, 5, 1)\n",
      "(4, 5, 2)\n",
      "(4, 5, 3)\n",
      "(4, 5, 4)\n",
      "(4, 5, 6)\n",
      "(4, 5, 7)\n",
      "(4, 5, 8)\n",
      "(4, 5, 9)\n",
      "(4, 6, 0)\n",
      "(4, 6, 1)\n",
      "(4, 6, 2)\n",
      "(4, 6, 3)\n",
      "(4, 6, 4)\n",
      "(4, 6, 5)\n",
      "(4, 6, 7)\n",
      "(4, 6, 8)\n",
      "(4, 6, 9)\n",
      "(4, 7, 0)\n",
      "(4, 7, 1)\n",
      "(4, 7, 2)\n",
      "(4, 7, 3)\n",
      "(4, 7, 4)\n",
      "(4, 7, 5)\n",
      "(4, 7, 6)\n",
      "(4, 7, 8)\n",
      "(4, 7, 9)\n",
      "(4, 8, 0)\n",
      "(4, 8, 1)\n",
      "(4, 8, 2)\n",
      "(4, 8, 3)\n",
      "(4, 8, 4)\n",
      "(4, 8, 5)\n",
      "(4, 8, 6)\n",
      "(4, 8, 7)\n",
      "(4, 8, 9)\n",
      "(4, 9, 0)\n",
      "(4, 9, 1)\n",
      "(4, 9, 2)\n",
      "(4, 9, 3)\n",
      "(4, 9, 4)\n",
      "(4, 9, 5)\n",
      "(4, 9, 6)\n",
      "(4, 9, 7)\n",
      "(4, 9, 8)\n",
      "(5, 0, 1)\n",
      "(5, 0, 2)\n",
      "(5, 0, 3)\n",
      "(5, 0, 4)\n",
      "(5, 0, 5)\n",
      "(5, 0, 6)\n",
      "(5, 0, 7)\n",
      "(5, 0, 8)\n",
      "(5, 0, 9)\n",
      "(5, 1, 0)\n",
      "(5, 1, 2)\n",
      "(5, 1, 3)\n",
      "(5, 1, 4)\n",
      "(5, 1, 5)\n",
      "(5, 1, 6)\n",
      "(5, 1, 7)\n",
      "(5, 1, 8)\n",
      "(5, 1, 9)\n",
      "(5, 2, 0)\n",
      "(5, 2, 1)\n",
      "(5, 2, 3)\n",
      "(5, 2, 4)\n",
      "(5, 2, 5)\n",
      "(5, 2, 6)\n",
      "(5, 2, 7)\n",
      "(5, 2, 8)\n",
      "(5, 2, 9)\n",
      "(5, 3, 0)\n",
      "(5, 3, 1)\n",
      "(5, 3, 2)\n",
      "(5, 3, 4)\n",
      "(5, 3, 5)\n",
      "(5, 3, 6)\n",
      "(5, 3, 7)\n",
      "(5, 3, 8)\n",
      "(5, 3, 9)\n",
      "(5, 4, 0)\n",
      "(5, 4, 1)\n",
      "(5, 4, 2)\n",
      "(5, 4, 3)\n",
      "(5, 4, 5)\n",
      "(5, 4, 6)\n",
      "(5, 4, 7)\n",
      "(5, 4, 8)\n",
      "(5, 4, 9)\n",
      "(5, 6, 0)\n",
      "(5, 6, 1)\n",
      "(5, 6, 2)\n",
      "(5, 6, 3)\n",
      "(5, 6, 4)\n",
      "(5, 6, 5)\n",
      "(5, 6, 7)\n",
      "(5, 6, 8)\n",
      "(5, 6, 9)\n",
      "(5, 7, 0)\n",
      "(5, 7, 1)\n",
      "(5, 7, 2)\n",
      "(5, 7, 3)\n",
      "(5, 7, 4)\n",
      "(5, 7, 5)\n",
      "(5, 7, 6)\n",
      "(5, 7, 8)\n",
      "(5, 7, 9)\n",
      "(5, 8, 0)\n",
      "(5, 8, 1)\n",
      "(5, 8, 2)\n",
      "(5, 8, 3)\n",
      "(5, 8, 4)\n",
      "(5, 8, 5)\n",
      "(5, 8, 6)\n",
      "(5, 8, 7)\n",
      "(5, 8, 9)\n",
      "(5, 9, 0)\n",
      "(5, 9, 1)\n",
      "(5, 9, 2)\n",
      "(5, 9, 3)\n",
      "(5, 9, 4)\n",
      "(5, 9, 5)\n",
      "(5, 9, 6)\n",
      "(5, 9, 7)\n",
      "(5, 9, 8)\n",
      "(6, 0, 1)\n",
      "(6, 0, 2)\n",
      "(6, 0, 3)\n",
      "(6, 0, 4)\n",
      "(6, 0, 5)\n",
      "(6, 0, 6)\n",
      "(6, 0, 7)\n",
      "(6, 0, 8)\n",
      "(6, 0, 9)\n",
      "(6, 1, 0)\n",
      "(6, 1, 2)\n",
      "(6, 1, 3)\n",
      "(6, 1, 4)\n",
      "(6, 1, 5)\n",
      "(6, 1, 6)\n",
      "(6, 1, 7)\n",
      "(6, 1, 8)\n",
      "(6, 1, 9)\n",
      "(6, 2, 0)\n",
      "(6, 2, 1)\n",
      "(6, 2, 3)\n",
      "(6, 2, 4)\n",
      "(6, 2, 5)\n",
      "(6, 2, 6)\n",
      "(6, 2, 7)\n",
      "(6, 2, 8)\n",
      "(6, 2, 9)\n",
      "(6, 3, 0)\n",
      "(6, 3, 1)\n",
      "(6, 3, 2)\n",
      "(6, 3, 4)\n",
      "(6, 3, 5)\n",
      "(6, 3, 6)\n",
      "(6, 3, 7)\n",
      "(6, 3, 8)\n",
      "(6, 3, 9)\n",
      "(6, 4, 0)\n",
      "(6, 4, 1)\n",
      "(6, 4, 2)\n",
      "(6, 4, 3)\n",
      "(6, 4, 5)\n",
      "(6, 4, 6)\n",
      "(6, 4, 7)\n",
      "(6, 4, 8)\n",
      "(6, 4, 9)\n",
      "(6, 5, 0)\n",
      "(6, 5, 1)\n",
      "(6, 5, 2)\n",
      "(6, 5, 3)\n",
      "(6, 5, 4)\n",
      "(6, 5, 6)\n",
      "(6, 5, 7)\n",
      "(6, 5, 8)\n",
      "(6, 5, 9)\n",
      "(6, 7, 0)\n",
      "(6, 7, 1)\n",
      "(6, 7, 2)\n",
      "(6, 7, 3)\n",
      "(6, 7, 4)\n",
      "(6, 7, 5)\n",
      "(6, 7, 6)\n",
      "(6, 7, 8)\n",
      "(6, 7, 9)\n",
      "(6, 8, 0)\n",
      "(6, 8, 1)\n",
      "(6, 8, 2)\n",
      "(6, 8, 3)\n",
      "(6, 8, 4)\n",
      "(6, 8, 5)\n",
      "(6, 8, 6)\n",
      "(6, 8, 7)\n",
      "(6, 8, 9)\n",
      "(6, 9, 0)\n",
      "(6, 9, 1)\n",
      "(6, 9, 2)\n",
      "(6, 9, 3)\n",
      "(6, 9, 4)\n",
      "(6, 9, 5)\n",
      "(6, 9, 6)\n",
      "(6, 9, 7)\n",
      "(6, 9, 8)\n",
      "(7, 0, 1)\n",
      "(7, 0, 2)\n",
      "(7, 0, 3)\n",
      "(7, 0, 4)\n",
      "(7, 0, 5)\n",
      "(7, 0, 6)\n",
      "(7, 0, 7)\n",
      "(7, 0, 8)\n",
      "(7, 0, 9)\n",
      "(7, 1, 0)\n",
      "(7, 1, 2)\n",
      "(7, 1, 3)\n",
      "(7, 1, 4)\n",
      "(7, 1, 5)\n",
      "(7, 1, 6)\n",
      "(7, 1, 7)\n",
      "(7, 1, 8)\n",
      "(7, 1, 9)\n",
      "(7, 2, 0)\n",
      "(7, 2, 1)\n",
      "(7, 2, 3)\n",
      "(7, 2, 4)\n",
      "(7, 2, 5)\n",
      "(7, 2, 6)\n",
      "(7, 2, 7)\n",
      "(7, 2, 8)\n",
      "(7, 2, 9)\n",
      "(7, 3, 0)\n",
      "(7, 3, 1)\n",
      "(7, 3, 2)\n",
      "(7, 3, 4)\n",
      "(7, 3, 5)\n",
      "(7, 3, 6)\n",
      "(7, 3, 7)\n",
      "(7, 3, 8)\n",
      "(7, 3, 9)\n",
      "(7, 4, 0)\n",
      "(7, 4, 1)\n",
      "(7, 4, 2)\n",
      "(7, 4, 3)\n",
      "(7, 4, 5)\n",
      "(7, 4, 6)\n",
      "(7, 4, 7)\n",
      "(7, 4, 8)\n",
      "(7, 4, 9)\n",
      "(7, 5, 0)\n",
      "(7, 5, 1)\n",
      "(7, 5, 2)\n",
      "(7, 5, 3)\n",
      "(7, 5, 4)\n",
      "(7, 5, 6)\n",
      "(7, 5, 7)\n",
      "(7, 5, 8)\n",
      "(7, 5, 9)\n",
      "(7, 6, 0)\n",
      "(7, 6, 1)\n",
      "(7, 6, 2)\n",
      "(7, 6, 3)\n",
      "(7, 6, 4)\n",
      "(7, 6, 5)\n",
      "(7, 6, 7)\n",
      "(7, 6, 8)\n",
      "(7, 6, 9)\n",
      "(7, 8, 0)\n",
      "(7, 8, 1)\n",
      "(7, 8, 2)\n",
      "(7, 8, 3)\n",
      "(7, 8, 4)\n",
      "(7, 8, 5)\n",
      "(7, 8, 6)\n",
      "(7, 8, 7)\n",
      "(7, 8, 9)\n",
      "(7, 9, 0)\n",
      "(7, 9, 1)\n",
      "(7, 9, 2)\n",
      "(7, 9, 3)\n",
      "(7, 9, 4)\n",
      "(7, 9, 5)\n",
      "(7, 9, 6)\n",
      "(7, 9, 7)\n",
      "(7, 9, 8)\n",
      "(8, 0, 1)\n",
      "(8, 0, 2)\n",
      "(8, 0, 3)\n",
      "(8, 0, 4)\n",
      "(8, 0, 5)\n",
      "(8, 0, 6)\n",
      "(8, 0, 7)\n",
      "(8, 0, 8)\n",
      "(8, 0, 9)\n",
      "(8, 1, 0)\n",
      "(8, 1, 2)\n",
      "(8, 1, 3)\n",
      "(8, 1, 4)\n",
      "(8, 1, 5)\n",
      "(8, 1, 6)\n",
      "(8, 1, 7)\n",
      "(8, 1, 8)\n",
      "(8, 1, 9)\n",
      "(8, 2, 0)\n",
      "(8, 2, 1)\n",
      "(8, 2, 3)\n",
      "(8, 2, 4)\n",
      "(8, 2, 5)\n",
      "(8, 2, 6)\n",
      "(8, 2, 7)\n",
      "(8, 2, 8)\n",
      "(8, 2, 9)\n",
      "(8, 3, 0)\n",
      "(8, 3, 1)\n",
      "(8, 3, 2)\n",
      "(8, 3, 4)\n",
      "(8, 3, 5)\n",
      "(8, 3, 6)\n",
      "(8, 3, 7)\n",
      "(8, 3, 8)\n",
      "(8, 3, 9)\n",
      "(8, 4, 0)\n",
      "(8, 4, 1)\n",
      "(8, 4, 2)\n",
      "(8, 4, 3)\n",
      "(8, 4, 5)\n",
      "(8, 4, 6)\n",
      "(8, 4, 7)\n",
      "(8, 4, 8)\n",
      "(8, 4, 9)\n",
      "(8, 5, 0)\n",
      "(8, 5, 1)\n",
      "(8, 5, 2)\n",
      "(8, 5, 3)\n",
      "(8, 5, 4)\n",
      "(8, 5, 6)\n",
      "(8, 5, 7)\n",
      "(8, 5, 8)\n",
      "(8, 5, 9)\n",
      "(8, 6, 0)\n",
      "(8, 6, 1)\n",
      "(8, 6, 2)\n",
      "(8, 6, 3)\n",
      "(8, 6, 4)\n",
      "(8, 6, 5)\n",
      "(8, 6, 7)\n",
      "(8, 6, 8)\n",
      "(8, 6, 9)\n",
      "(8, 7, 0)\n",
      "(8, 7, 1)\n",
      "(8, 7, 2)\n",
      "(8, 7, 3)\n",
      "(8, 7, 4)\n",
      "(8, 7, 5)\n",
      "(8, 7, 6)\n",
      "(8, 7, 8)\n",
      "(8, 7, 9)\n",
      "(8, 9, 0)\n",
      "(8, 9, 1)\n",
      "(8, 9, 2)\n",
      "(8, 9, 3)\n",
      "(8, 9, 4)\n",
      "(8, 9, 5)\n",
      "(8, 9, 6)\n",
      "(8, 9, 7)\n",
      "(8, 9, 8)\n",
      "(9, 0, 1)\n",
      "(9, 0, 2)\n",
      "(9, 0, 3)\n",
      "(9, 0, 4)\n",
      "(9, 0, 5)\n",
      "(9, 0, 6)\n",
      "(9, 0, 7)\n",
      "(9, 0, 8)\n",
      "(9, 0, 9)\n",
      "(9, 1, 0)\n",
      "(9, 1, 2)\n",
      "(9, 1, 3)\n",
      "(9, 1, 4)\n",
      "(9, 1, 5)\n",
      "(9, 1, 6)\n",
      "(9, 1, 7)\n",
      "(9, 1, 8)\n",
      "(9, 1, 9)\n",
      "(9, 2, 0)\n",
      "(9, 2, 1)\n",
      "(9, 2, 3)\n",
      "(9, 2, 4)\n",
      "(9, 2, 5)\n",
      "(9, 2, 6)\n",
      "(9, 2, 7)\n",
      "(9, 2, 8)\n",
      "(9, 2, 9)\n",
      "(9, 3, 0)\n",
      "(9, 3, 1)\n",
      "(9, 3, 2)\n",
      "(9, 3, 4)\n",
      "(9, 3, 5)\n",
      "(9, 3, 6)\n",
      "(9, 3, 7)\n",
      "(9, 3, 8)\n",
      "(9, 3, 9)\n",
      "(9, 4, 0)\n",
      "(9, 4, 1)\n",
      "(9, 4, 2)\n",
      "(9, 4, 3)\n",
      "(9, 4, 5)\n",
      "(9, 4, 6)\n",
      "(9, 4, 7)\n",
      "(9, 4, 8)\n",
      "(9, 4, 9)\n",
      "(9, 5, 0)\n",
      "(9, 5, 1)\n",
      "(9, 5, 2)\n",
      "(9, 5, 3)\n",
      "(9, 5, 4)\n",
      "(9, 5, 6)\n",
      "(9, 5, 7)\n",
      "(9, 5, 8)\n",
      "(9, 5, 9)\n",
      "(9, 6, 0)\n",
      "(9, 6, 1)\n",
      "(9, 6, 2)\n",
      "(9, 6, 3)\n",
      "(9, 6, 4)\n",
      "(9, 6, 5)\n",
      "(9, 6, 7)\n",
      "(9, 6, 8)\n",
      "(9, 6, 9)\n",
      "(9, 7, 0)\n",
      "(9, 7, 1)\n",
      "(9, 7, 2)\n",
      "(9, 7, 3)\n",
      "(9, 7, 4)\n",
      "(9, 7, 5)\n",
      "(9, 7, 6)\n",
      "(9, 7, 8)\n",
      "(9, 7, 9)\n",
      "(9, 8, 0)\n",
      "(9, 8, 1)\n",
      "(9, 8, 2)\n",
      "(9, 8, 3)\n",
      "(9, 8, 4)\n",
      "(9, 8, 5)\n",
      "(9, 8, 6)\n",
      "(9, 8, 7)\n",
      "(9, 8, 9)\n"
     ]
    }
   ],
   "source": [
    "def diffElement(N):\n",
    "    for x in range(N):\n",
    "        for y in range(N):\n",
    "            if x != y:\n",
    "                for z in range(N):\n",
    "                    if y != z:\n",
    "                        yield (x, y, z)\n",
    "\n",
    "for n in diffElement(10):\n",
    "    print(n)"
   ]
  },
  {
   "cell_type": "code",
   "execution_count": 144,
   "metadata": {},
   "outputs": [
    {
     "ename": "SyntaxError",
     "evalue": "'return' outside function (<ipython-input-144-058b6a96743c>, line 1)",
     "output_type": "error",
     "traceback": [
      "\u001b[1;36m  File \u001b[1;32m\"<ipython-input-144-058b6a96743c>\"\u001b[1;36m, line \u001b[1;32m1\u001b[0m\n\u001b[1;33m    return ((x, complicated_transform(x))\u001b[0m\n\u001b[1;37m    ^\u001b[0m\n\u001b[1;31mSyntaxError\u001b[0m\u001b[1;31m:\u001b[0m 'return' outside function\n"
     ]
    }
   ],
   "source": [
    "return ((x, complicated_transform(x))\n",
    "    for x in log_generator_function(parameter)\n",
    "    if x is not None)"
   ]
  },
  {
   "cell_type": "code",
   "execution_count": 145,
   "metadata": {},
   "outputs": [],
   "source": [
    "squares = [ x * x for x in range(10) ]"
   ]
  },
  {
   "cell_type": "code",
   "execution_count": 146,
   "metadata": {},
   "outputs": [
    {
     "ename": "NameError",
     "evalue": "name 'eat' is not defined",
     "output_type": "error",
     "traceback": [
      "\u001b[1;31m---------------------------------------------------------------------------\u001b[0m",
      "\u001b[1;31mNameError\u001b[0m                                 Traceback (most recent call last)",
      "\u001b[1;32m<ipython-input-146-715e8df29fdb>\u001b[0m in \u001b[0;36m<module>\u001b[1;34m\u001b[0m\n\u001b[1;32m----> 1\u001b[1;33m \u001b[0meat\u001b[0m\u001b[1;33m(\u001b[0m\u001b[0mjelly_bean\u001b[0m \u001b[1;32mfor\u001b[0m \u001b[0mjelly_bean\u001b[0m \u001b[1;32min\u001b[0m \u001b[0mjelly_beans\u001b[0m \u001b[1;32mif\u001b[0m \u001b[0mjelly_bean\u001b[0m\u001b[1;33m.\u001b[0m\u001b[0mcolor\u001b[0m \u001b[1;33m==\u001b[0m \u001b[1;34m'black'\u001b[0m\u001b[1;33m)\u001b[0m\u001b[1;33m\u001b[0m\u001b[1;33m\u001b[0m\u001b[0m\n\u001b[0m",
      "\u001b[1;31mNameError\u001b[0m: name 'eat' is not defined"
     ]
    }
   ],
   "source": [
    "eat(jelly_bean for jelly_bean in jelly_beans if jelly_bean.color == 'black')"
   ]
  },
  {
   "cell_type": "code",
   "execution_count": 149,
   "metadata": {},
   "outputs": [
    {
     "name": "stdout",
     "output_type": "stream",
     "text": [
      "concat  0.875785200001701 mileseconds\n",
      "concat  0.0595262000006187 mileseconds\n",
      "concat  0.028853100000560516 mileseconds\n",
      "concat  0.008471399998597917 mileseconds\n"
     ]
    }
   ],
   "source": [
    "def test1():\n",
    "    l = []\n",
    "    for i in range(1000):\n",
    "        l = l + [i]\n",
    "        \n",
    "def test2():\n",
    "    l = []\n",
    "    for i in range(1000):\n",
    "        l.append(l)\n",
    "        \n",
    "def test3():\n",
    "    l = [i for i in range(1000)]\n",
    "    \n",
    "def test4():\n",
    "    l = list(range(1000))\n",
    "    \n",
    "if __name__ == \"__main__\":\n",
    "    import timeit\n",
    "    t1 = timeit.Timer(\"test1()\", \"from __main__ import test1\")\n",
    "    print(\"concat \", t1.timeit(number=1000), \"mileseconds\")\n",
    "    t2 = timeit.Timer(\"test2()\", \"from __main__ import test2\")\n",
    "    print(\"concat \", t2.timeit(number=1000), \"mileseconds\")\n",
    "    t3 = timeit.Timer(\"test3()\", \"from __main__ import test3\")\n",
    "    print(\"concat \", t3.timeit(number=1000), \"mileseconds\")\n",
    "    t4 = timeit.Timer(\"test4()\", \"from __main__ import test4\")\n",
    "    print(\"concat \", t4.timeit(number=1000), \"mileseconds\")"
   ]
  },
  {
   "cell_type": "code",
   "execution_count": 150,
   "metadata": {},
   "outputs": [
    {
     "data": {
      "text/plain": [
       "b'\\x01\\x02\\x03\\xff'"
      ]
     },
     "execution_count": 150,
     "metadata": {},
     "output_type": "execute_result"
    }
   ],
   "source": [
    "blist = [1, 2, 3, 255]\n",
    "the_bytes = bytes(blist)\n",
    "the_bytes"
   ]
  },
  {
   "cell_type": "code",
   "execution_count": 151,
   "metadata": {},
   "outputs": [
    {
     "data": {
      "text/plain": [
       "bytearray(b'\\x01\\x02\\x03\\xff')"
      ]
     },
     "execution_count": 151,
     "metadata": {},
     "output_type": "execute_result"
    }
   ],
   "source": [
    "the_byte_array = bytearray(blist)\n",
    "the_byte_array"
   ]
  },
  {
   "cell_type": "code",
   "execution_count": 152,
   "metadata": {},
   "outputs": [
    {
     "ename": "TypeError",
     "evalue": "'bytes' object does not support item assignment",
     "output_type": "error",
     "traceback": [
      "\u001b[1;31m---------------------------------------------------------------------------\u001b[0m",
      "\u001b[1;31mTypeError\u001b[0m                                 Traceback (most recent call last)",
      "\u001b[1;32m<ipython-input-152-86fbc6adcd1b>\u001b[0m in \u001b[0;36m<module>\u001b[1;34m\u001b[0m\n\u001b[1;32m----> 1\u001b[1;33m \u001b[0mthe_bytes\u001b[0m\u001b[1;33m[\u001b[0m\u001b[1;36m1\u001b[0m\u001b[1;33m]\u001b[0m \u001b[1;33m=\u001b[0m \u001b[1;36m127\u001b[0m\u001b[1;33m\u001b[0m\u001b[1;33m\u001b[0m\u001b[0m\n\u001b[0m",
      "\u001b[1;31mTypeError\u001b[0m: 'bytes' object does not support item assignment"
     ]
    }
   ],
   "source": [
    "the_bytes[1] = 127"
   ]
  },
  {
   "cell_type": "code",
   "execution_count": 153,
   "metadata": {},
   "outputs": [
    {
     "data": {
      "text/plain": [
       "bytearray(b'\\x01\\x7f\\x03\\xff')"
      ]
     },
     "execution_count": 153,
     "metadata": {},
     "output_type": "execute_result"
    }
   ],
   "source": [
    "the_byte_array[1] = 127\n",
    "the_byte_array"
   ]
  },
  {
   "cell_type": "code",
   "execution_count": 154,
   "metadata": {},
   "outputs": [
    {
     "data": {
      "text/plain": [
       "16"
      ]
     },
     "execution_count": 154,
     "metadata": {},
     "output_type": "execute_result"
    }
   ],
   "source": [
    "x = 4\n",
    "1 << x"
   ]
  },
  {
   "cell_type": "code",
   "execution_count": 155,
   "metadata": {},
   "outputs": [
    {
     "data": {
      "text/plain": [
       "0"
      ]
     },
     "execution_count": 155,
     "metadata": {},
     "output_type": "execute_result"
    }
   ],
   "source": [
    "x = 8\n",
    "x & (x - 1)"
   ]
  },
  {
   "cell_type": "code",
   "execution_count": 156,
   "metadata": {},
   "outputs": [
    {
     "data": {
      "text/plain": [
       "4"
      ]
     },
     "execution_count": 156,
     "metadata": {},
     "output_type": "execute_result"
    }
   ],
   "source": [
    "x = 6\n",
    "x & ( x - 1)"
   ]
  },
  {
   "cell_type": "code",
   "execution_count": 1,
   "metadata": {},
   "outputs": [
    {
     "name": "stdout",
     "output_type": "stream",
     "text": [
      "!상세 녕안\n",
      "!상세 녕안\n"
     ]
    }
   ],
   "source": [
    "def revert(s):\n",
    "    if s:\n",
    "        s = s[-1] + revert(s[:-1])\n",
    "    return s\n",
    "\n",
    "def revert2(string):\n",
    "    return string[::-1]\n",
    "\n",
    "if __name__ == \"__main__\":\n",
    "    str1 = \"안녕 세상!\"\n",
    "    str2 = revert(str1)\n",
    "    str3 = revert2(str1)\n",
    "    print(str2)\n",
    "    print(str3)"
   ]
  },
  {
   "cell_type": "code",
   "execution_count": 10,
   "metadata": {},
   "outputs": [
    {
     "name": "stdout",
     "output_type": "stream",
     "text": [
      "['다', '있', '미', '재', ' ', '말', '정', ' ', '즘', '리', '고', '알', ' ', '썬', '이', '파']\n",
      "['재', '미', '있', '다', ' ', '말', '정', ' ', '즘', '리', '고', '알', ' ', '썬', '이', '파']\n",
      "['재', '미', '있', '다', ' ', '정', '말', ' ', '즘', '리', '고', '알', ' ', '썬', '이', '파']\n",
      "['재', '미', '있', '다', ' ', '정', '말', ' ', '알', '고', '리', '즘', ' ', '썬', '이', '파']\n",
      "['재', '미', '있', '다', ' ', '정', '말', ' ', '알', '고', '리', '즘', ' ', '파', '이', '썬']\n",
      "재미있다 정말 알고리즘 파이썬\n"
     ]
    }
   ],
   "source": [
    "def reverser(string1, p1=0, p2=None):\n",
    "    if len(string1) < 2:\n",
    "        return string1\n",
    "    p2 = p2 or len(string1) - 1\n",
    "    while p1 < p2:\n",
    "        string1[p1], string1[p2] = string1[p2], string1[p1]\n",
    "        p1 += 1\n",
    "        p2 -= 1\n",
    "\n",
    "def reversing_words_sentence_logic(string1):\n",
    "    # 먼저, 문장 전체를 반전한다.\n",
    "    reverser(string1)\n",
    "    print(string1)\n",
    "    p = 0\n",
    "    start = 0\n",
    "    while p < len(string1):\n",
    "        if string1[p] == u\"\\u0020\":\n",
    "            # 단어를 다시 반전한다(단어를 원위치로 돌려놓는다).\n",
    "            reverser(string1, start, p-1)\n",
    "            print(string1)\n",
    "            start = p + 1\n",
    "        p += 1\n",
    "    # 마지막 단어를 반전한다(단어를 원위치로 돌려놓는다).\n",
    "    reverser(string1, start, p-1)\n",
    "    print(string1)\n",
    "    return \"\".join(string1)\n",
    "\n",
    "if __name__ == \"__main__\":\n",
    "    str1 = \"파이썬 알고리즘 정말 재미있다\"\n",
    "    str2 = reversing_words_sentence_logic(list(str1))\n",
    "    print(str2)"
   ]
  },
  {
   "cell_type": "code",
   "execution_count": 11,
   "metadata": {},
   "outputs": [
    {
     "name": "stdout",
     "output_type": "stream",
     "text": [
      "재미있다 정말 알고리즘 파이썬\n"
     ]
    }
   ],
   "source": [
    "def reverse_words_brute(string):\n",
    "    word, sentence = [], []\n",
    "    for character in string:\n",
    "        if character != \" \":\n",
    "            word.append(character)\n",
    "        else:\n",
    "            # 조건문에서 빈 리스트는 False다. 여러 공백이 있는 경우, 조건문을 건너 뛴다.\n",
    "            if word:\n",
    "                sentence.append(\"\".join(word))\n",
    "            word = []\n",
    "    \n",
    "    #마지막 단어가 있다면, 문장에 추가한다.\n",
    "    if word != \"\":\n",
    "        sentence.append(\"\".join(word))\n",
    "    sentence.reverse()\n",
    "    return \" \".join(sentence)\n",
    "\n",
    "if __name__ == \"__main__\":\n",
    "    str1 = \"파이썬 알고리즘 정말 재미있다\"\n",
    "    str2 = reverse_words_brute(str1)\n",
    "    print(str2)"
   ]
  },
  {
   "cell_type": "code",
   "execution_count": 12,
   "metadata": {},
   "outputs": [
    {
     "name": "stdout",
     "output_type": "stream",
     "text": [
      "재미있다 정말 알고리즘 파이썬\n"
     ]
    }
   ],
   "source": [
    "def reversing_words_slice(word):\n",
    "    new_word = []\n",
    "    words = word.split(\" \")\n",
    "    for word in words[::-1]:\n",
    "        new_word.append(word)\n",
    "    return \" \".join(new_word)\n",
    "\n",
    "if __name__ == \"__main__\":\n",
    "    str1 = \"파이썬 알고리즘 정말 재미있다\"\n",
    "    str2 = reversing_words_slice(str1)\n",
    "    print(str2)"
   ]
  },
  {
   "cell_type": "code",
   "execution_count": 14,
   "metadata": {},
   "outputs": [
    {
     "name": "stdout",
     "output_type": "stream",
     "text": [
      "재미있다 정말 알고리즘 파이썬\n",
      "재미있다 정말 알고리즘 파이썬\n"
     ]
    }
   ],
   "source": [
    "def reversing_words(str1):\n",
    "    words = str1.split(\" \")\n",
    "    rev_set = \" \".join(reversed(words))\n",
    "    return rev_set\n",
    "\n",
    "def reversing_words2(str1):\n",
    "    words = str1.split(\" \")\n",
    "    words.reverse()\n",
    "    return \" \".join(words)\n",
    "\n",
    "if __name__ == \"__main__\":\n",
    "    str1 = \"파이썬 알고리즘 정말 재미있다\"\n",
    "    str2 = reversing_words(str1)\n",
    "    str3 = reversing_words2(str1)\n",
    "    print(str2)\n",
    "    print(str3)"
   ]
  },
  {
   "cell_type": "code",
   "execution_count": 15,
   "metadata": {},
   "outputs": [
    {
     "name": "stdout",
     "output_type": "stream",
     "text": [
      "a2b1c4a3\n"
     ]
    }
   ],
   "source": [
    "def str_compression(s):\n",
    "    count, last = 1, \"\"\n",
    "    list_aux = []\n",
    "    for i, c in enumerate(s):\n",
    "        if last == c:\n",
    "            count += 1\n",
    "        else:\n",
    "            if i != 0:\n",
    "                list_aux.append(str(count))\n",
    "            list_aux.append(c)\n",
    "            count = 1\n",
    "            last =c\n",
    "    list_aux.append(str(count))\n",
    "    return \"\".join(list_aux)\n",
    "\n",
    "if __name__ == \"__main__\":\n",
    "    result = str_compression(\"aabccccaaa\")\n",
    "    print(result)"
   ]
  },
  {
   "cell_type": "code",
   "execution_count": 16,
   "metadata": {},
   "outputs": [
    {
     "name": "stdout",
     "output_type": "stream",
     "text": [
      "['012', '021', '102', '120', '201', '210']\n",
      "['012', '021', '102', '120', '201', '210']\n"
     ]
    }
   ],
   "source": [
    "import itertools\n",
    "\n",
    "def perm(s):\n",
    "    if len(s) < 2:\n",
    "        return s\n",
    "    res = []\n",
    "    for i, c in enumerate(s):\n",
    "        for cc in perm(s[:i] + s[i+1:]):\n",
    "            res.append(c + cc)\n",
    "    return res\n",
    "\n",
    "def perm2(s):\n",
    "    res = itertools.permutations(s)\n",
    "    return [\"\".join(i) for i in res]\n",
    "\n",
    "if __name__ == \"__main__\":\n",
    "    val = \"012\"\n",
    "    print(perm(val))\n",
    "    print(perm2(val))"
   ]
  },
  {
   "cell_type": "code",
   "execution_count": 18,
   "metadata": {},
   "outputs": [
    {
     "name": "stdout",
     "output_type": "stream",
     "text": [
      "['a', 'ab', 'abc', 'ac', 'acb', 'b', 'ba', 'bac', 'bc', 'bca', 'c', 'ca', 'cab', 'cb', 'cba']\n"
     ]
    }
   ],
   "source": [
    "def combination(s):\n",
    "    if len(s) < 2:\n",
    "        return s\n",
    "    res = []\n",
    "    for i, c in enumerate(s):\n",
    "        res.append(c) # 추가된 부분\n",
    "        for j in combination(s[:i] + s[i+1:]):\n",
    "            res.append(c + j)\n",
    "    return res\n",
    "\n",
    "if __name__ == \"__main__\":\n",
    "    result = combination(\"abc\")\n",
    "    print(result)"
   ]
  },
  {
   "cell_type": "code",
   "execution_count": 21,
   "metadata": {},
   "outputs": [
    {
     "name": "stdout",
     "output_type": "stream",
     "text": [
      "True\n",
      "True\n",
      "False\n",
      "\n",
      "True\n",
      "True\n",
      "False\n",
      "\n",
      "True\n",
      "True\n",
      "False\n",
      "\n"
     ]
    }
   ],
   "source": [
    "def is_palindrome(s):\n",
    "    l = s.split(\" \")\n",
    "    s2 = \"\".join(l)\n",
    "    return s2 == s2[::-1]\n",
    "\n",
    "def is_palindrome2(s):\n",
    "    l = len(s)\n",
    "    f, b = 0, l-1\n",
    "    while f < l // 2:\n",
    "        while s[f] == \" \":\n",
    "            f += 1\n",
    "        while s[b] == \" \":\n",
    "            b -= 1\n",
    "        if s[f] != s[b]:\n",
    "            return False\n",
    "        f += 1\n",
    "        b -= 1\n",
    "    return True\n",
    "\n",
    "def is_palindrome3(s):\n",
    "    s = s.strip()\n",
    "    if len(s) < 2:\n",
    "        return True\n",
    "    if s[0] == s[-1]:\n",
    "        return is_palindrome(s[1:-1])\n",
    "    else:\n",
    "        return False\n",
    "    \n",
    "if __name__ == \"__main__\":\n",
    "    str1 = \"다시 합창합시다\"\n",
    "    str2 = \"\"\n",
    "    str3 = \"hello\"\n",
    "    print(is_palindrome(str1))\n",
    "    print(is_palindrome(str2))\n",
    "    print(is_palindrome(str3))\n",
    "    print()\n",
    "    print(is_palindrome2(str1))\n",
    "    print(is_palindrome2(str2))\n",
    "    print(is_palindrome2(str3))\n",
    "    print()\n",
    "    print(is_palindrome3(str1))\n",
    "    print(is_palindrome3(str2))\n",
    "    print(is_palindrome3(str3))\n",
    "    print()"
   ]
  },
  {
   "cell_type": "code",
   "execution_count": null,
   "metadata": {},
   "outputs": [],
   "source": []
  }
 ],
 "metadata": {
  "kernelspec": {
   "display_name": "Python 3",
   "language": "python",
   "name": "python3"
  },
  "language_info": {
   "codemirror_mode": {
    "name": "ipython",
    "version": 3
   },
   "file_extension": ".py",
   "mimetype": "text/x-python",
   "name": "python",
   "nbconvert_exporter": "python",
   "pygments_lexer": "ipython3",
   "version": "3.8.5"
  }
 },
 "nbformat": 4,
 "nbformat_minor": 4
}
