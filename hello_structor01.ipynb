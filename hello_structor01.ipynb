{
 "cells": [
  {
   "cell_type": "code",
   "execution_count": 3,
   "metadata": {},
   "outputs": [
    {
     "name": "stdout",
     "output_type": "stream",
     "text": [
      "10\n"
     ]
    }
   ],
   "source": [
    "print((999).bit_length())"
   ]
  },
  {
   "cell_type": "code",
   "execution_count": 4,
   "metadata": {},
   "outputs": [
    {
     "name": "stdout",
     "output_type": "stream",
     "text": [
      "11\n"
     ]
    }
   ],
   "source": [
    "s = '11'\n",
    "d = int(s)\n",
    "print(d)\n"
   ]
  },
  {
   "cell_type": "code",
   "execution_count": 5,
   "metadata": {},
   "outputs": [
    {
     "name": "stdout",
     "output_type": "stream",
     "text": [
      "3\n"
     ]
    }
   ],
   "source": [
    "b = int(s, 2)\n",
    "print(b)"
   ]
  },
  {
   "cell_type": "code",
   "execution_count": 6,
   "metadata": {},
   "outputs": [
    {
     "name": "stdout",
     "output_type": "stream",
     "text": [
      "1.1102230246251565e-16\n",
      "0\n",
      "True\n",
      "0.0\n",
      "0\n",
      "True\n",
      "2.220446049250313e-16\n",
      "0\n",
      "True\n",
      "1.734723475976807e-18\n",
      "0\n",
      "True\n"
     ]
    },
    {
     "data": {
      "text/plain": [
       "True"
      ]
     },
     "execution_count": 6,
     "metadata": {},
     "output_type": "execute_result"
    }
   ],
   "source": [
    "def a(x, y, places=7):\n",
    "    print(str(abs(x-y)))\n",
    "    print(str(round(abs(x-y))))\n",
    "    print(str(round(abs(x-y), places)==0))\n",
    "    return round(abs(x-y), places)==0\n",
    "\n",
    "a(0.2 * 3 , 0.6)\n",
    "a(1.2 - 0.2, 1.0)\n",
    "a(1.2 - 0.1, 1.1)\n",
    "a(0.1 * 0.1, 0.01)\n"
   ]
  },
  {
   "cell_type": "code",
   "execution_count": 7,
   "metadata": {},
   "outputs": [
    {
     "name": "stdout",
     "output_type": "stream",
     "text": [
      "(7, 3)\n"
     ]
    }
   ],
   "source": [
    "print(divmod(45,6))"
   ]
  },
  {
   "cell_type": "code",
   "execution_count": 8,
   "metadata": {},
   "outputs": [
    {
     "name": "stdout",
     "output_type": "stream",
     "text": [
      "110.0\n",
      "113.87\n"
     ]
    }
   ],
   "source": [
    "print(round(113.866, -1))\n",
    "print(round(113.866, 2))"
   ]
  },
  {
   "cell_type": "code",
   "execution_count": 9,
   "metadata": {},
   "outputs": [
    {
     "data": {
      "text/plain": [
       "(11, 4)"
      ]
     },
     "execution_count": 9,
     "metadata": {},
     "output_type": "execute_result"
    }
   ],
   "source": [
    "2.75.as_integer_ratio()"
   ]
  },
  {
   "cell_type": "code",
   "execution_count": 10,
   "metadata": {},
   "outputs": [
    {
     "name": "stdout",
     "output_type": "stream",
     "text": [
      "1.2\n",
      "10.0\n",
      "True\n",
      "True\n",
      "테스트 통과!\n"
     ]
    }
   ],
   "source": [
    "from fractions import Fraction\n",
    "\n",
    "def rounding_floats(number1, places):\n",
    "    return round(number1, places)\n",
    "\n",
    "def float_to_fractions(number):\n",
    "    return Fraction(*number.as_integer_ratio())\n",
    "\n",
    "def get_denominator(number1, number2):\n",
    "    \"\"\"분모를 반환한다.\"\"\"\n",
    "    a = Fraction(number1, number2)\n",
    "    return a.denominator\n",
    "\n",
    "def get_numerator(number1, number2):\n",
    "    \"\"\"분자를 반환한다.\"\"\"\n",
    "    a = Fraction(number1, number2)\n",
    "    return a.numerator\n",
    "\n",
    "def test_testing_floats():\n",
    "    number1 = 1.25\n",
    "    number2 = 1\n",
    "    number3 = -1\n",
    "    number4 = 5/4\n",
    "    number6 = 6\n",
    "    assert(rounding_floats(number1, number2) == 1.2)\n",
    "    print(str(rounding_floats(number1, number2)))\n",
    "    assert(rounding_floats(number1*10, number3) == 10)\n",
    "    print(str(rounding_floats(number1*10, number3)))\n",
    "    assert(float_to_fractions(number1) == number4)\n",
    "    print(str(float_to_fractions(number1) == number4))\n",
    "    assert(get_denominator(number2, number6) == number6)\n",
    "    print(str(get_denominator(number2, number6) == number6))\n",
    "    print(\"테스트 통과!\")\n",
    "\n",
    "if __name__ == \"__main__\":\n",
    "    test_testing_floats()"
   ]
  },
  {
   "cell_type": "code",
   "execution_count": 16,
   "metadata": {},
   "outputs": [
    {
     "data": {
      "text/plain": [
       "True"
      ]
     },
     "execution_count": 16,
     "metadata": {},
     "output_type": "execute_result"
    }
   ],
   "source": [
    "sum(0.1 for i in range(10))\n",
    "from decimal import Decimal\n",
    "sum(Decimal(\"0.1\") for i in range(10)) == Decimal(\"1.0\")"
   ]
  },
  {
   "cell_type": "code",
   "execution_count": 17,
   "metadata": {},
   "outputs": [
    {
     "data": {
      "text/plain": [
       "'0b1111100111'"
      ]
     },
     "execution_count": 17,
     "metadata": {},
     "output_type": "execute_result"
    }
   ],
   "source": [
    "bin(999)"
   ]
  },
  {
   "cell_type": "code",
   "execution_count": 18,
   "metadata": {},
   "outputs": [
    {
     "data": {
      "text/plain": [
       "'0o1747'"
      ]
     },
     "execution_count": 18,
     "metadata": {},
     "output_type": "execute_result"
    }
   ],
   "source": [
    "oct(999)"
   ]
  },
  {
   "cell_type": "code",
   "execution_count": 19,
   "metadata": {},
   "outputs": [
    {
     "data": {
      "text/plain": [
       "'0x3e7'"
      ]
     },
     "execution_count": 19,
     "metadata": {},
     "output_type": "execute_result"
    }
   ],
   "source": [
    "hex(999)"
   ]
  },
  {
   "cell_type": "code",
   "execution_count": 2,
   "metadata": {},
   "outputs": [
    {
     "name": "stdout",
     "output_type": "stream",
     "text": [
      "테스트 통과!\n"
     ]
    }
   ],
   "source": [
    "def convert_to_decimal(number, base):\n",
    "    multiplier, result = 1, 0\n",
    "    while number > 0:\n",
    "        result += number % 10 * multiplier\n",
    "        multiplier *= base\n",
    "        number = number // 10\n",
    "    return result\n",
    "\n",
    "def test_convert_to_decimal():\n",
    "    number, base = 1001, 2\n",
    "    assert(convert_to_decimal(number, base) == 9)\n",
    "    print(\"테스트 통과!\")\n",
    "\n",
    "if __name__ == \"__main__\":\n",
    "    test_convert_to_decimal()\n",
    "    "
   ]
  },
  {
   "cell_type": "code",
   "execution_count": 5,
   "metadata": {},
   "outputs": [
    {
     "name": "stdout",
     "output_type": "stream",
     "text": [
      "테스트 통과!\n"
     ]
    }
   ],
   "source": [
    "def convert_from_decimal(number, base):\n",
    "    multiplier, result = 1, 0\n",
    "    while number > 0:\n",
    "        result += number % base * multiplier\n",
    "        multiplier *= 10\n",
    "        number = number // base\n",
    "    return result\n",
    "\n",
    "def test_convert_from_decimal():\n",
    "    number, base = 9, 2\n",
    "    assert(convert_from_decimal(number, base) == 1001)\n",
    "    print(\"테스트 통과!\")\n",
    "    \n",
    "if __name__ == \"__main__\":\n",
    "    test_convert_from_decimal()"
   ]
  },
  {
   "cell_type": "code",
   "execution_count": 6,
   "metadata": {},
   "outputs": [
    {
     "name": "stdout",
     "output_type": "stream",
     "text": [
      "테스트 통과!\n"
     ]
    }
   ],
   "source": [
    "def convert_from_decimal_larger_bases(number, base):\n",
    "    strings = \"0123456789ABCDEFGHIJ\"\n",
    "    result = \"\"\n",
    "    while number > 0:\n",
    "        digit = number % base\n",
    "        result = strings[digit] + result\n",
    "        number = number // base\n",
    "    return result\n",
    "\n",
    "def test_convert_from_decimal_larger_bases():\n",
    "    number, base = 31, 16\n",
    "    assert(convert_from_decimal_larger_bases(number, base) == \"1F\")\n",
    "    print(\"테스트 통과!\")\n",
    "    \n",
    "if __name__ == \"__main__\":\n",
    "    test_convert_from_decimal_larger_bases()"
   ]
  },
  {
   "cell_type": "code",
   "execution_count": 8,
   "metadata": {},
   "outputs": [
    {
     "name": "stdout",
     "output_type": "stream",
     "text": [
      "테스트 통과!\n"
     ]
    }
   ],
   "source": [
    "def convert_dec_to_any_base_rec(number, base):\n",
    "    convertString = \"0123456789ABCDEF\"\n",
    "    if number < base:\n",
    "        return convertString[number]\n",
    "    else:\n",
    "        return convert_dec_to_any_base_rec(number // base, base) + convertString[number % base]\n",
    "\n",
    "def test_convert_dec_to_any_rec():\n",
    "    number = 9\n",
    "    base = 2\n",
    "    assert(convert_dec_to_any_base_rec(number, base) == \"1001\")\n",
    "    print(\"테스트 통과!\")\n",
    "    \n",
    "if __name__ == \"__main__\":\n",
    "    test_convert_dec_to_any_rec()"
   ]
  },
  {
   "cell_type": "code",
   "execution_count": 9,
   "metadata": {},
   "outputs": [
    {
     "name": "stdout",
     "output_type": "stream",
     "text": [
      "테스트 통과\n"
     ]
    }
   ],
   "source": [
    "def finding_gcd(a, b):\n",
    "    while(b != 0):\n",
    "        result = b\n",
    "        a, b = b, a % b\n",
    "    return result\n",
    "\n",
    "def test_finding_gcd():\n",
    "    number1 = 21\n",
    "    number2 = 12\n",
    "    assert(finding_gcd(number1, number2) == 3)\n",
    "    print(\"테스트 통과\")\n",
    "\n",
    "if __name__ == \"__main__\":\n",
    "    test_finding_gcd()"
   ]
  },
  {
   "cell_type": "code",
   "execution_count": 11,
   "metadata": {},
   "outputs": [
    {
     "name": "stdout",
     "output_type": "stream",
     "text": [
      "2\n",
      "4\n",
      "4\n",
      "[3, 4]\n",
      "[2, 4, 1]\n",
      "[3, 4, 1, 2]\n",
      "8\n",
      "8\n"
     ]
    }
   ],
   "source": [
    "import random\n",
    "\n",
    "def testing_random():\n",
    "    \"\"\"random 모듈 테스트\"\"\"\n",
    "    values = [1, 2, 3, 4]\n",
    "    print(random.choice(values))\n",
    "    print(random.choice(values))\n",
    "    print(random.choice(values))\n",
    "    print(random.sample(values, 2))\n",
    "    print(random.sample(values, 3))\n",
    "    \n",
    "    \"\"\"values 리스트를 섞는다.\"\"\"\n",
    "    random.shuffle(values)\n",
    "    print(values)\n",
    "    \n",
    "    \"\"\" 0~10의 임의의 정수를 생성한다.\"\"\"\n",
    "    print(random.randint(0, 10))\n",
    "    print(random.randint(0, 10))\n",
    "    \n",
    "if __name__ == \"__main__\":\n",
    "    testing_random()"
   ]
  },
  {
   "cell_type": "code",
   "execution_count": 12,
   "metadata": {},
   "outputs": [
    {
     "name": "stdout",
     "output_type": "stream",
     "text": [
      "테스트 통과!\n"
     ]
    }
   ],
   "source": [
    "import math\n",
    "\n",
    "def find_fibonacci_seq_iter(n):\n",
    "    if n < 2: return n\n",
    "    a, b = 0, 1\n",
    "    for i in range(n):\n",
    "        a, b = b, a + b\n",
    "    return a\n",
    "\n",
    "def find_fibonacci_seq_rec(n):\n",
    "    if n < 2: return n\n",
    "    return find_fibonacci_seq_rec(n - 1) + find_fibonacci_seq_rec(n - 2)\n",
    "\n",
    "def find_fibonacci_seq_form(n):\n",
    "    sq5 = math.sqrt(5)\n",
    "    phi= (1 + sq5) / 2\n",
    "    return int(math.floor(phi ** n / sq5))\n",
    "\n",
    "def test_find_fib():\n",
    "    n = 10\n",
    "    assert(find_fibonacci_seq_rec(n) == 55)\n",
    "    assert(find_fibonacci_seq_iter(n) == 55)\n",
    "    assert(find_fibonacci_seq_form(n) == 55)\n",
    "    print(\"테스트 통과!\")\n",
    "\n",
    "if __name__ == \"__main__\":\n",
    "    test_find_fib()"
   ]
  },
  {
   "cell_type": "code",
   "execution_count": 13,
   "metadata": {},
   "outputs": [
    {
     "name": "stdout",
     "output_type": "stream",
     "text": [
      "1 1 2 3 5 8 13 21 34 55 "
     ]
    }
   ],
   "source": [
    "def fib_generator():\n",
    "    a, b = 0, 1\n",
    "    while True:\n",
    "        yield b\n",
    "        a, b = b, a + b\n",
    "\n",
    "if __name__ == \"__main__\":\n",
    "    fg = fib_generator()\n",
    "    for _ in range(10):\n",
    "        print(next(fg), end= \" \")"
   ]
  },
  {
   "cell_type": "code",
   "execution_count": 15,
   "metadata": {},
   "outputs": [
    {
     "name": "stdout",
     "output_type": "stream",
     "text": [
      "테스트 통과!\n"
     ]
    }
   ],
   "source": [
    "import math\n",
    "import random\n",
    "\n",
    "def finding_prime(number):\n",
    "    num = abs(number)\n",
    "    if num < 4 : return True\n",
    "    for x in range(2, num):\n",
    "        if num % x == 0:\n",
    "            return False\n",
    "    return True\n",
    "\n",
    "def finding_prime_sqrt(number):\n",
    "    num = abs(number)\n",
    "    if num < 4 : return True\n",
    "    for x in range(2, int(math.sqrt(num)) + 1):\n",
    "        if number % x == 0:\n",
    "            return False\n",
    "    return True\n",
    "\n",
    "def finding_prime_fermat(number):\n",
    "    if number <= 102:\n",
    "        for a in range(2, number):\n",
    "            if pow(a, number-1, number) != 1:\n",
    "                return False\n",
    "        return True\n",
    "    else:\n",
    "        for i in range(100):\n",
    "            a = random.randint(2, number -1)\n",
    "            if pow(a, number -1, number) != 1:\n",
    "                return False\n",
    "        return True\n",
    "    \n",
    "def test_finding_prime():\n",
    "    number1 = 17\n",
    "    number2 = 20\n",
    "    assert(finding_prime(number1) is True)\n",
    "    assert(finding_prime(number2) is False)\n",
    "    assert(finding_prime_sqrt(number1) is True)\n",
    "    assert(finding_prime_sqrt(number2) is False)\n",
    "    assert(finding_prime_fermat(number1) is True)\n",
    "    assert(finding_prime_fermat(number2) is False)\n",
    "    print(\"테스트 통과!\")\n",
    "\n",
    "if __name__ == \"__main__\":\n",
    "    test_finding_prime()"
   ]
  },
  {
   "cell_type": "code",
   "execution_count": 18,
   "metadata": {},
   "outputs": [
    {
     "name": "stdout",
     "output_type": "stream",
     "text": [
      "7\n"
     ]
    }
   ],
   "source": [
    "import math\n",
    "import random\n",
    "import sys\n",
    "\n",
    "def finding_prime_sqrt(number):\n",
    "    num = abs(number)\n",
    "    if num < 4:\n",
    "        return True\n",
    "    for x in range(2, int(math.sqrt(num)) + 1):\n",
    "        if number % x == 0:\n",
    "            return False\n",
    "    return True\n",
    "\n",
    "def generator_prime(number=3):\n",
    "    while 1:\n",
    "        p = random.randint(pow(2, number-2), pow(2, number-1)-1)\n",
    "        p = 2 * p + 1\n",
    "        if finding_prime_sqrt(p):\n",
    "            return p\n",
    "\n",
    "if __name__ == \"__main__\":\n",
    "    print(generator_prime(3))"
   ]
  },
  {
   "cell_type": "code",
   "execution_count": 21,
   "metadata": {},
   "outputs": [
    {
     "name": "stdout",
     "output_type": "stream",
     "text": [
      "[[11 12 13]\n",
      " [21 22 23]\n",
      " [31 32 33]]\n"
     ]
    }
   ],
   "source": [
    "import numpy as np\n",
    "\n",
    "arr = np.array( ((11, 12, 13), (21, 22, 23), (31, 32, 33)) )\n",
    "print(arr)"
   ]
  },
  {
   "cell_type": "code",
   "execution_count": 22,
   "metadata": {},
   "outputs": [
    {
     "data": {
      "text/plain": [
       "2"
      ]
     },
     "execution_count": 22,
     "metadata": {},
     "output_type": "execute_result"
    }
   ],
   "source": [
    "arr.ndim"
   ]
  },
  {
   "cell_type": "code",
   "execution_count": 23,
   "metadata": {},
   "outputs": [
    {
     "name": "stdout",
     "output_type": "stream",
     "text": [
      "[1 2 3]\n",
      "[2 4 6]\n",
      "[11 12 13]\n",
      "[1.         1.41421356 1.73205081]\n",
      "[ 0.54030231 -0.41614684 -0.9899925 ]\n",
      "[-2 -2 -2]\n",
      "[ 1 10 10]\n",
      "[[1 2 3]\n",
      " [3 4 5]\n",
      " [1 2 3]]\n",
      "[[1 3 1]\n",
      " [2 4 2]\n",
      " [3 5 3]]\n",
      "[[0. 0. 0. 0. 0. 0. 0. 0. 0. 0.]\n",
      " [0. 0. 0. 0. 0. 0. 0. 0. 0. 0.]\n",
      " [0. 0. 0. 0. 0. 0. 0. 0. 0. 0.]\n",
      " [0. 0. 0. 0. 0. 0. 0. 0. 0. 0.]\n",
      " [0. 0. 0. 0. 0. 0. 0. 0. 0. 0.]\n",
      " [0. 0. 0. 0. 0. 0. 0. 0. 0. 0.]\n",
      " [0. 0. 0. 0. 0. 0. 0. 0. 0. 0.]\n",
      " [0. 0. 0. 0. 0. 0. 0. 0. 0. 0.]\n",
      " [0. 0. 0. 0. 0. 0. 0. 0. 0. 0.]\n",
      " [0. 0. 0. 0. 0. 0. 0. 0. 0. 0.]]\n",
      "[[1. 1. 1. 1. 1. 1. 1. 1. 1. 1.]\n",
      " [1. 1. 1. 1. 1. 1. 1. 1. 1. 1.]\n",
      " [1. 1. 1. 1. 1. 1. 1. 1. 1. 1.]\n",
      " [1. 1. 1. 1. 1. 1. 1. 1. 1. 1.]\n",
      " [1. 1. 1. 1. 1. 1. 1. 1. 1. 1.]\n",
      " [1. 1. 1. 1. 1. 1. 1. 1. 1. 1.]\n",
      " [1. 1. 1. 1. 1. 1. 1. 1. 1. 1.]\n",
      " [1. 1. 1. 1. 1. 1. 1. 1. 1. 1.]\n",
      " [1. 1. 1. 1. 1. 1. 1. 1. 1. 1.]\n",
      " [1. 1. 1. 1. 1. 1. 1. 1. 1. 1.]]\n",
      "[10. 10. 10. 10. 10. 10. 10. 10. 10. 10.]\n",
      "[2. 2. 2. 2. 2. 2. 2. 2. 2. 2.]\n"
     ]
    }
   ],
   "source": [
    "import numpy as np\n",
    "\n",
    "def testing_numpy():\n",
    "    '''tests many features of numpy'''\n",
    "    ax = np.array([1, 2, 3])\n",
    "    ay = np.array([3, 4, 5])\n",
    "    print(ax)\n",
    "    print(ax*2)\n",
    "    print(ax+10)\n",
    "    print(np.sqrt(ax))\n",
    "    print(np.cos(ax))\n",
    "    print(ax - ay)\n",
    "    print(np.where(ax<2, ax, 10))\n",
    "    \n",
    "    m = np.matrix([ax, ay, ax])\n",
    "    print(m)\n",
    "    print(m.T)\n",
    "    \n",
    "    grid1 = np.zeros(shape=(10, 10), dtype=float)\n",
    "    grid2 = np.ones(shape=(10, 10), dtype=float)\n",
    "    print(grid1)\n",
    "    print(grid2)\n",
    "    print(grid1[1] + 10)\n",
    "    print(grid2[:,2] * 2)\n",
    "\n",
    "if __name__ == \"__main__\":\n",
    "    testing_numpy()"
   ]
  },
  {
   "cell_type": "code",
   "execution_count": 26,
   "metadata": {},
   "outputs": [
    {
     "name": "stdout",
     "output_type": "stream",
     "text": [
      "2.748103618621826\n",
      "0.045885562896728516\n"
     ]
    }
   ],
   "source": [
    "import numpy\n",
    "import time\n",
    "\n",
    "def trad_version():\n",
    "    t1 = time.time()\n",
    "    X = range(10000000)\n",
    "    Y = range(10000000)\n",
    "    Z = []\n",
    "    for i in range(len(X)):\n",
    "        Z.append(X[i] + Y[i])\n",
    "    return time.time() - t1\n",
    "\n",
    "def numpy_version():\n",
    "    t1 = time.time()\n",
    "    X = numpy.arange(10000000)\n",
    "    Y = numpy.arange(10000000)\n",
    "    Z = X + Y\n",
    "    return time.time() - t1\n",
    "\n",
    "if __name__ == \"__main__\":\n",
    "    print(trad_version())\n",
    "    print(numpy_version())"
   ]
  },
  {
   "cell_type": "code",
   "execution_count": null,
   "metadata": {},
   "outputs": [],
   "source": []
  }
 ],
 "metadata": {
  "interpreter": {
   "hash": "295845396bdb3b6def0b8ce8ed11e0d3fa8a9928cd63b91bd75522f757929385"
  },
  "kernelspec": {
   "display_name": "Python 3",
   "language": "python",
   "name": "python3"
  },
  "language_info": {
   "codemirror_mode": {
    "name": "ipython",
    "version": 3
   },
   "file_extension": ".py",
   "mimetype": "text/x-python",
   "name": "python",
   "nbconvert_exporter": "python",
   "pygments_lexer": "ipython3",
   "version": "3.8.5"
  }
 },
 "nbformat": 4,
 "nbformat_minor": 2
}
